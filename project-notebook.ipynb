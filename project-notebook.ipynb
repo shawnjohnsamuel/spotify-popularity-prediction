{
 "cells": [
  {
   "cell_type": "markdown",
   "metadata": {},
   "source": [
    "![for sale image, from https://jpc-chicago.com/for-sale-signs-make-custom-real-estate-signs-and-sale-yard-sign/](images/forsale.jpg)\n",
    "\n",
    "# Predicting the Popularity of Songs on Spotify\n",
    "**Author:** Shawn Samuel"
   ]
  },
  {
   "cell_type": "markdown",
   "metadata": {},
   "source": [
    "---\n",
    "## Overview\n",
    "\n",
    "FILL IN AT END"
   ]
  },
  {
   "cell_type": "markdown",
   "metadata": {},
   "source": [
    "---\n",
    "## Business Problem\n",
    "\n",
    "There are a lot of songs on Spotify. To the tune of [70 million tracks](https://newsroom.spotify.com/company-info/) as of December 2020 with an average of 60,000 songs being added every day. There are many variables that determine which songs out of this massive library to become popular. Considering that the worlds largest 4 music lables own [87% of the content on Spotify](https://www.thelocal.se/20180302/the-story-of-spotify-swedens-controversial-king-of-music-streaming/), what drives the popularity of a particular song is of great interest to these entities. Our goal with this project is to build a machine learning model that can predict whether a song will be popular or not based on a set of features. The popularity of the song will be based on Spotify's own proprietry ranking. This will allow record labels to determine which songs are worth putting more marketing dollars behind. \n",
    "\n",
    "\n",
    "When making decisions regarding which models and metrics to use, it is always important to determine which errors will be more costly. For our particularl case - there are the ramifications of errors:  \n",
    "- **Type I Error (FP)** = predicting a song *will* be popular when it *will not*  \n",
    "- **Type II Error (FN)** = predicting a song *will not* be popular when it *will*  \n",
    "\n",
    "In this particular business case - if a song is predicted to be positive, I would recommend a record label put marketing dollars behind that song to generate more plays and more profit. A *Type I Error* would cause money to be lost up front. This would mean increased cost and also less profit - leaving the record label in the red. A *Type II Error* on the other hand, would be a loss of potential profit due to the lost opportunity of a popular song. With that in mind we would emphasis the **Precision** score as our primary metric to minimize *False Positives*. We will also consider the **F1 Score** to give us a balance of Type I and Type II errors."
   ]
  },
  {
   "cell_type": "markdown",
   "metadata": {},
   "source": [
    "---\n",
    "## Data Understanding\n",
    "\n",
    "The [spotify data set]('data/spotify_data.csv') was obtained from [Kaggle](https://www.kaggle.com/yamaerenay/spotify-dataset-19212020-160k-tracks) and contains audio features of 175k+ songs released in between 1921 and 2021. The features are described below:\n",
    "\n",
    "Numerical:\n",
    "- acousticness (Ranges from 0 to 1)\n",
    "- danceability (Ranges from 0 to 1)\n",
    "- energy (Ranges from 0 to 1)\n",
    "- duration_ms (Integer typically ranging from 200k to 300k)\n",
    "- instrumentalness (Ranges from 0 to 1)\n",
    "- valence (Ranges from 0 to 1)\n",
    "- popularity (Ranges from 0 to 100)\n",
    "- tempo (Float typically ranging from 50 to 150)\n",
    "- liveness (Ranges from 0 to 1)\n",
    "- loudness (Float typically ranging from -60 to 0)\n",
    "- speechiness (Ranges from 0 to 1)\n",
    "- year (Ranges from 1921 to 2020)  \n",
    "\n",
    "Dummy:\n",
    "- mode (0 = Minor, 1 = Major)\n",
    "- explicit (0 = No explicit content, 1 = Explicit content)  \n",
    "\n",
    "Categorical:\n",
    "- key (All keys on octave encoded as values ranging from 0 to 11, starting on C as 0, C# as 1 and so on…)\n",
    "- artists (List of artists mentioned)\n",
    "- release_date (Date of release mostly in yyyy-mm-dd format, however precision of date may vary)\n",
    "- name (Name of the song)"
   ]
  },
  {
   "cell_type": "markdown",
   "metadata": {},
   "source": [
    "---\n",
    "## Data Preparation"
   ]
  },
  {
   "cell_type": "code",
   "execution_count": 60,
   "metadata": {},
   "outputs": [],
   "source": [
    "#imports\n",
    "import pandas as pd\n",
    "import numpy as np\n",
    "import matplotlib.pyplot as plt\n",
    "#import matplotlib.ticker as ticker #to format axes\n",
    "%matplotlib inline\n",
    "import seaborn as sns\n",
    "import warnings\n",
    "warnings.filterwarnings(\"ignore\") #supress warnings that don't affect program\n",
    "from pprint import pprint\n",
    "\n",
    "from sklearn.pipeline import Pipeline\n",
    "from sklearn.preprocessing import MinMaxScaler, StandardScaler\n",
    "from sklearn.linear_model import LogisticRegression\n",
    "from sklearn.tree import DecisionTreeClassifier, plot_tree\n",
    "from sklearn.ensemble import RandomForestClassifier, GradientBoostingClassifier\n",
    "from sklearn.model_selection import train_test_split, cross_val_score, GridSearchCV\n",
    "from sklearn.metrics import accuracy_score, precision_score, f1_score, roc_auc_score, plot_confusion_matrix\n",
    "from xgboost import XGBClassifier\n",
    "from xgboost import plot_tree"
   ]
  },
  {
   "cell_type": "code",
   "execution_count": 2,
   "metadata": {},
   "outputs": [],
   "source": [
    "df = pd.read_csv('data/spotify_data.csv')"
   ]
  },
  {
   "cell_type": "code",
   "execution_count": 3,
   "metadata": {
    "scrolled": true
   },
   "outputs": [
    {
     "data": {
      "text/html": [
       "<div>\n",
       "<style scoped>\n",
       "    .dataframe tbody tr th:only-of-type {\n",
       "        vertical-align: middle;\n",
       "    }\n",
       "\n",
       "    .dataframe tbody tr th {\n",
       "        vertical-align: top;\n",
       "    }\n",
       "\n",
       "    .dataframe thead th {\n",
       "        text-align: right;\n",
       "    }\n",
       "</style>\n",
       "<table border=\"1\" class=\"dataframe\">\n",
       "  <thead>\n",
       "    <tr style=\"text-align: right;\">\n",
       "      <th></th>\n",
       "      <th>acousticness</th>\n",
       "      <th>artists</th>\n",
       "      <th>danceability</th>\n",
       "      <th>duration_ms</th>\n",
       "      <th>energy</th>\n",
       "      <th>explicit</th>\n",
       "      <th>id</th>\n",
       "      <th>instrumentalness</th>\n",
       "      <th>key</th>\n",
       "      <th>liveness</th>\n",
       "      <th>loudness</th>\n",
       "      <th>mode</th>\n",
       "      <th>name</th>\n",
       "      <th>popularity</th>\n",
       "      <th>release_date</th>\n",
       "      <th>speechiness</th>\n",
       "      <th>tempo</th>\n",
       "      <th>valence</th>\n",
       "      <th>year</th>\n",
       "    </tr>\n",
       "  </thead>\n",
       "  <tbody>\n",
       "    <tr>\n",
       "      <th>0</th>\n",
       "      <td>0.991000</td>\n",
       "      <td>['Mamie Smith']</td>\n",
       "      <td>0.598</td>\n",
       "      <td>168333</td>\n",
       "      <td>0.224</td>\n",
       "      <td>0</td>\n",
       "      <td>0cS0A1fUEUd1EW3FcF8AEI</td>\n",
       "      <td>0.000522</td>\n",
       "      <td>5</td>\n",
       "      <td>0.3790</td>\n",
       "      <td>-12.628</td>\n",
       "      <td>0</td>\n",
       "      <td>Keep A Song In Your Soul</td>\n",
       "      <td>12</td>\n",
       "      <td>1920</td>\n",
       "      <td>0.0936</td>\n",
       "      <td>149.976</td>\n",
       "      <td>0.6340</td>\n",
       "      <td>1920</td>\n",
       "    </tr>\n",
       "    <tr>\n",
       "      <th>1</th>\n",
       "      <td>0.643000</td>\n",
       "      <td>[\"Screamin' Jay Hawkins\"]</td>\n",
       "      <td>0.852</td>\n",
       "      <td>150200</td>\n",
       "      <td>0.517</td>\n",
       "      <td>0</td>\n",
       "      <td>0hbkKFIJm7Z05H8Zl9w30f</td>\n",
       "      <td>0.026400</td>\n",
       "      <td>5</td>\n",
       "      <td>0.0809</td>\n",
       "      <td>-7.261</td>\n",
       "      <td>0</td>\n",
       "      <td>I Put A Spell On You</td>\n",
       "      <td>7</td>\n",
       "      <td>1920-01-05</td>\n",
       "      <td>0.0534</td>\n",
       "      <td>86.889</td>\n",
       "      <td>0.9500</td>\n",
       "      <td>1920</td>\n",
       "    </tr>\n",
       "    <tr>\n",
       "      <th>2</th>\n",
       "      <td>0.993000</td>\n",
       "      <td>['Mamie Smith']</td>\n",
       "      <td>0.647</td>\n",
       "      <td>163827</td>\n",
       "      <td>0.186</td>\n",
       "      <td>0</td>\n",
       "      <td>11m7laMUgmOKqI3oYzuhne</td>\n",
       "      <td>0.000018</td>\n",
       "      <td>0</td>\n",
       "      <td>0.5190</td>\n",
       "      <td>-12.098</td>\n",
       "      <td>1</td>\n",
       "      <td>Golfing Papa</td>\n",
       "      <td>4</td>\n",
       "      <td>1920</td>\n",
       "      <td>0.1740</td>\n",
       "      <td>97.600</td>\n",
       "      <td>0.6890</td>\n",
       "      <td>1920</td>\n",
       "    </tr>\n",
       "    <tr>\n",
       "      <th>3</th>\n",
       "      <td>0.000173</td>\n",
       "      <td>['Oscar Velazquez']</td>\n",
       "      <td>0.730</td>\n",
       "      <td>422087</td>\n",
       "      <td>0.798</td>\n",
       "      <td>0</td>\n",
       "      <td>19Lc5SfJJ5O1oaxY0fpwfh</td>\n",
       "      <td>0.801000</td>\n",
       "      <td>2</td>\n",
       "      <td>0.1280</td>\n",
       "      <td>-7.311</td>\n",
       "      <td>1</td>\n",
       "      <td>True House Music - Xavier Santos &amp; Carlos Gomi...</td>\n",
       "      <td>17</td>\n",
       "      <td>1920-01-01</td>\n",
       "      <td>0.0425</td>\n",
       "      <td>127.997</td>\n",
       "      <td>0.0422</td>\n",
       "      <td>1920</td>\n",
       "    </tr>\n",
       "    <tr>\n",
       "      <th>4</th>\n",
       "      <td>0.295000</td>\n",
       "      <td>['Mixe']</td>\n",
       "      <td>0.704</td>\n",
       "      <td>165224</td>\n",
       "      <td>0.707</td>\n",
       "      <td>1</td>\n",
       "      <td>2hJjbsLCytGsnAHfdsLejp</td>\n",
       "      <td>0.000246</td>\n",
       "      <td>10</td>\n",
       "      <td>0.4020</td>\n",
       "      <td>-6.036</td>\n",
       "      <td>0</td>\n",
       "      <td>Xuniverxe</td>\n",
       "      <td>2</td>\n",
       "      <td>1920-10-01</td>\n",
       "      <td>0.0768</td>\n",
       "      <td>122.076</td>\n",
       "      <td>0.2990</td>\n",
       "      <td>1920</td>\n",
       "    </tr>\n",
       "  </tbody>\n",
       "</table>\n",
       "</div>"
      ],
      "text/plain": [
       "   acousticness                    artists  danceability  duration_ms  energy  \\\n",
       "0      0.991000            ['Mamie Smith']         0.598       168333   0.224   \n",
       "1      0.643000  [\"Screamin' Jay Hawkins\"]         0.852       150200   0.517   \n",
       "2      0.993000            ['Mamie Smith']         0.647       163827   0.186   \n",
       "3      0.000173        ['Oscar Velazquez']         0.730       422087   0.798   \n",
       "4      0.295000                   ['Mixe']         0.704       165224   0.707   \n",
       "\n",
       "   explicit                      id  instrumentalness  key  liveness  \\\n",
       "0         0  0cS0A1fUEUd1EW3FcF8AEI          0.000522    5    0.3790   \n",
       "1         0  0hbkKFIJm7Z05H8Zl9w30f          0.026400    5    0.0809   \n",
       "2         0  11m7laMUgmOKqI3oYzuhne          0.000018    0    0.5190   \n",
       "3         0  19Lc5SfJJ5O1oaxY0fpwfh          0.801000    2    0.1280   \n",
       "4         1  2hJjbsLCytGsnAHfdsLejp          0.000246   10    0.4020   \n",
       "\n",
       "   loudness  mode                                               name  \\\n",
       "0   -12.628     0                           Keep A Song In Your Soul   \n",
       "1    -7.261     0                               I Put A Spell On You   \n",
       "2   -12.098     1                                       Golfing Papa   \n",
       "3    -7.311     1  True House Music - Xavier Santos & Carlos Gomi...   \n",
       "4    -6.036     0                                          Xuniverxe   \n",
       "\n",
       "   popularity release_date  speechiness    tempo  valence  year  \n",
       "0          12         1920       0.0936  149.976   0.6340  1920  \n",
       "1           7   1920-01-05       0.0534   86.889   0.9500  1920  \n",
       "2           4         1920       0.1740   97.600   0.6890  1920  \n",
       "3          17   1920-01-01       0.0425  127.997   0.0422  1920  \n",
       "4           2   1920-10-01       0.0768  122.076   0.2990  1920  "
      ]
     },
     "execution_count": 3,
     "metadata": {},
     "output_type": "execute_result"
    }
   ],
   "source": [
    "df.head()"
   ]
  },
  {
   "cell_type": "code",
   "execution_count": 4,
   "metadata": {},
   "outputs": [
    {
     "name": "stdout",
     "output_type": "stream",
     "text": [
      "<class 'pandas.core.frame.DataFrame'>\n",
      "RangeIndex: 174389 entries, 0 to 174388\n",
      "Data columns (total 19 columns):\n",
      "acousticness        174389 non-null float64\n",
      "artists             174389 non-null object\n",
      "danceability        174389 non-null float64\n",
      "duration_ms         174389 non-null int64\n",
      "energy              174389 non-null float64\n",
      "explicit            174389 non-null int64\n",
      "id                  174389 non-null object\n",
      "instrumentalness    174389 non-null float64\n",
      "key                 174389 non-null int64\n",
      "liveness            174389 non-null float64\n",
      "loudness            174389 non-null float64\n",
      "mode                174389 non-null int64\n",
      "name                174389 non-null object\n",
      "popularity          174389 non-null int64\n",
      "release_date        174389 non-null object\n",
      "speechiness         174389 non-null float64\n",
      "tempo               174389 non-null float64\n",
      "valence             174389 non-null float64\n",
      "year                174389 non-null int64\n",
      "dtypes: float64(9), int64(6), object(4)\n",
      "memory usage: 25.3+ MB\n"
     ]
    }
   ],
   "source": [
    "df.info()"
   ]
  },
  {
   "cell_type": "code",
   "execution_count": 5,
   "metadata": {},
   "outputs": [
    {
     "data": {
      "text/html": [
       "<div>\n",
       "<style scoped>\n",
       "    .dataframe tbody tr th:only-of-type {\n",
       "        vertical-align: middle;\n",
       "    }\n",
       "\n",
       "    .dataframe tbody tr th {\n",
       "        vertical-align: top;\n",
       "    }\n",
       "\n",
       "    .dataframe thead th {\n",
       "        text-align: right;\n",
       "    }\n",
       "</style>\n",
       "<table border=\"1\" class=\"dataframe\">\n",
       "  <thead>\n",
       "    <tr style=\"text-align: right;\">\n",
       "      <th></th>\n",
       "      <th>acousticness</th>\n",
       "      <th>danceability</th>\n",
       "      <th>duration_ms</th>\n",
       "      <th>energy</th>\n",
       "      <th>explicit</th>\n",
       "      <th>instrumentalness</th>\n",
       "      <th>key</th>\n",
       "      <th>liveness</th>\n",
       "      <th>loudness</th>\n",
       "      <th>mode</th>\n",
       "      <th>popularity</th>\n",
       "      <th>speechiness</th>\n",
       "      <th>tempo</th>\n",
       "      <th>valence</th>\n",
       "      <th>year</th>\n",
       "    </tr>\n",
       "  </thead>\n",
       "  <tbody>\n",
       "    <tr>\n",
       "      <th>count</th>\n",
       "      <td>174389.000000</td>\n",
       "      <td>174389.000000</td>\n",
       "      <td>1.743890e+05</td>\n",
       "      <td>174389.000000</td>\n",
       "      <td>174389.000000</td>\n",
       "      <td>174389.000000</td>\n",
       "      <td>174389.000000</td>\n",
       "      <td>174389.000000</td>\n",
       "      <td>174389.000000</td>\n",
       "      <td>174389.000000</td>\n",
       "      <td>174389.000000</td>\n",
       "      <td>174389.000000</td>\n",
       "      <td>174389.000000</td>\n",
       "      <td>174389.000000</td>\n",
       "      <td>174389.000000</td>\n",
       "    </tr>\n",
       "    <tr>\n",
       "      <th>mean</th>\n",
       "      <td>0.499228</td>\n",
       "      <td>0.536758</td>\n",
       "      <td>2.328100e+05</td>\n",
       "      <td>0.482721</td>\n",
       "      <td>0.068135</td>\n",
       "      <td>0.197252</td>\n",
       "      <td>5.205305</td>\n",
       "      <td>0.211123</td>\n",
       "      <td>-11.750865</td>\n",
       "      <td>0.702384</td>\n",
       "      <td>25.693381</td>\n",
       "      <td>0.105729</td>\n",
       "      <td>117.006500</td>\n",
       "      <td>0.524533</td>\n",
       "      <td>1977.061764</td>\n",
       "    </tr>\n",
       "    <tr>\n",
       "      <th>std</th>\n",
       "      <td>0.379936</td>\n",
       "      <td>0.176025</td>\n",
       "      <td>1.483958e+05</td>\n",
       "      <td>0.272685</td>\n",
       "      <td>0.251978</td>\n",
       "      <td>0.334574</td>\n",
       "      <td>3.518292</td>\n",
       "      <td>0.180493</td>\n",
       "      <td>5.691591</td>\n",
       "      <td>0.457211</td>\n",
       "      <td>21.872740</td>\n",
       "      <td>0.182260</td>\n",
       "      <td>30.254178</td>\n",
       "      <td>0.264477</td>\n",
       "      <td>26.907950</td>\n",
       "    </tr>\n",
       "    <tr>\n",
       "      <th>min</th>\n",
       "      <td>0.000000</td>\n",
       "      <td>0.000000</td>\n",
       "      <td>4.937000e+03</td>\n",
       "      <td>0.000000</td>\n",
       "      <td>0.000000</td>\n",
       "      <td>0.000000</td>\n",
       "      <td>0.000000</td>\n",
       "      <td>0.000000</td>\n",
       "      <td>-60.000000</td>\n",
       "      <td>0.000000</td>\n",
       "      <td>0.000000</td>\n",
       "      <td>0.000000</td>\n",
       "      <td>0.000000</td>\n",
       "      <td>0.000000</td>\n",
       "      <td>1920.000000</td>\n",
       "    </tr>\n",
       "    <tr>\n",
       "      <th>25%</th>\n",
       "      <td>0.087700</td>\n",
       "      <td>0.414000</td>\n",
       "      <td>1.661330e+05</td>\n",
       "      <td>0.249000</td>\n",
       "      <td>0.000000</td>\n",
       "      <td>0.000000</td>\n",
       "      <td>2.000000</td>\n",
       "      <td>0.099200</td>\n",
       "      <td>-14.908000</td>\n",
       "      <td>0.000000</td>\n",
       "      <td>1.000000</td>\n",
       "      <td>0.035200</td>\n",
       "      <td>93.931000</td>\n",
       "      <td>0.311000</td>\n",
       "      <td>1955.000000</td>\n",
       "    </tr>\n",
       "    <tr>\n",
       "      <th>50%</th>\n",
       "      <td>0.517000</td>\n",
       "      <td>0.548000</td>\n",
       "      <td>2.057870e+05</td>\n",
       "      <td>0.465000</td>\n",
       "      <td>0.000000</td>\n",
       "      <td>0.000524</td>\n",
       "      <td>5.000000</td>\n",
       "      <td>0.138000</td>\n",
       "      <td>-10.836000</td>\n",
       "      <td>1.000000</td>\n",
       "      <td>25.000000</td>\n",
       "      <td>0.045500</td>\n",
       "      <td>115.816000</td>\n",
       "      <td>0.536000</td>\n",
       "      <td>1977.000000</td>\n",
       "    </tr>\n",
       "    <tr>\n",
       "      <th>75%</th>\n",
       "      <td>0.895000</td>\n",
       "      <td>0.669000</td>\n",
       "      <td>2.657200e+05</td>\n",
       "      <td>0.711000</td>\n",
       "      <td>0.000000</td>\n",
       "      <td>0.252000</td>\n",
       "      <td>8.000000</td>\n",
       "      <td>0.270000</td>\n",
       "      <td>-7.499000</td>\n",
       "      <td>1.000000</td>\n",
       "      <td>42.000000</td>\n",
       "      <td>0.076300</td>\n",
       "      <td>135.011000</td>\n",
       "      <td>0.743000</td>\n",
       "      <td>1999.000000</td>\n",
       "    </tr>\n",
       "    <tr>\n",
       "      <th>max</th>\n",
       "      <td>0.996000</td>\n",
       "      <td>0.988000</td>\n",
       "      <td>5.338302e+06</td>\n",
       "      <td>1.000000</td>\n",
       "      <td>1.000000</td>\n",
       "      <td>1.000000</td>\n",
       "      <td>11.000000</td>\n",
       "      <td>1.000000</td>\n",
       "      <td>3.855000</td>\n",
       "      <td>1.000000</td>\n",
       "      <td>100.000000</td>\n",
       "      <td>0.971000</td>\n",
       "      <td>243.507000</td>\n",
       "      <td>1.000000</td>\n",
       "      <td>2021.000000</td>\n",
       "    </tr>\n",
       "  </tbody>\n",
       "</table>\n",
       "</div>"
      ],
      "text/plain": [
       "        acousticness   danceability   duration_ms         energy  \\\n",
       "count  174389.000000  174389.000000  1.743890e+05  174389.000000   \n",
       "mean        0.499228       0.536758  2.328100e+05       0.482721   \n",
       "std         0.379936       0.176025  1.483958e+05       0.272685   \n",
       "min         0.000000       0.000000  4.937000e+03       0.000000   \n",
       "25%         0.087700       0.414000  1.661330e+05       0.249000   \n",
       "50%         0.517000       0.548000  2.057870e+05       0.465000   \n",
       "75%         0.895000       0.669000  2.657200e+05       0.711000   \n",
       "max         0.996000       0.988000  5.338302e+06       1.000000   \n",
       "\n",
       "            explicit  instrumentalness            key       liveness  \\\n",
       "count  174389.000000     174389.000000  174389.000000  174389.000000   \n",
       "mean        0.068135          0.197252       5.205305       0.211123   \n",
       "std         0.251978          0.334574       3.518292       0.180493   \n",
       "min         0.000000          0.000000       0.000000       0.000000   \n",
       "25%         0.000000          0.000000       2.000000       0.099200   \n",
       "50%         0.000000          0.000524       5.000000       0.138000   \n",
       "75%         0.000000          0.252000       8.000000       0.270000   \n",
       "max         1.000000          1.000000      11.000000       1.000000   \n",
       "\n",
       "            loudness           mode     popularity    speechiness  \\\n",
       "count  174389.000000  174389.000000  174389.000000  174389.000000   \n",
       "mean      -11.750865       0.702384      25.693381       0.105729   \n",
       "std         5.691591       0.457211      21.872740       0.182260   \n",
       "min       -60.000000       0.000000       0.000000       0.000000   \n",
       "25%       -14.908000       0.000000       1.000000       0.035200   \n",
       "50%       -10.836000       1.000000      25.000000       0.045500   \n",
       "75%        -7.499000       1.000000      42.000000       0.076300   \n",
       "max         3.855000       1.000000     100.000000       0.971000   \n",
       "\n",
       "               tempo        valence           year  \n",
       "count  174389.000000  174389.000000  174389.000000  \n",
       "mean      117.006500       0.524533    1977.061764  \n",
       "std        30.254178       0.264477      26.907950  \n",
       "min         0.000000       0.000000    1920.000000  \n",
       "25%        93.931000       0.311000    1955.000000  \n",
       "50%       115.816000       0.536000    1977.000000  \n",
       "75%       135.011000       0.743000    1999.000000  \n",
       "max       243.507000       1.000000    2021.000000  "
      ]
     },
     "execution_count": 5,
     "metadata": {},
     "output_type": "execute_result"
    }
   ],
   "source": [
    "df.describe()"
   ]
  },
  {
   "cell_type": "code",
   "execution_count": 6,
   "metadata": {
    "scrolled": true
   },
   "outputs": [
    {
     "data": {
      "text/plain": [
       "<matplotlib.axes._subplots.AxesSubplot at 0x7fec83b2b438>"
      ]
     },
     "execution_count": 6,
     "metadata": {},
     "output_type": "execute_result"
    },
    {
     "data": {
      "image/png": "[encoded data removed]",
      "text/plain": [
       "<Figure size 432x288 with 1 Axes>"
      ]
     },
     "metadata": {
      "needs_background": "light"
     },
     "output_type": "display_data"
    }
   ],
   "source": [
    "#explore target\n",
    "df['popularity'].plot(kind='hist')"
   ]
  },
  {
   "cell_type": "code",
   "execution_count": 7,
   "metadata": {
    "scrolled": true
   },
   "outputs": [
    {
     "data": {
      "text/plain": [
       "count    174389.000000\n",
       "mean         25.693381\n",
       "std          21.872740\n",
       "min           0.000000\n",
       "25%           1.000000\n",
       "50%          25.000000\n",
       "75%          42.000000\n",
       "max         100.000000\n",
       "Name: popularity, dtype: float64"
      ]
     },
     "execution_count": 7,
     "metadata": {},
     "output_type": "execute_result"
    }
   ],
   "source": [
    "df['popularity'].describe()"
   ]
  },
  {
   "cell_type": "code",
   "execution_count": 8,
   "metadata": {},
   "outputs": [
    {
     "data": {
      "text/plain": [
       "0      40905\n",
       "1       3846\n",
       "33      2819\n",
       "34      2790\n",
       "36      2784\n",
       "       ...  \n",
       "94         5\n",
       "93         2\n",
       "96         2\n",
       "95         2\n",
       "100        1\n",
       "Name: popularity, Length: 98, dtype: int64"
      ]
     },
     "execution_count": 8,
     "metadata": {},
     "output_type": "execute_result"
    }
   ],
   "source": [
    "df['popularity'].value_counts()"
   ]
  },
  {
   "cell_type": "code",
   "execution_count": 9,
   "metadata": {},
   "outputs": [
    {
     "data": {
      "text/plain": [
       "count    133484.000000\n",
       "mean         33.566892\n",
       "std          18.992977\n",
       "min           1.000000\n",
       "25%          20.000000\n",
       "50%          33.000000\n",
       "75%          47.000000\n",
       "max         100.000000\n",
       "Name: popularity, dtype: float64"
      ]
     },
     "execution_count": 9,
     "metadata": {},
     "output_type": "execute_result"
    }
   ],
   "source": [
    "df[df['popularity'] != 0]['popularity'].describe()"
   ]
  },
  {
   "cell_type": "markdown",
   "metadata": {},
   "source": [
    "⮕ Figure out threshold for 'popular' label"
   ]
  },
  {
   "cell_type": "code",
   "execution_count": 10,
   "metadata": {},
   "outputs": [],
   "source": [
    "#there are a lot of songs with a popularity of 0\n",
    "#if all 0 are removed then 33 is the mean, and also 33 has the highest value count afer 0 and 1\n",
    "#we will use >=33 as the cutoff for what will be labelled as 'popular'"
   ]
  },
  {
   "cell_type": "code",
   "execution_count": 11,
   "metadata": {},
   "outputs": [],
   "source": [
    "df['popular'] = np.where(df['popularity'] >= 33, 1, 0)"
   ]
  },
  {
   "cell_type": "code",
   "execution_count": 12,
   "metadata": {},
   "outputs": [
    {
     "data": {
      "text/plain": [
       "0    0.605204\n",
       "1    0.394796\n",
       "Name: popular, dtype: float64"
      ]
     },
     "execution_count": 12,
     "metadata": {},
     "output_type": "execute_result"
    }
   ],
   "source": [
    "df['popular'].value_counts(normalize=True)"
   ]
  },
  {
   "cell_type": "code",
   "execution_count": 13,
   "metadata": {},
   "outputs": [],
   "source": [
    "#without a model, if I guessed every song was popular - I would be correct 39.48% of the time"
   ]
  },
  {
   "cell_type": "code",
   "execution_count": 14,
   "metadata": {},
   "outputs": [],
   "source": [
    "features = ['acousticness', 'danceability', 'duration_ms', \n",
    "            'energy', 'explicit', 'instrumentalness', 'key', 'liveness', \n",
    "            'loudness', 'mode', 'speechiness', 'tempo', 'valence']"
   ]
  },
  {
   "cell_type": "code",
   "execution_count": 15,
   "metadata": {
    "scrolled": false
   },
   "outputs": [],
   "source": [
    "# sns.pairplot(df, vars=features, corner=True)"
   ]
  },
  {
   "cell_type": "markdown",
   "metadata": {},
   "source": [
    "⮕ importing custom pyfile with adapted evalute function from [Lindsey Berlin](https://github.com/lindseyberlin)\n",
    "\n",
    "Functions we will use:\n",
    "- sjs.crossval()\n",
    "- sjs.evaluate()\n",
    "- sjs.plot_feature_imp()"
   ]
  },
  {
   "cell_type": "code",
   "execution_count": 16,
   "metadata": {},
   "outputs": [],
   "source": [
    "import sjs_utilities as sjs"
   ]
  },
  {
   "cell_type": "code",
   "execution_count": 17,
   "metadata": {},
   "outputs": [],
   "source": [
    "SEED = 42 #set for reproduciblity"
   ]
  },
  {
   "cell_type": "markdown",
   "metadata": {},
   "source": [
    "## Build Baseline Model"
   ]
  },
  {
   "cell_type": "markdown",
   "metadata": {},
   "source": [
    "⮕ From features I will drop: \n",
    "- artists (not a auditory attribute of the song, but may add later)\n",
    "- id (not auditory attribtue)\n",
    "- name (not auditory attribute)\n",
    "- release_date (not auditory attribute)\n",
    "- year (not auditory attribute)\n",
    "- popularity (target)\n",
    "- popular (transformed target)"
   ]
  },
  {
   "cell_type": "code",
   "execution_count": 18,
   "metadata": {},
   "outputs": [
    {
     "data": {
      "text/plain": [
       "Index(['acousticness', 'artists', 'danceability', 'duration_ms', 'energy',\n",
       "       'explicit', 'id', 'instrumentalness', 'key', 'liveness', 'loudness',\n",
       "       'mode', 'name', 'popularity', 'release_date', 'speechiness', 'tempo',\n",
       "       'valence', 'year', 'popular'],\n",
       "      dtype='object')"
      ]
     },
     "execution_count": 18,
     "metadata": {},
     "output_type": "execute_result"
    }
   ],
   "source": [
    "df.columns"
   ]
  },
  {
   "cell_type": "code",
   "execution_count": 19,
   "metadata": {
    "scrolled": true
   },
   "outputs": [],
   "source": [
    "# Define our X and y\n",
    "X = df.drop(columns=['artists', 'id', 'name', 'release_date', 'year', 'popularity', 'popular'])\n",
    "y = df['popular']\n",
    "\n",
    "# train test split\n",
    "X_train, X_test, y_train, y_test = train_test_split(X, y, test_size=0.25, random_state=SEED)"
   ]
  },
  {
   "cell_type": "code",
   "execution_count": 20,
   "metadata": {},
   "outputs": [
    {
     "data": {
      "text/plain": [
       "LogisticRegression(C=1.0, class_weight=None, dual=False, fit_intercept=True,\n",
       "                   intercept_scaling=1, l1_ratio=None, max_iter=100,\n",
       "                   multi_class='auto', n_jobs=None, penalty='l2',\n",
       "                   random_state=42, solver='lbfgs', tol=0.0001, verbose=0,\n",
       "                   warm_start=False)"
      ]
     },
     "execution_count": 20,
     "metadata": {},
     "output_type": "execute_result"
    }
   ],
   "source": [
    "#instantiate scaler\n",
    "scaler = MinMaxScaler()\n",
    "\n",
    "X_train_scaled = scaler.fit_transform(X_train)\n",
    "X_test_scaled = scaler.transform(X_test)\n",
    "\n",
    "# instantiate and fit our model!\n",
    "logreg = LogisticRegression(random_state=SEED)\n",
    "\n",
    "logreg.fit(X_train_scaled, y_train)"
   ]
  },
  {
   "cell_type": "code",
   "execution_count": 21,
   "metadata": {
    "scrolled": false
   },
   "outputs": [
    {
     "data": {
      "image/png": "[encoded data removed]",
      "text/plain": [
       "<Figure size 432x288 with 2 Axes>"
      ]
     },
     "metadata": {
      "needs_background": "light"
     },
     "output_type": "display_data"
    },
    {
     "name": "stdout",
     "output_type": "stream",
     "text": [
      "          | Train  | Test   |\n",
      "          |-----------------|\n",
      "Precision | 65.50% | 65.87% |\n",
      "F1 Score  | 61.64% | 62.18% |\n",
      "ROC-AUC   | 77.41% | 77.66% |\n"
     ]
    },
    {
     "data": {
      "text/html": [
       "<div>\n",
       "<style scoped>\n",
       "    .dataframe tbody tr th:only-of-type {\n",
       "        vertical-align: middle;\n",
       "    }\n",
       "\n",
       "    .dataframe tbody tr th {\n",
       "        vertical-align: top;\n",
       "    }\n",
       "\n",
       "    .dataframe thead th {\n",
       "        text-align: right;\n",
       "    }\n",
       "</style>\n",
       "<table border=\"1\" class=\"dataframe\">\n",
       "  <thead>\n",
       "    <tr style=\"text-align: right;\">\n",
       "      <th></th>\n",
       "      <th>Model</th>\n",
       "      <th>Precision</th>\n",
       "      <th>F1 Score</th>\n",
       "      <th>ROC-AUC</th>\n",
       "    </tr>\n",
       "  </thead>\n",
       "  <tbody>\n",
       "    <tr>\n",
       "      <th>0</th>\n",
       "      <td>Baseline LogReg</td>\n",
       "      <td>65.87%</td>\n",
       "      <td>62.18%</td>\n",
       "      <td>69.51%</td>\n",
       "    </tr>\n",
       "  </tbody>\n",
       "</table>\n",
       "</div>"
      ],
      "text/plain": [
       "             Model Precision F1 Score ROC-AUC\n",
       "0  Baseline LogReg    65.87%   62.18%  69.51%"
      ]
     },
     "metadata": {},
     "output_type": "display_data"
    }
   ],
   "source": [
    "sjs.evaluate('Baseline LogReg', logreg, X_train_scaled, X_test_scaled, y_train, y_test, use_decision_function='yes')"
   ]
  },
  {
   "cell_type": "markdown",
   "metadata": {},
   "source": [
    "---\n",
    "## Additional Model Pipelines + CV Precision Scores\n",
    "\n",
    "We will not build multiple initial pipelines to test various models and use CV score optimized on Precision to evalute."
   ]
  },
  {
   "cell_type": "markdown",
   "metadata": {},
   "source": [
    "### Model 1: Logistic Regression"
   ]
  },
  {
   "cell_type": "code",
   "execution_count": 22,
   "metadata": {},
   "outputs": [
    {
     "name": "stdout",
     "output_type": "stream",
     "text": [
      "Avg Precision Score of 0.6552 with Std Dev of 0.0025\n",
      "\n",
      "The scores were: ['0.6539', '0.6581', '0.6573', '0.6554', '0.6511']\n"
     ]
    }
   ],
   "source": [
    "# rewrite baseline logreg with minmax scaller in a pipeline\n",
    "\n",
    "lr_mm = Pipeline([('mm', MinMaxScaler()), \n",
    "                  ('lr', LogisticRegression(random_state=SEED))])\n",
    "lr_mm.fit(X_train_scaled, y_train)\n",
    "\n",
    "sjs.crossval(lr_mm, X_train_scaled, y_train)"
   ]
  },
  {
   "cell_type": "code",
   "execution_count": 23,
   "metadata": {},
   "outputs": [
    {
     "name": "stdout",
     "output_type": "stream",
     "text": [
      "Avg Precision Score of 0.6552 with Std Dev of 0.0025\n",
      "\n",
      "The scores were: ['0.6541', '0.6580', '0.6572', '0.6554', '0.6511']\n"
     ]
    }
   ],
   "source": [
    "# try logreg with standard scaler and see if any difference\n",
    "\n",
    "lr_ss = Pipeline([('ss', StandardScaler()), \n",
    "                  ('lr', LogisticRegression(random_state=SEED))])\n",
    "lr_ss.fit(X_train_scaled, y_train)\n",
    "\n",
    "sjs.crossval(lr_ss, X_train_scaled, y_train)"
   ]
  },
  {
   "cell_type": "code",
   "execution_count": 24,
   "metadata": {},
   "outputs": [],
   "source": [
    "# no real change in scores"
   ]
  },
  {
   "cell_type": "code",
   "execution_count": 25,
   "metadata": {
    "scrolled": false
   },
   "outputs": [
    {
     "data": {
      "image/png": "[encoded data removed]",
      "text/plain": [
       "<Figure size 432x288 with 2 Axes>"
      ]
     },
     "metadata": {
      "needs_background": "light"
     },
     "output_type": "display_data"
    },
    {
     "name": "stdout",
     "output_type": "stream",
     "text": [
      "          | Train  | Test   |\n",
      "          |-----------------|\n",
      "Precision | 60.51% | 60.61% |\n",
      "F1 Score  | 66.36% | 66.56% |\n",
      "ROC-AUC   | 77.33% | 77.56% |\n"
     ]
    },
    {
     "data": {
      "text/html": [
       "<div>\n",
       "<style scoped>\n",
       "    .dataframe tbody tr th:only-of-type {\n",
       "        vertical-align: middle;\n",
       "    }\n",
       "\n",
       "    .dataframe tbody tr th {\n",
       "        vertical-align: top;\n",
       "    }\n",
       "\n",
       "    .dataframe thead th {\n",
       "        text-align: right;\n",
       "    }\n",
       "</style>\n",
       "<table border=\"1\" class=\"dataframe\">\n",
       "  <thead>\n",
       "    <tr style=\"text-align: right;\">\n",
       "      <th></th>\n",
       "      <th>Model</th>\n",
       "      <th>Precision</th>\n",
       "      <th>F1 Score</th>\n",
       "      <th>ROC-AUC</th>\n",
       "    </tr>\n",
       "  </thead>\n",
       "  <tbody>\n",
       "    <tr>\n",
       "      <th>1</th>\n",
       "      <td>Balanced LogReg</td>\n",
       "      <td>60.61%</td>\n",
       "      <td>66.56%</td>\n",
       "      <td>71.30%</td>\n",
       "    </tr>\n",
       "    <tr>\n",
       "      <th>0</th>\n",
       "      <td>Baseline LogReg</td>\n",
       "      <td>65.87%</td>\n",
       "      <td>62.18%</td>\n",
       "      <td>69.51%</td>\n",
       "    </tr>\n",
       "  </tbody>\n",
       "</table>\n",
       "</div>"
      ],
      "text/plain": [
       "             Model Precision F1 Score ROC-AUC\n",
       "1  Balanced LogReg    60.61%   66.56%  71.30%\n",
       "0  Baseline LogReg    65.87%   62.18%  69.51%"
      ]
     },
     "metadata": {},
     "output_type": "display_data"
    }
   ],
   "source": [
    "# let's see how dealing with imbalance impacts scores\n",
    "\n",
    "lr_ss_bal = Pipeline([('ss', StandardScaler()), \n",
    "                      ('lr', LogisticRegression(class_weight='balanced', random_state=SEED))])\n",
    "lr_ss_bal.fit(X_train_scaled, y_train)\n",
    "\n",
    "sjs.evaluate('Balanced LogReg', lr_ss_bal, X_train_scaled, X_test_scaled, y_train, y_test, use_decision_function='yes')"
   ]
  },
  {
   "cell_type": "code",
   "execution_count": 26,
   "metadata": {},
   "outputs": [
    {
     "name": "stdout",
     "output_type": "stream",
     "text": [
      "Fitting 3 folds for each of 60 candidates, totalling 180 fits\n",
      "[CV] lr__C=100, lr__class_weight=None, lr__penalty=l1, lr__solver=newton-cg \n",
      "[CV]  lr__C=100, lr__class_weight=None, lr__penalty=l1, lr__solver=newton-cg, total=   0.1s\n",
      "[CV] lr__C=100, lr__class_weight=None, lr__penalty=l1, lr__solver=newton-cg \n",
      "[CV]  lr__C=100, lr__class_weight=None, lr__penalty=l1, lr__solver=newton-cg, total=   0.0s\n",
      "[CV] lr__C=100, lr__class_weight=None, lr__penalty=l1, lr__solver=newton-cg \n",
      "[CV]  lr__C=100, lr__class_weight=None, lr__penalty=l1, lr__solver=newton-cg, total=   0.0s\n",
      "[CV] lr__C=100, lr__class_weight=None, lr__penalty=l1, lr__solver=lbfgs \n"
     ]
    },
    {
     "name": "stderr",
     "output_type": "stream",
     "text": [
      "[Parallel(n_jobs=1)]: Using backend SequentialBackend with 1 concurrent workers.\n",
      "[Parallel(n_jobs=1)]: Done   1 out of   1 | elapsed:    0.1s remaining:    0.0s\n"
     ]
    },
    {
     "name": "stdout",
     "output_type": "stream",
     "text": [
      "[CV]  lr__C=100, lr__class_weight=None, lr__penalty=l1, lr__solver=lbfgs, total=   0.0s\n",
      "[CV] lr__C=100, lr__class_weight=None, lr__penalty=l1, lr__solver=lbfgs \n",
      "[CV]  lr__C=100, lr__class_weight=None, lr__penalty=l1, lr__solver=lbfgs, total=   0.1s\n",
      "[CV] lr__C=100, lr__class_weight=None, lr__penalty=l1, lr__solver=lbfgs \n",
      "[CV]  lr__C=100, lr__class_weight=None, lr__penalty=l1, lr__solver=lbfgs, total=   0.0s\n",
      "[CV] lr__C=100, lr__class_weight=None, lr__penalty=l1, lr__solver=liblinear \n",
      "[CV]  lr__C=100, lr__class_weight=None, lr__penalty=l1, lr__solver=liblinear, total=   0.4s\n",
      "[CV] lr__C=100, lr__class_weight=None, lr__penalty=l1, lr__solver=liblinear \n",
      "[CV]  lr__C=100, lr__class_weight=None, lr__penalty=l1, lr__solver=liblinear, total=   0.4s\n",
      "[CV] lr__C=100, lr__class_weight=None, lr__penalty=l1, lr__solver=liblinear \n",
      "[CV]  lr__C=100, lr__class_weight=None, lr__penalty=l1, lr__solver=liblinear, total=   0.4s\n",
      "[CV] lr__C=100, lr__class_weight=None, lr__penalty=l2, lr__solver=newton-cg \n",
      "[CV]  lr__C=100, lr__class_weight=None, lr__penalty=l2, lr__solver=newton-cg, total=   0.4s\n",
      "[CV] lr__C=100, lr__class_weight=None, lr__penalty=l2, lr__solver=newton-cg \n",
      "[CV]  lr__C=100, lr__class_weight=None, lr__penalty=l2, lr__solver=newton-cg, total=   0.5s\n",
      "[CV] lr__C=100, lr__class_weight=None, lr__penalty=l2, lr__solver=newton-cg \n",
      "[CV]  lr__C=100, lr__class_weight=None, lr__penalty=l2, lr__solver=newton-cg, total=   0.8s\n",
      "[CV] lr__C=100, lr__class_weight=None, lr__penalty=l2, lr__solver=lbfgs \n",
      "[CV]  lr__C=100, lr__class_weight=None, lr__penalty=l2, lr__solver=lbfgs, total=   0.2s\n",
      "[CV] lr__C=100, lr__class_weight=None, lr__penalty=l2, lr__solver=lbfgs \n",
      "[CV]  lr__C=100, lr__class_weight=None, lr__penalty=l2, lr__solver=lbfgs, total=   0.2s\n",
      "[CV] lr__C=100, lr__class_weight=None, lr__penalty=l2, lr__solver=lbfgs \n",
      "[CV]  lr__C=100, lr__class_weight=None, lr__penalty=l2, lr__solver=lbfgs, total=   0.2s\n",
      "[CV] lr__C=100, lr__class_weight=None, lr__penalty=l2, lr__solver=liblinear \n",
      "[CV]  lr__C=100, lr__class_weight=None, lr__penalty=l2, lr__solver=liblinear, total=   0.3s\n",
      "[CV] lr__C=100, lr__class_weight=None, lr__penalty=l2, lr__solver=liblinear \n",
      "[CV]  lr__C=100, lr__class_weight=None, lr__penalty=l2, lr__solver=liblinear, total=   0.3s\n",
      "[CV] lr__C=100, lr__class_weight=None, lr__penalty=l2, lr__solver=liblinear \n",
      "[CV]  lr__C=100, lr__class_weight=None, lr__penalty=l2, lr__solver=liblinear, total=   0.3s\n",
      "[CV] lr__C=100, lr__class_weight=balanced, lr__penalty=l1, lr__solver=newton-cg \n",
      "[CV]  lr__C=100, lr__class_weight=balanced, lr__penalty=l1, lr__solver=newton-cg, total=   0.0s\n",
      "[CV] lr__C=100, lr__class_weight=balanced, lr__penalty=l1, lr__solver=newton-cg \n",
      "[CV]  lr__C=100, lr__class_weight=balanced, lr__penalty=l1, lr__solver=newton-cg, total=   0.0s\n",
      "[CV] lr__C=100, lr__class_weight=balanced, lr__penalty=l1, lr__solver=newton-cg \n",
      "[CV]  lr__C=100, lr__class_weight=balanced, lr__penalty=l1, lr__solver=newton-cg, total=   0.0s\n",
      "[CV] lr__C=100, lr__class_weight=balanced, lr__penalty=l1, lr__solver=lbfgs \n",
      "[CV]  lr__C=100, lr__class_weight=balanced, lr__penalty=l1, lr__solver=lbfgs, total=   0.0s\n",
      "[CV] lr__C=100, lr__class_weight=balanced, lr__penalty=l1, lr__solver=lbfgs \n",
      "[CV]  lr__C=100, lr__class_weight=balanced, lr__penalty=l1, lr__solver=lbfgs, total=   0.0s\n",
      "[CV] lr__C=100, lr__class_weight=balanced, lr__penalty=l1, lr__solver=lbfgs \n",
      "[CV]  lr__C=100, lr__class_weight=balanced, lr__penalty=l1, lr__solver=lbfgs, total=   0.0s\n",
      "[CV] lr__C=100, lr__class_weight=balanced, lr__penalty=l1, lr__solver=liblinear \n",
      "[CV]  lr__C=100, lr__class_weight=balanced, lr__penalty=l1, lr__solver=liblinear, total=   0.4s\n",
      "[CV] lr__C=100, lr__class_weight=balanced, lr__penalty=l1, lr__solver=liblinear \n",
      "[CV]  lr__C=100, lr__class_weight=balanced, lr__penalty=l1, lr__solver=liblinear, total=   0.4s\n",
      "[CV] lr__C=100, lr__class_weight=balanced, lr__penalty=l1, lr__solver=liblinear \n",
      "[CV]  lr__C=100, lr__class_weight=balanced, lr__penalty=l1, lr__solver=liblinear, total=   0.4s\n",
      "[CV] lr__C=100, lr__class_weight=balanced, lr__penalty=l2, lr__solver=newton-cg \n",
      "[CV]  lr__C=100, lr__class_weight=balanced, lr__penalty=l2, lr__solver=newton-cg, total=   0.5s\n",
      "[CV] lr__C=100, lr__class_weight=balanced, lr__penalty=l2, lr__solver=newton-cg \n",
      "[CV]  lr__C=100, lr__class_weight=balanced, lr__penalty=l2, lr__solver=newton-cg, total=   1.1s\n",
      "[CV] lr__C=100, lr__class_weight=balanced, lr__penalty=l2, lr__solver=newton-cg \n",
      "[CV]  lr__C=100, lr__class_weight=balanced, lr__penalty=l2, lr__solver=newton-cg, total=   1.1s\n",
      "[CV] lr__C=100, lr__class_weight=balanced, lr__penalty=l2, lr__solver=lbfgs \n",
      "[CV]  lr__C=100, lr__class_weight=balanced, lr__penalty=l2, lr__solver=lbfgs, total=   0.4s\n",
      "[CV] lr__C=100, lr__class_weight=balanced, lr__penalty=l2, lr__solver=lbfgs \n",
      "[CV]  lr__C=100, lr__class_weight=balanced, lr__penalty=l2, lr__solver=lbfgs, total=   0.2s\n",
      "[CV] lr__C=100, lr__class_weight=balanced, lr__penalty=l2, lr__solver=lbfgs \n",
      "[CV]  lr__C=100, lr__class_weight=balanced, lr__penalty=l2, lr__solver=lbfgs, total=   0.2s\n",
      "[CV] lr__C=100, lr__class_weight=balanced, lr__penalty=l2, lr__solver=liblinear \n",
      "[CV]  lr__C=100, lr__class_weight=balanced, lr__penalty=l2, lr__solver=liblinear, total=   0.3s\n",
      "[CV] lr__C=100, lr__class_weight=balanced, lr__penalty=l2, lr__solver=liblinear \n",
      "[CV]  lr__C=100, lr__class_weight=balanced, lr__penalty=l2, lr__solver=liblinear, total=   0.3s\n",
      "[CV] lr__C=100, lr__class_weight=balanced, lr__penalty=l2, lr__solver=liblinear \n",
      "[CV]  lr__C=100, lr__class_weight=balanced, lr__penalty=l2, lr__solver=liblinear, total=   0.4s\n",
      "[CV] lr__C=10, lr__class_weight=None, lr__penalty=l1, lr__solver=newton-cg \n",
      "[CV]  lr__C=10, lr__class_weight=None, lr__penalty=l1, lr__solver=newton-cg, total=   0.1s\n",
      "[CV] lr__C=10, lr__class_weight=None, lr__penalty=l1, lr__solver=newton-cg \n",
      "[CV]  lr__C=10, lr__class_weight=None, lr__penalty=l1, lr__solver=newton-cg, total=   0.1s\n",
      "[CV] lr__C=10, lr__class_weight=None, lr__penalty=l1, lr__solver=newton-cg \n",
      "[CV]  lr__C=10, lr__class_weight=None, lr__penalty=l1, lr__solver=newton-cg, total=   0.1s\n",
      "[CV] lr__C=10, lr__class_weight=None, lr__penalty=l1, lr__solver=lbfgs \n",
      "[CV]  lr__C=10, lr__class_weight=None, lr__penalty=l1, lr__solver=lbfgs, total=   0.1s\n",
      "[CV] lr__C=10, lr__class_weight=None, lr__penalty=l1, lr__solver=lbfgs \n",
      "[CV]  lr__C=10, lr__class_weight=None, lr__penalty=l1, lr__solver=lbfgs, total=   0.1s\n",
      "[CV] lr__C=10, lr__class_weight=None, lr__penalty=l1, lr__solver=lbfgs \n",
      "[CV]  lr__C=10, lr__class_weight=None, lr__penalty=l1, lr__solver=lbfgs, total=   0.0s\n",
      "[CV] lr__C=10, lr__class_weight=None, lr__penalty=l1, lr__solver=liblinear \n",
      "[CV]  lr__C=10, lr__class_weight=None, lr__penalty=l1, lr__solver=liblinear, total=   0.5s\n",
      "[CV] lr__C=10, lr__class_weight=None, lr__penalty=l1, lr__solver=liblinear \n",
      "[CV]  lr__C=10, lr__class_weight=None, lr__penalty=l1, lr__solver=liblinear, total=   0.4s\n",
      "[CV] lr__C=10, lr__class_weight=None, lr__penalty=l1, lr__solver=liblinear \n",
      "[CV]  lr__C=10, lr__class_weight=None, lr__penalty=l1, lr__solver=liblinear, total=   0.5s\n",
      "[CV] lr__C=10, lr__class_weight=None, lr__penalty=l2, lr__solver=newton-cg \n",
      "[CV]  lr__C=10, lr__class_weight=None, lr__penalty=l2, lr__solver=newton-cg, total=   0.6s\n",
      "[CV] lr__C=10, lr__class_weight=None, lr__penalty=l2, lr__solver=newton-cg \n",
      "[CV]  lr__C=10, lr__class_weight=None, lr__penalty=l2, lr__solver=newton-cg, total=   0.4s\n",
      "[CV] lr__C=10, lr__class_weight=None, lr__penalty=l2, lr__solver=newton-cg \n",
      "[CV]  lr__C=10, lr__class_weight=None, lr__penalty=l2, lr__solver=newton-cg, total=   0.5s\n",
      "[CV] lr__C=10, lr__class_weight=None, lr__penalty=l2, lr__solver=lbfgs \n",
      "[CV]  lr__C=10, lr__class_weight=None, lr__penalty=l2, lr__solver=lbfgs, total=   0.2s\n",
      "[CV] lr__C=10, lr__class_weight=None, lr__penalty=l2, lr__solver=lbfgs \n",
      "[CV]  lr__C=10, lr__class_weight=None, lr__penalty=l2, lr__solver=lbfgs, total=   0.2s\n",
      "[CV] lr__C=10, lr__class_weight=None, lr__penalty=l2, lr__solver=lbfgs \n",
      "[CV]  lr__C=10, lr__class_weight=None, lr__penalty=l2, lr__solver=lbfgs, total=   0.2s\n",
      "[CV] lr__C=10, lr__class_weight=None, lr__penalty=l2, lr__solver=liblinear \n",
      "[CV]  lr__C=10, lr__class_weight=None, lr__penalty=l2, lr__solver=liblinear, total=   0.3s\n",
      "[CV] lr__C=10, lr__class_weight=None, lr__penalty=l2, lr__solver=liblinear \n"
     ]
    },
    {
     "name": "stdout",
     "output_type": "stream",
     "text": [
      "[CV]  lr__C=10, lr__class_weight=None, lr__penalty=l2, lr__solver=liblinear, total=   0.3s\n",
      "[CV] lr__C=10, lr__class_weight=None, lr__penalty=l2, lr__solver=liblinear \n",
      "[CV]  lr__C=10, lr__class_weight=None, lr__penalty=l2, lr__solver=liblinear, total=   0.3s\n",
      "[CV] lr__C=10, lr__class_weight=balanced, lr__penalty=l1, lr__solver=newton-cg \n",
      "[CV]  lr__C=10, lr__class_weight=balanced, lr__penalty=l1, lr__solver=newton-cg, total=   0.0s\n",
      "[CV] lr__C=10, lr__class_weight=balanced, lr__penalty=l1, lr__solver=newton-cg \n",
      "[CV]  lr__C=10, lr__class_weight=balanced, lr__penalty=l1, lr__solver=newton-cg, total=   0.0s\n",
      "[CV] lr__C=10, lr__class_weight=balanced, lr__penalty=l1, lr__solver=newton-cg \n",
      "[CV]  lr__C=10, lr__class_weight=balanced, lr__penalty=l1, lr__solver=newton-cg, total=   0.0s\n",
      "[CV] lr__C=10, lr__class_weight=balanced, lr__penalty=l1, lr__solver=lbfgs \n",
      "[CV]  lr__C=10, lr__class_weight=balanced, lr__penalty=l1, lr__solver=lbfgs, total=   0.0s\n",
      "[CV] lr__C=10, lr__class_weight=balanced, lr__penalty=l1, lr__solver=lbfgs \n",
      "[CV]  lr__C=10, lr__class_weight=balanced, lr__penalty=l1, lr__solver=lbfgs, total=   0.0s\n",
      "[CV] lr__C=10, lr__class_weight=balanced, lr__penalty=l1, lr__solver=lbfgs \n",
      "[CV]  lr__C=10, lr__class_weight=balanced, lr__penalty=l1, lr__solver=lbfgs, total=   0.0s\n",
      "[CV] lr__C=10, lr__class_weight=balanced, lr__penalty=l1, lr__solver=liblinear \n",
      "[CV]  lr__C=10, lr__class_weight=balanced, lr__penalty=l1, lr__solver=liblinear, total=   0.3s\n",
      "[CV] lr__C=10, lr__class_weight=balanced, lr__penalty=l1, lr__solver=liblinear \n",
      "[CV]  lr__C=10, lr__class_weight=balanced, lr__penalty=l1, lr__solver=liblinear, total=   0.3s\n",
      "[CV] lr__C=10, lr__class_weight=balanced, lr__penalty=l1, lr__solver=liblinear \n",
      "[CV]  lr__C=10, lr__class_weight=balanced, lr__penalty=l1, lr__solver=liblinear, total=   0.3s\n",
      "[CV] lr__C=10, lr__class_weight=balanced, lr__penalty=l2, lr__solver=newton-cg \n",
      "[CV]  lr__C=10, lr__class_weight=balanced, lr__penalty=l2, lr__solver=newton-cg, total=   0.4s\n",
      "[CV] lr__C=10, lr__class_weight=balanced, lr__penalty=l2, lr__solver=newton-cg \n",
      "[CV]  lr__C=10, lr__class_weight=balanced, lr__penalty=l2, lr__solver=newton-cg, total=   0.5s\n",
      "[CV] lr__C=10, lr__class_weight=balanced, lr__penalty=l2, lr__solver=newton-cg \n",
      "[CV]  lr__C=10, lr__class_weight=balanced, lr__penalty=l2, lr__solver=newton-cg, total=   0.5s\n",
      "[CV] lr__C=10, lr__class_weight=balanced, lr__penalty=l2, lr__solver=lbfgs \n",
      "[CV]  lr__C=10, lr__class_weight=balanced, lr__penalty=l2, lr__solver=lbfgs, total=   0.2s\n",
      "[CV] lr__C=10, lr__class_weight=balanced, lr__penalty=l2, lr__solver=lbfgs \n",
      "[CV]  lr__C=10, lr__class_weight=balanced, lr__penalty=l2, lr__solver=lbfgs, total=   0.2s\n",
      "[CV] lr__C=10, lr__class_weight=balanced, lr__penalty=l2, lr__solver=lbfgs \n",
      "[CV]  lr__C=10, lr__class_weight=balanced, lr__penalty=l2, lr__solver=lbfgs, total=   0.2s\n",
      "[CV] lr__C=10, lr__class_weight=balanced, lr__penalty=l2, lr__solver=liblinear \n",
      "[CV]  lr__C=10, lr__class_weight=balanced, lr__penalty=l2, lr__solver=liblinear, total=   0.3s\n",
      "[CV] lr__C=10, lr__class_weight=balanced, lr__penalty=l2, lr__solver=liblinear \n",
      "[CV]  lr__C=10, lr__class_weight=balanced, lr__penalty=l2, lr__solver=liblinear, total=   0.3s\n",
      "[CV] lr__C=10, lr__class_weight=balanced, lr__penalty=l2, lr__solver=liblinear \n",
      "[CV]  lr__C=10, lr__class_weight=balanced, lr__penalty=l2, lr__solver=liblinear, total=   0.3s\n",
      "[CV] lr__C=1.0, lr__class_weight=None, lr__penalty=l1, lr__solver=newton-cg \n",
      "[CV]  lr__C=1.0, lr__class_weight=None, lr__penalty=l1, lr__solver=newton-cg, total=   0.0s\n",
      "[CV] lr__C=1.0, lr__class_weight=None, lr__penalty=l1, lr__solver=newton-cg \n",
      "[CV]  lr__C=1.0, lr__class_weight=None, lr__penalty=l1, lr__solver=newton-cg, total=   0.0s\n",
      "[CV] lr__C=1.0, lr__class_weight=None, lr__penalty=l1, lr__solver=newton-cg \n",
      "[CV]  lr__C=1.0, lr__class_weight=None, lr__penalty=l1, lr__solver=newton-cg, total=   0.0s\n",
      "[CV] lr__C=1.0, lr__class_weight=None, lr__penalty=l1, lr__solver=lbfgs \n",
      "[CV]  lr__C=1.0, lr__class_weight=None, lr__penalty=l1, lr__solver=lbfgs, total=   0.0s\n",
      "[CV] lr__C=1.0, lr__class_weight=None, lr__penalty=l1, lr__solver=lbfgs \n",
      "[CV]  lr__C=1.0, lr__class_weight=None, lr__penalty=l1, lr__solver=lbfgs, total=   0.0s\n",
      "[CV] lr__C=1.0, lr__class_weight=None, lr__penalty=l1, lr__solver=lbfgs \n",
      "[CV]  lr__C=1.0, lr__class_weight=None, lr__penalty=l1, lr__solver=lbfgs, total=   0.0s\n",
      "[CV] lr__C=1.0, lr__class_weight=None, lr__penalty=l1, lr__solver=liblinear \n",
      "[CV]  lr__C=1.0, lr__class_weight=None, lr__penalty=l1, lr__solver=liblinear, total=   0.3s\n",
      "[CV] lr__C=1.0, lr__class_weight=None, lr__penalty=l1, lr__solver=liblinear \n",
      "[CV]  lr__C=1.0, lr__class_weight=None, lr__penalty=l1, lr__solver=liblinear, total=   0.4s\n",
      "[CV] lr__C=1.0, lr__class_weight=None, lr__penalty=l1, lr__solver=liblinear \n",
      "[CV]  lr__C=1.0, lr__class_weight=None, lr__penalty=l1, lr__solver=liblinear, total=   0.4s\n",
      "[CV] lr__C=1.0, lr__class_weight=None, lr__penalty=l2, lr__solver=newton-cg \n",
      "[CV]  lr__C=1.0, lr__class_weight=None, lr__penalty=l2, lr__solver=newton-cg, total=   0.4s\n",
      "[CV] lr__C=1.0, lr__class_weight=None, lr__penalty=l2, lr__solver=newton-cg \n",
      "[CV]  lr__C=1.0, lr__class_weight=None, lr__penalty=l2, lr__solver=newton-cg, total=   0.4s\n",
      "[CV] lr__C=1.0, lr__class_weight=None, lr__penalty=l2, lr__solver=newton-cg \n",
      "[CV]  lr__C=1.0, lr__class_weight=None, lr__penalty=l2, lr__solver=newton-cg, total=   0.5s\n",
      "[CV] lr__C=1.0, lr__class_weight=None, lr__penalty=l2, lr__solver=lbfgs \n",
      "[CV]  lr__C=1.0, lr__class_weight=None, lr__penalty=l2, lr__solver=lbfgs, total=   0.2s\n",
      "[CV] lr__C=1.0, lr__class_weight=None, lr__penalty=l2, lr__solver=lbfgs \n",
      "[CV]  lr__C=1.0, lr__class_weight=None, lr__penalty=l2, lr__solver=lbfgs, total=   0.2s\n",
      "[CV] lr__C=1.0, lr__class_weight=None, lr__penalty=l2, lr__solver=lbfgs \n",
      "[CV]  lr__C=1.0, lr__class_weight=None, lr__penalty=l2, lr__solver=lbfgs, total=   0.2s\n",
      "[CV] lr__C=1.0, lr__class_weight=None, lr__penalty=l2, lr__solver=liblinear \n",
      "[CV]  lr__C=1.0, lr__class_weight=None, lr__penalty=l2, lr__solver=liblinear, total=   0.3s\n",
      "[CV] lr__C=1.0, lr__class_weight=None, lr__penalty=l2, lr__solver=liblinear \n",
      "[CV]  lr__C=1.0, lr__class_weight=None, lr__penalty=l2, lr__solver=liblinear, total=   0.3s\n",
      "[CV] lr__C=1.0, lr__class_weight=None, lr__penalty=l2, lr__solver=liblinear \n",
      "[CV]  lr__C=1.0, lr__class_weight=None, lr__penalty=l2, lr__solver=liblinear, total=   0.3s\n",
      "[CV] lr__C=1.0, lr__class_weight=balanced, lr__penalty=l1, lr__solver=newton-cg \n",
      "[CV]  lr__C=1.0, lr__class_weight=balanced, lr__penalty=l1, lr__solver=newton-cg, total=   0.0s\n",
      "[CV] lr__C=1.0, lr__class_weight=balanced, lr__penalty=l1, lr__solver=newton-cg \n",
      "[CV]  lr__C=1.0, lr__class_weight=balanced, lr__penalty=l1, lr__solver=newton-cg, total=   0.0s\n",
      "[CV] lr__C=1.0, lr__class_weight=balanced, lr__penalty=l1, lr__solver=newton-cg \n",
      "[CV]  lr__C=1.0, lr__class_weight=balanced, lr__penalty=l1, lr__solver=newton-cg, total=   0.0s\n",
      "[CV] lr__C=1.0, lr__class_weight=balanced, lr__penalty=l1, lr__solver=lbfgs \n",
      "[CV]  lr__C=1.0, lr__class_weight=balanced, lr__penalty=l1, lr__solver=lbfgs, total=   0.0s\n",
      "[CV] lr__C=1.0, lr__class_weight=balanced, lr__penalty=l1, lr__solver=lbfgs \n",
      "[CV]  lr__C=1.0, lr__class_weight=balanced, lr__penalty=l1, lr__solver=lbfgs, total=   0.0s\n",
      "[CV] lr__C=1.0, lr__class_weight=balanced, lr__penalty=l1, lr__solver=lbfgs \n",
      "[CV]  lr__C=1.0, lr__class_weight=balanced, lr__penalty=l1, lr__solver=lbfgs, total=   0.0s\n",
      "[CV] lr__C=1.0, lr__class_weight=balanced, lr__penalty=l1, lr__solver=liblinear \n",
      "[CV]  lr__C=1.0, lr__class_weight=balanced, lr__penalty=l1, lr__solver=liblinear, total=   0.4s\n",
      "[CV] lr__C=1.0, lr__class_weight=balanced, lr__penalty=l1, lr__solver=liblinear \n",
      "[CV]  lr__C=1.0, lr__class_weight=balanced, lr__penalty=l1, lr__solver=liblinear, total=   0.4s\n",
      "[CV] lr__C=1.0, lr__class_weight=balanced, lr__penalty=l1, lr__solver=liblinear \n",
      "[CV]  lr__C=1.0, lr__class_weight=balanced, lr__penalty=l1, lr__solver=liblinear, total=   0.4s\n",
      "[CV] lr__C=1.0, lr__class_weight=balanced, lr__penalty=l2, lr__solver=newton-cg \n",
      "[CV]  lr__C=1.0, lr__class_weight=balanced, lr__penalty=l2, lr__solver=newton-cg, total=   0.5s\n",
      "[CV] lr__C=1.0, lr__class_weight=balanced, lr__penalty=l2, lr__solver=newton-cg \n",
      "[CV]  lr__C=1.0, lr__class_weight=balanced, lr__penalty=l2, lr__solver=newton-cg, total=   0.4s\n",
      "[CV] lr__C=1.0, lr__class_weight=balanced, lr__penalty=l2, lr__solver=newton-cg \n"
     ]
    },
    {
     "name": "stdout",
     "output_type": "stream",
     "text": [
      "[CV]  lr__C=1.0, lr__class_weight=balanced, lr__penalty=l2, lr__solver=newton-cg, total=   0.5s\n",
      "[CV] lr__C=1.0, lr__class_weight=balanced, lr__penalty=l2, lr__solver=lbfgs \n",
      "[CV]  lr__C=1.0, lr__class_weight=balanced, lr__penalty=l2, lr__solver=lbfgs, total=   0.2s\n",
      "[CV] lr__C=1.0, lr__class_weight=balanced, lr__penalty=l2, lr__solver=lbfgs \n",
      "[CV]  lr__C=1.0, lr__class_weight=balanced, lr__penalty=l2, lr__solver=lbfgs, total=   0.2s\n",
      "[CV] lr__C=1.0, lr__class_weight=balanced, lr__penalty=l2, lr__solver=lbfgs \n",
      "[CV]  lr__C=1.0, lr__class_weight=balanced, lr__penalty=l2, lr__solver=lbfgs, total=   0.2s\n",
      "[CV] lr__C=1.0, lr__class_weight=balanced, lr__penalty=l2, lr__solver=liblinear \n",
      "[CV]  lr__C=1.0, lr__class_weight=balanced, lr__penalty=l2, lr__solver=liblinear, total=   0.3s\n",
      "[CV] lr__C=1.0, lr__class_weight=balanced, lr__penalty=l2, lr__solver=liblinear \n",
      "[CV]  lr__C=1.0, lr__class_weight=balanced, lr__penalty=l2, lr__solver=liblinear, total=   0.3s\n",
      "[CV] lr__C=1.0, lr__class_weight=balanced, lr__penalty=l2, lr__solver=liblinear \n",
      "[CV]  lr__C=1.0, lr__class_weight=balanced, lr__penalty=l2, lr__solver=liblinear, total=   0.4s\n",
      "[CV] lr__C=0.1, lr__class_weight=None, lr__penalty=l1, lr__solver=newton-cg \n",
      "[CV]  lr__C=0.1, lr__class_weight=None, lr__penalty=l1, lr__solver=newton-cg, total=   0.1s\n",
      "[CV] lr__C=0.1, lr__class_weight=None, lr__penalty=l1, lr__solver=newton-cg \n",
      "[CV]  lr__C=0.1, lr__class_weight=None, lr__penalty=l1, lr__solver=newton-cg, total=   0.0s\n",
      "[CV] lr__C=0.1, lr__class_weight=None, lr__penalty=l1, lr__solver=newton-cg \n",
      "[CV]  lr__C=0.1, lr__class_weight=None, lr__penalty=l1, lr__solver=newton-cg, total=   0.0s\n",
      "[CV] lr__C=0.1, lr__class_weight=None, lr__penalty=l1, lr__solver=lbfgs \n",
      "[CV]  lr__C=0.1, lr__class_weight=None, lr__penalty=l1, lr__solver=lbfgs, total=   0.0s\n",
      "[CV] lr__C=0.1, lr__class_weight=None, lr__penalty=l1, lr__solver=lbfgs \n",
      "[CV]  lr__C=0.1, lr__class_weight=None, lr__penalty=l1, lr__solver=lbfgs, total=   0.0s\n",
      "[CV] lr__C=0.1, lr__class_weight=None, lr__penalty=l1, lr__solver=lbfgs \n",
      "[CV]  lr__C=0.1, lr__class_weight=None, lr__penalty=l1, lr__solver=lbfgs, total=   0.0s\n",
      "[CV] lr__C=0.1, lr__class_weight=None, lr__penalty=l1, lr__solver=liblinear \n",
      "[CV]  lr__C=0.1, lr__class_weight=None, lr__penalty=l1, lr__solver=liblinear, total=   0.3s\n",
      "[CV] lr__C=0.1, lr__class_weight=None, lr__penalty=l1, lr__solver=liblinear \n",
      "[CV]  lr__C=0.1, lr__class_weight=None, lr__penalty=l1, lr__solver=liblinear, total=   0.4s\n",
      "[CV] lr__C=0.1, lr__class_weight=None, lr__penalty=l1, lr__solver=liblinear \n",
      "[CV]  lr__C=0.1, lr__class_weight=None, lr__penalty=l1, lr__solver=liblinear, total=   0.4s\n",
      "[CV] lr__C=0.1, lr__class_weight=None, lr__penalty=l2, lr__solver=newton-cg \n",
      "[CV]  lr__C=0.1, lr__class_weight=None, lr__penalty=l2, lr__solver=newton-cg, total=   0.4s\n",
      "[CV] lr__C=0.1, lr__class_weight=None, lr__penalty=l2, lr__solver=newton-cg \n",
      "[CV]  lr__C=0.1, lr__class_weight=None, lr__penalty=l2, lr__solver=newton-cg, total=   0.4s\n",
      "[CV] lr__C=0.1, lr__class_weight=None, lr__penalty=l2, lr__solver=newton-cg \n",
      "[CV]  lr__C=0.1, lr__class_weight=None, lr__penalty=l2, lr__solver=newton-cg, total=   0.5s\n",
      "[CV] lr__C=0.1, lr__class_weight=None, lr__penalty=l2, lr__solver=lbfgs \n",
      "[CV]  lr__C=0.1, lr__class_weight=None, lr__penalty=l2, lr__solver=lbfgs, total=   0.2s\n",
      "[CV] lr__C=0.1, lr__class_weight=None, lr__penalty=l2, lr__solver=lbfgs \n",
      "[CV]  lr__C=0.1, lr__class_weight=None, lr__penalty=l2, lr__solver=lbfgs, total=   0.2s\n",
      "[CV] lr__C=0.1, lr__class_weight=None, lr__penalty=l2, lr__solver=lbfgs \n",
      "[CV]  lr__C=0.1, lr__class_weight=None, lr__penalty=l2, lr__solver=lbfgs, total=   0.2s\n",
      "[CV] lr__C=0.1, lr__class_weight=None, lr__penalty=l2, lr__solver=liblinear \n",
      "[CV]  lr__C=0.1, lr__class_weight=None, lr__penalty=l2, lr__solver=liblinear, total=   0.3s\n",
      "[CV] lr__C=0.1, lr__class_weight=None, lr__penalty=l2, lr__solver=liblinear \n",
      "[CV]  lr__C=0.1, lr__class_weight=None, lr__penalty=l2, lr__solver=liblinear, total=   0.3s\n",
      "[CV] lr__C=0.1, lr__class_weight=None, lr__penalty=l2, lr__solver=liblinear \n",
      "[CV]  lr__C=0.1, lr__class_weight=None, lr__penalty=l2, lr__solver=liblinear, total=   0.3s\n",
      "[CV] lr__C=0.1, lr__class_weight=balanced, lr__penalty=l1, lr__solver=newton-cg \n",
      "[CV]  lr__C=0.1, lr__class_weight=balanced, lr__penalty=l1, lr__solver=newton-cg, total=   0.0s\n",
      "[CV] lr__C=0.1, lr__class_weight=balanced, lr__penalty=l1, lr__solver=newton-cg \n",
      "[CV]  lr__C=0.1, lr__class_weight=balanced, lr__penalty=l1, lr__solver=newton-cg, total=   0.0s\n",
      "[CV] lr__C=0.1, lr__class_weight=balanced, lr__penalty=l1, lr__solver=newton-cg \n",
      "[CV]  lr__C=0.1, lr__class_weight=balanced, lr__penalty=l1, lr__solver=newton-cg, total=   0.0s\n",
      "[CV] lr__C=0.1, lr__class_weight=balanced, lr__penalty=l1, lr__solver=lbfgs \n",
      "[CV]  lr__C=0.1, lr__class_weight=balanced, lr__penalty=l1, lr__solver=lbfgs, total=   0.0s\n",
      "[CV] lr__C=0.1, lr__class_weight=balanced, lr__penalty=l1, lr__solver=lbfgs \n",
      "[CV]  lr__C=0.1, lr__class_weight=balanced, lr__penalty=l1, lr__solver=lbfgs, total=   0.0s\n",
      "[CV] lr__C=0.1, lr__class_weight=balanced, lr__penalty=l1, lr__solver=lbfgs \n",
      "[CV]  lr__C=0.1, lr__class_weight=balanced, lr__penalty=l1, lr__solver=lbfgs, total=   0.0s\n",
      "[CV] lr__C=0.1, lr__class_weight=balanced, lr__penalty=l1, lr__solver=liblinear \n",
      "[CV]  lr__C=0.1, lr__class_weight=balanced, lr__penalty=l1, lr__solver=liblinear, total=   0.4s\n",
      "[CV] lr__C=0.1, lr__class_weight=balanced, lr__penalty=l1, lr__solver=liblinear \n",
      "[CV]  lr__C=0.1, lr__class_weight=balanced, lr__penalty=l1, lr__solver=liblinear, total=   0.3s\n",
      "[CV] lr__C=0.1, lr__class_weight=balanced, lr__penalty=l1, lr__solver=liblinear \n",
      "[CV]  lr__C=0.1, lr__class_weight=balanced, lr__penalty=l1, lr__solver=liblinear, total=   0.3s\n",
      "[CV] lr__C=0.1, lr__class_weight=balanced, lr__penalty=l2, lr__solver=newton-cg \n",
      "[CV]  lr__C=0.1, lr__class_weight=balanced, lr__penalty=l2, lr__solver=newton-cg, total=   0.4s\n",
      "[CV] lr__C=0.1, lr__class_weight=balanced, lr__penalty=l2, lr__solver=newton-cg \n",
      "[CV]  lr__C=0.1, lr__class_weight=balanced, lr__penalty=l2, lr__solver=newton-cg, total=   0.5s\n",
      "[CV] lr__C=0.1, lr__class_weight=balanced, lr__penalty=l2, lr__solver=newton-cg \n",
      "[CV]  lr__C=0.1, lr__class_weight=balanced, lr__penalty=l2, lr__solver=newton-cg, total=   0.5s\n",
      "[CV] lr__C=0.1, lr__class_weight=balanced, lr__penalty=l2, lr__solver=lbfgs \n",
      "[CV]  lr__C=0.1, lr__class_weight=balanced, lr__penalty=l2, lr__solver=lbfgs, total=   0.2s\n",
      "[CV] lr__C=0.1, lr__class_weight=balanced, lr__penalty=l2, lr__solver=lbfgs \n",
      "[CV]  lr__C=0.1, lr__class_weight=balanced, lr__penalty=l2, lr__solver=lbfgs, total=   0.2s\n",
      "[CV] lr__C=0.1, lr__class_weight=balanced, lr__penalty=l2, lr__solver=lbfgs \n",
      "[CV]  lr__C=0.1, lr__class_weight=balanced, lr__penalty=l2, lr__solver=lbfgs, total=   0.2s\n",
      "[CV] lr__C=0.1, lr__class_weight=balanced, lr__penalty=l2, lr__solver=liblinear \n",
      "[CV]  lr__C=0.1, lr__class_weight=balanced, lr__penalty=l2, lr__solver=liblinear, total=   0.3s\n",
      "[CV] lr__C=0.1, lr__class_weight=balanced, lr__penalty=l2, lr__solver=liblinear \n",
      "[CV]  lr__C=0.1, lr__class_weight=balanced, lr__penalty=l2, lr__solver=liblinear, total=   0.3s\n",
      "[CV] lr__C=0.1, lr__class_weight=balanced, lr__penalty=l2, lr__solver=liblinear \n",
      "[CV]  lr__C=0.1, lr__class_weight=balanced, lr__penalty=l2, lr__solver=liblinear, total=   0.3s\n",
      "[CV] lr__C=0.01, lr__class_weight=None, lr__penalty=l1, lr__solver=newton-cg \n",
      "[CV]  lr__C=0.01, lr__class_weight=None, lr__penalty=l1, lr__solver=newton-cg, total=   0.0s\n",
      "[CV] lr__C=0.01, lr__class_weight=None, lr__penalty=l1, lr__solver=newton-cg \n",
      "[CV]  lr__C=0.01, lr__class_weight=None, lr__penalty=l1, lr__solver=newton-cg, total=   0.0s\n",
      "[CV] lr__C=0.01, lr__class_weight=None, lr__penalty=l1, lr__solver=newton-cg \n",
      "[CV]  lr__C=0.01, lr__class_weight=None, lr__penalty=l1, lr__solver=newton-cg, total=   0.0s\n",
      "[CV] lr__C=0.01, lr__class_weight=None, lr__penalty=l1, lr__solver=lbfgs \n",
      "[CV]  lr__C=0.01, lr__class_weight=None, lr__penalty=l1, lr__solver=lbfgs, total=   0.0s\n",
      "[CV] lr__C=0.01, lr__class_weight=None, lr__penalty=l1, lr__solver=lbfgs \n",
      "[CV]  lr__C=0.01, lr__class_weight=None, lr__penalty=l1, lr__solver=lbfgs, total=   0.0s\n",
      "[CV] lr__C=0.01, lr__class_weight=None, lr__penalty=l1, lr__solver=lbfgs \n",
      "[CV]  lr__C=0.01, lr__class_weight=None, lr__penalty=l1, lr__solver=lbfgs, total=   0.0s\n",
      "[CV] lr__C=0.01, lr__class_weight=None, lr__penalty=l1, lr__solver=liblinear \n"
     ]
    },
    {
     "name": "stdout",
     "output_type": "stream",
     "text": [
      "[CV]  lr__C=0.01, lr__class_weight=None, lr__penalty=l1, lr__solver=liblinear, total=   0.3s\n",
      "[CV] lr__C=0.01, lr__class_weight=None, lr__penalty=l1, lr__solver=liblinear \n",
      "[CV]  lr__C=0.01, lr__class_weight=None, lr__penalty=l1, lr__solver=liblinear, total=   0.3s\n",
      "[CV] lr__C=0.01, lr__class_weight=None, lr__penalty=l1, lr__solver=liblinear \n",
      "[CV]  lr__C=0.01, lr__class_weight=None, lr__penalty=l1, lr__solver=liblinear, total=   0.3s\n",
      "[CV] lr__C=0.01, lr__class_weight=None, lr__penalty=l2, lr__solver=newton-cg \n",
      "[CV]  lr__C=0.01, lr__class_weight=None, lr__penalty=l2, lr__solver=newton-cg, total=   0.4s\n",
      "[CV] lr__C=0.01, lr__class_weight=None, lr__penalty=l2, lr__solver=newton-cg \n",
      "[CV]  lr__C=0.01, lr__class_weight=None, lr__penalty=l2, lr__solver=newton-cg, total=   0.4s\n",
      "[CV] lr__C=0.01, lr__class_weight=None, lr__penalty=l2, lr__solver=newton-cg \n",
      "[CV]  lr__C=0.01, lr__class_weight=None, lr__penalty=l2, lr__solver=newton-cg, total=   0.9s\n",
      "[CV] lr__C=0.01, lr__class_weight=None, lr__penalty=l2, lr__solver=lbfgs \n",
      "[CV]  lr__C=0.01, lr__class_weight=None, lr__penalty=l2, lr__solver=lbfgs, total=   0.2s\n",
      "[CV] lr__C=0.01, lr__class_weight=None, lr__penalty=l2, lr__solver=lbfgs \n",
      "[CV]  lr__C=0.01, lr__class_weight=None, lr__penalty=l2, lr__solver=lbfgs, total=   0.2s\n",
      "[CV] lr__C=0.01, lr__class_weight=None, lr__penalty=l2, lr__solver=lbfgs \n",
      "[CV]  lr__C=0.01, lr__class_weight=None, lr__penalty=l2, lr__solver=lbfgs, total=   0.2s\n",
      "[CV] lr__C=0.01, lr__class_weight=None, lr__penalty=l2, lr__solver=liblinear \n",
      "[CV]  lr__C=0.01, lr__class_weight=None, lr__penalty=l2, lr__solver=liblinear, total=   0.3s\n",
      "[CV] lr__C=0.01, lr__class_weight=None, lr__penalty=l2, lr__solver=liblinear \n",
      "[CV]  lr__C=0.01, lr__class_weight=None, lr__penalty=l2, lr__solver=liblinear, total=   0.4s\n",
      "[CV] lr__C=0.01, lr__class_weight=None, lr__penalty=l2, lr__solver=liblinear \n",
      "[CV]  lr__C=0.01, lr__class_weight=None, lr__penalty=l2, lr__solver=liblinear, total=   0.3s\n",
      "[CV] lr__C=0.01, lr__class_weight=balanced, lr__penalty=l1, lr__solver=newton-cg \n",
      "[CV]  lr__C=0.01, lr__class_weight=balanced, lr__penalty=l1, lr__solver=newton-cg, total=   0.0s\n",
      "[CV] lr__C=0.01, lr__class_weight=balanced, lr__penalty=l1, lr__solver=newton-cg \n",
      "[CV]  lr__C=0.01, lr__class_weight=balanced, lr__penalty=l1, lr__solver=newton-cg, total=   0.0s\n",
      "[CV] lr__C=0.01, lr__class_weight=balanced, lr__penalty=l1, lr__solver=newton-cg \n",
      "[CV]  lr__C=0.01, lr__class_weight=balanced, lr__penalty=l1, lr__solver=newton-cg, total=   0.0s\n",
      "[CV] lr__C=0.01, lr__class_weight=balanced, lr__penalty=l1, lr__solver=lbfgs \n",
      "[CV]  lr__C=0.01, lr__class_weight=balanced, lr__penalty=l1, lr__solver=lbfgs, total=   0.0s\n",
      "[CV] lr__C=0.01, lr__class_weight=balanced, lr__penalty=l1, lr__solver=lbfgs \n",
      "[CV]  lr__C=0.01, lr__class_weight=balanced, lr__penalty=l1, lr__solver=lbfgs, total=   0.0s\n",
      "[CV] lr__C=0.01, lr__class_weight=balanced, lr__penalty=l1, lr__solver=lbfgs \n",
      "[CV]  lr__C=0.01, lr__class_weight=balanced, lr__penalty=l1, lr__solver=lbfgs, total=   0.0s\n",
      "[CV] lr__C=0.01, lr__class_weight=balanced, lr__penalty=l1, lr__solver=liblinear \n",
      "[CV]  lr__C=0.01, lr__class_weight=balanced, lr__penalty=l1, lr__solver=liblinear, total=   0.3s\n",
      "[CV] lr__C=0.01, lr__class_weight=balanced, lr__penalty=l1, lr__solver=liblinear \n",
      "[CV]  lr__C=0.01, lr__class_weight=balanced, lr__penalty=l1, lr__solver=liblinear, total=   0.3s\n",
      "[CV] lr__C=0.01, lr__class_weight=balanced, lr__penalty=l1, lr__solver=liblinear \n",
      "[CV]  lr__C=0.01, lr__class_weight=balanced, lr__penalty=l1, lr__solver=liblinear, total=   0.3s\n",
      "[CV] lr__C=0.01, lr__class_weight=balanced, lr__penalty=l2, lr__solver=newton-cg \n",
      "[CV]  lr__C=0.01, lr__class_weight=balanced, lr__penalty=l2, lr__solver=newton-cg, total=   0.5s\n",
      "[CV] lr__C=0.01, lr__class_weight=balanced, lr__penalty=l2, lr__solver=newton-cg \n",
      "[CV]  lr__C=0.01, lr__class_weight=balanced, lr__penalty=l2, lr__solver=newton-cg, total=   0.5s\n",
      "[CV] lr__C=0.01, lr__class_weight=balanced, lr__penalty=l2, lr__solver=newton-cg \n",
      "[CV]  lr__C=0.01, lr__class_weight=balanced, lr__penalty=l2, lr__solver=newton-cg, total=   0.5s\n",
      "[CV] lr__C=0.01, lr__class_weight=balanced, lr__penalty=l2, lr__solver=lbfgs \n",
      "[CV]  lr__C=0.01, lr__class_weight=balanced, lr__penalty=l2, lr__solver=lbfgs, total=   0.2s\n",
      "[CV] lr__C=0.01, lr__class_weight=balanced, lr__penalty=l2, lr__solver=lbfgs \n",
      "[CV]  lr__C=0.01, lr__class_weight=balanced, lr__penalty=l2, lr__solver=lbfgs, total=   0.2s\n",
      "[CV] lr__C=0.01, lr__class_weight=balanced, lr__penalty=l2, lr__solver=lbfgs \n",
      "[CV]  lr__C=0.01, lr__class_weight=balanced, lr__penalty=l2, lr__solver=lbfgs, total=   0.2s\n",
      "[CV] lr__C=0.01, lr__class_weight=balanced, lr__penalty=l2, lr__solver=liblinear \n",
      "[CV]  lr__C=0.01, lr__class_weight=balanced, lr__penalty=l2, lr__solver=liblinear, total=   0.3s\n",
      "[CV] lr__C=0.01, lr__class_weight=balanced, lr__penalty=l2, lr__solver=liblinear \n",
      "[CV]  lr__C=0.01, lr__class_weight=balanced, lr__penalty=l2, lr__solver=liblinear, total=   0.3s\n",
      "[CV] lr__C=0.01, lr__class_weight=balanced, lr__penalty=l2, lr__solver=liblinear \n",
      "[CV]  lr__C=0.01, lr__class_weight=balanced, lr__penalty=l2, lr__solver=liblinear, total=   0.3s\n"
     ]
    },
    {
     "name": "stderr",
     "output_type": "stream",
     "text": [
      "[Parallel(n_jobs=1)]: Done 180 out of 180 | elapsed:   45.8s finished\n"
     ]
    },
    {
     "data": {
      "text/plain": [
       "GridSearchCV(cv=3, error_score=nan,\n",
       "             estimator=Pipeline(memory=None,\n",
       "                                steps=[('ss',\n",
       "                                        StandardScaler(copy=True,\n",
       "                                                       with_mean=True,\n",
       "                                                       with_std=True)),\n",
       "                                       ('lr',\n",
       "                                        LogisticRegression(C=1.0,\n",
       "                                                           class_weight=None,\n",
       "                                                           dual=False,\n",
       "                                                           fit_intercept=True,\n",
       "                                                           intercept_scaling=1,\n",
       "                                                           l1_ratio=None,\n",
       "                                                           max_iter=100,\n",
       "                                                           multi_class='auto',\n",
       "                                                           n_jobs=None,\n",
       "                                                           penalty='l2',\n",
       "                                                           random_state=42,\n",
       "                                                           solver='lbfgs',\n",
       "                                                           tol=0.0001,\n",
       "                                                           verbose=0,\n",
       "                                                           warm_start=False))],\n",
       "                                verbose=False),\n",
       "             iid='deprecated', n_jobs=None,\n",
       "             param_grid={'lr__C': [100, 10, 1.0, 0.1, 0.01],\n",
       "                         'lr__class_weight': [None, 'balanced'],\n",
       "                         'lr__penalty': ['l1', 'l2'],\n",
       "                         'lr__solver': ['newton-cg', 'lbfgs', 'liblinear']},\n",
       "             pre_dispatch='2*n_jobs', refit=True, return_train_score=False,\n",
       "             scoring='precision', verbose=2)"
      ]
     },
     "execution_count": 26,
     "metadata": {},
     "output_type": "execute_result"
    }
   ],
   "source": [
    "lr_gs_ss_pipe = Pipeline([('ss', StandardScaler()), \n",
    "                          ('lr', LogisticRegression(random_state=SEED))])\n",
    "\n",
    "param_grid = {'lr__penalty' : ['l1', 'l2'],\n",
    "              'lr__C' : [100, 10, 1.0, 0.1, 0.01],\n",
    "              'lr__class_weight': [None, 'balanced'],\n",
    "              'lr__solver': ['newton-cg', 'lbfgs', 'liblinear']}\n",
    "\n",
    "lr_gs_ss = GridSearchCV(lr_gs_ss_pipe, param_grid, scoring='precision', cv=3, verbose=2)\n",
    "lr_gs_ss.fit(X_train_scaled, y_train)"
   ]
  },
  {
   "cell_type": "code",
   "execution_count": 27,
   "metadata": {
    "scrolled": true
   },
   "outputs": [
    {
     "name": "stdout",
     "output_type": "stream",
     "text": [
      "0.6549481564985359\n",
      "{'lr': LogisticRegression(C=0.01, class_weight=None, dual=False, fit_intercept=True,\n",
      "                   intercept_scaling=1, l1_ratio=None, max_iter=100,\n",
      "                   multi_class='auto', n_jobs=None, penalty='l2',\n",
      "                   random_state=42, solver='newton-cg', tol=0.0001, verbose=0,\n",
      "                   warm_start=False),\n",
      " 'lr__C': 0.01,\n",
      " 'lr__class_weight': None,\n",
      " 'lr__dual': False,\n",
      " 'lr__fit_intercept': True,\n",
      " 'lr__intercept_scaling': 1,\n",
      " 'lr__l1_ratio': None,\n",
      " 'lr__max_iter': 100,\n",
      " 'lr__multi_class': 'auto',\n",
      " 'lr__n_jobs': None,\n",
      " 'lr__penalty': 'l2',\n",
      " 'lr__random_state': 42,\n",
      " 'lr__solver': 'newton-cg',\n",
      " 'lr__tol': 0.0001,\n",
      " 'lr__verbose': 0,\n",
      " 'lr__warm_start': False,\n",
      " 'memory': None,\n",
      " 'ss': StandardScaler(copy=True, with_mean=True, with_std=True),\n",
      " 'ss__copy': True,\n",
      " 'ss__with_mean': True,\n",
      " 'ss__with_std': True,\n",
      " 'steps': [('ss', StandardScaler(copy=True, with_mean=True, with_std=True)),\n",
      "           ('lr',\n",
      "            LogisticRegression(C=0.01, class_weight=None, dual=False, fit_intercept=True,\n",
      "                   intercept_scaling=1, l1_ratio=None, max_iter=100,\n",
      "                   multi_class='auto', n_jobs=None, penalty='l2',\n",
      "                   random_state=42, solver='newton-cg', tol=0.0001, verbose=0,\n",
      "                   warm_start=False))],\n",
      " 'verbose': False}\n"
     ]
    }
   ],
   "source": [
    "print(lr_gs_ss.best_score_)\n",
    "pprint(lr_gs_ss.best_estimator_.get_params())"
   ]
  },
  {
   "cell_type": "code",
   "execution_count": 28,
   "metadata": {},
   "outputs": [
    {
     "data": {
      "image/png": "[encoded data removed]",
      "text/plain": [
       "<Figure size 432x288 with 2 Axes>"
      ]
     },
     "metadata": {
      "needs_background": "light"
     },
     "output_type": "display_data"
    },
    {
     "name": "stdout",
     "output_type": "stream",
     "text": [
      "          | Train  | Test   |\n",
      "          |-----------------|\n",
      "Precision | 65.52% | 65.88% |\n",
      "F1 Score  | 61.63% | 62.15% |\n",
      "ROC-AUC   | 77.41% | 77.67% |\n"
     ]
    },
    {
     "data": {
      "text/html": [
       "<div>\n",
       "<style scoped>\n",
       "    .dataframe tbody tr th:only-of-type {\n",
       "        vertical-align: middle;\n",
       "    }\n",
       "\n",
       "    .dataframe tbody tr th {\n",
       "        vertical-align: top;\n",
       "    }\n",
       "\n",
       "    .dataframe thead th {\n",
       "        text-align: right;\n",
       "    }\n",
       "</style>\n",
       "<table border=\"1\" class=\"dataframe\">\n",
       "  <thead>\n",
       "    <tr style=\"text-align: right;\">\n",
       "      <th></th>\n",
       "      <th>Model</th>\n",
       "      <th>Precision</th>\n",
       "      <th>F1 Score</th>\n",
       "      <th>ROC-AUC</th>\n",
       "    </tr>\n",
       "  </thead>\n",
       "  <tbody>\n",
       "    <tr>\n",
       "      <th>2</th>\n",
       "      <td>GridSearch LogReg</td>\n",
       "      <td>65.88%</td>\n",
       "      <td>62.15%</td>\n",
       "      <td>69.50%</td>\n",
       "    </tr>\n",
       "    <tr>\n",
       "      <th>1</th>\n",
       "      <td>Balanced LogReg</td>\n",
       "      <td>60.61%</td>\n",
       "      <td>66.56%</td>\n",
       "      <td>71.30%</td>\n",
       "    </tr>\n",
       "    <tr>\n",
       "      <th>0</th>\n",
       "      <td>Baseline LogReg</td>\n",
       "      <td>65.87%</td>\n",
       "      <td>62.18%</td>\n",
       "      <td>69.51%</td>\n",
       "    </tr>\n",
       "  </tbody>\n",
       "</table>\n",
       "</div>"
      ],
      "text/plain": [
       "               Model Precision F1 Score ROC-AUC\n",
       "2  GridSearch LogReg    65.88%   62.15%  69.50%\n",
       "1    Balanced LogReg    60.61%   66.56%  71.30%\n",
       "0    Baseline LogReg    65.87%   62.18%  69.51%"
      ]
     },
     "metadata": {},
     "output_type": "display_data"
    }
   ],
   "source": [
    "sjs.evaluate('GridSearch LogReg', lr_gs_ss.best_estimator_, X_train_scaled, X_test_scaled, y_train, y_test, use_decision_function='yes')"
   ]
  },
  {
   "cell_type": "markdown",
   "metadata": {},
   "source": [
    "### Model 2: Decision Tree"
   ]
  },
  {
   "cell_type": "code",
   "execution_count": 29,
   "metadata": {
    "scrolled": false
   },
   "outputs": [
    {
     "data": {
      "image/png": "[encoded data removed]",
      "text/plain": [
       "<Figure size 432x288 with 2 Axes>"
      ]
     },
     "metadata": {
      "needs_background": "light"
     },
     "output_type": "display_data"
    },
    {
     "name": "stdout",
     "output_type": "stream",
     "text": [
      "          | Train  | Test   |\n",
      "          |-----------------|\n",
      "Precision | 99.96% | 60.48% |\n",
      "F1 Score  | 99.63% | 60.14% |\n",
      "ROC-AUC   | 100.00% | 67.33% |\n"
     ]
    },
    {
     "data": {
      "text/html": [
       "<div>\n",
       "<style scoped>\n",
       "    .dataframe tbody tr th:only-of-type {\n",
       "        vertical-align: middle;\n",
       "    }\n",
       "\n",
       "    .dataframe tbody tr th {\n",
       "        vertical-align: top;\n",
       "    }\n",
       "\n",
       "    .dataframe thead th {\n",
       "        text-align: right;\n",
       "    }\n",
       "</style>\n",
       "<table border=\"1\" class=\"dataframe\">\n",
       "  <thead>\n",
       "    <tr style=\"text-align: right;\">\n",
       "      <th></th>\n",
       "      <th>Model</th>\n",
       "      <th>Precision</th>\n",
       "      <th>F1 Score</th>\n",
       "      <th>ROC-AUC</th>\n",
       "    </tr>\n",
       "  </thead>\n",
       "  <tbody>\n",
       "    <tr>\n",
       "      <th>3</th>\n",
       "      <td>Vanilla Decision Tree</td>\n",
       "      <td>60.48%</td>\n",
       "      <td>60.14%</td>\n",
       "      <td>67.19%</td>\n",
       "    </tr>\n",
       "    <tr>\n",
       "      <th>2</th>\n",
       "      <td>GridSearch LogReg</td>\n",
       "      <td>65.88%</td>\n",
       "      <td>62.15%</td>\n",
       "      <td>69.50%</td>\n",
       "    </tr>\n",
       "    <tr>\n",
       "      <th>1</th>\n",
       "      <td>Balanced LogReg</td>\n",
       "      <td>60.61%</td>\n",
       "      <td>66.56%</td>\n",
       "      <td>71.30%</td>\n",
       "    </tr>\n",
       "    <tr>\n",
       "      <th>0</th>\n",
       "      <td>Baseline LogReg</td>\n",
       "      <td>65.87%</td>\n",
       "      <td>62.18%</td>\n",
       "      <td>69.51%</td>\n",
       "    </tr>\n",
       "  </tbody>\n",
       "</table>\n",
       "</div>"
      ],
      "text/plain": [
       "                   Model Precision F1 Score ROC-AUC\n",
       "3  Vanilla Decision Tree    60.48%   60.14%  67.19%\n",
       "2      GridSearch LogReg    65.88%   62.15%  69.50%\n",
       "1        Balanced LogReg    60.61%   66.56%  71.30%\n",
       "0        Baseline LogReg    65.87%   62.18%  69.51%"
      ]
     },
     "metadata": {},
     "output_type": "display_data"
    }
   ],
   "source": [
    "#vanilla tree\n",
    "dt = DecisionTreeClassifier(random_state=SEED)\n",
    "dt.fit(X_train, y_train)\n",
    "sjs.evaluate('Vanilla Decision Tree', dt, X_train, X_test, y_train, y_test, use_decision_function='no')"
   ]
  },
  {
   "cell_type": "code",
   "execution_count": 30,
   "metadata": {},
   "outputs": [
    {
     "data": {
      "image/png": "[encoded data removed]",
      "text/plain": [
       "<Figure size 576x360 with 1 Axes>"
      ]
     },
     "metadata": {
      "needs_background": "light"
     },
     "output_type": "display_data"
    }
   ],
   "source": [
    "sjs.plot_feature_imp(dt, X)"
   ]
  },
  {
   "cell_type": "markdown",
   "metadata": {},
   "source": [
    "⮕ Use graphical approach to identify optimal parameter values. Will look at:\n",
    "- Max Depth\n",
    "- Minimum Sample Split\n",
    "- Minimum Sample Leaves\n",
    "- Maximum Features"
   ]
  },
  {
   "cell_type": "code",
   "execution_count": 31,
   "metadata": {
    "scrolled": false
   },
   "outputs": [
    {
     "data": {
      "image/png": "[encoded data removed]",
      "text/plain": [
       "<Figure size 864x432 with 1 Axes>"
      ]
     },
     "metadata": {
      "needs_background": "light"
     },
     "output_type": "display_data"
    }
   ],
   "source": [
    "# Identify the optimal tree depth for given data\n",
    "\n",
    "max_depths = list(range(1,33))\n",
    "train_results = []\n",
    "test_results = []\n",
    "\n",
    "for max_depth in max_depths:\n",
    "    dt = DecisionTreeClassifier(max_depth=max_depth, random_state=SEED)\n",
    "    dt.fit(X_train, y_train)\n",
    "    \n",
    "    train_preds = dt.predict(X_train)\n",
    "    p_score = precision_score(y_train, train_preds)\n",
    "    # Add precision score to previous train results\n",
    "    train_results.append(p_score)\n",
    "    \n",
    "    test_preds = dt.predict(X_test)\n",
    "    p_score = precision_score(y_test, test_preds)\n",
    "    # Add precision score to previous test results\n",
    "    test_results.append(p_score)\n",
    "    \n",
    "plt.figure(figsize=(12,6))\n",
    "plt.plot(max_depths, train_results, 'b', label='Train Precision')\n",
    "plt.plot(max_depths, test_results, 'r', label='Test Precision')\n",
    "plt.ylabel('Precision Score')\n",
    "plt.xlabel('Tree Depth')\n",
    "plt.legend()\n",
    "plt.show()"
   ]
  },
  {
   "cell_type": "code",
   "execution_count": 32,
   "metadata": {},
   "outputs": [],
   "source": [
    "# tree depth of 9 looks optimal for both (7 minimizes underfitting)\n",
    "# use 7, 8 & 9 for GridSearch"
   ]
  },
  {
   "cell_type": "code",
   "execution_count": 33,
   "metadata": {},
   "outputs": [
    {
     "data": {
      "image/png": "[encoded data removed]",
      "text/plain": [
       "<Figure size 864x432 with 1 Axes>"
      ]
     },
     "metadata": {
      "needs_background": "light"
     },
     "output_type": "display_data"
    }
   ],
   "source": [
    "# Identify the optimal min-samples-split for given data\n",
    "\n",
    "min_samples_splits = np.linspace(0.1, 1.0, 10, endpoint=True)\n",
    "train_results = []\n",
    "test_results = []\n",
    "\n",
    "for min_samples_split in min_samples_splits:\n",
    "    dt = DecisionTreeClassifier(min_samples_split=min_samples_split, random_state=SEED)\n",
    "    dt.fit(X_train, y_train)\n",
    "    \n",
    "    train_preds = dt.predict(X_train)\n",
    "    p_score = precision_score(y_train, train_preds)\n",
    "    # Add precision score to previous train results\n",
    "    train_results.append(p_score)\n",
    "    \n",
    "    test_preds = dt.predict(X_test)\n",
    "    p_score = precision_score(y_test, test_preds)\n",
    "    # Add precision score to previous test results\n",
    "    test_results.append(p_score)\n",
    "\n",
    "plt.figure(figsize=(12,6))\n",
    "plt.plot(min_samples_splits, train_results, 'b', label='Train Precision')\n",
    "plt.plot(min_samples_splits, test_results, 'r', label='Test Precision')\n",
    "plt.ylabel('Precision Score')\n",
    "plt.xlabel('Min. Sample Splits')\n",
    "plt.legend()\n",
    "plt.show()"
   ]
  },
  {
   "cell_type": "code",
   "execution_count": 34,
   "metadata": {},
   "outputs": [],
   "source": [
    "# anywhere between .1 - .5 looks ideal \n",
    "# use .1, .2, .3 for GridSearch"
   ]
  },
  {
   "cell_type": "code",
   "execution_count": 35,
   "metadata": {},
   "outputs": [
    {
     "data": {
      "image/png": "[encoded data removed]",
      "text/plain": [
       "<Figure size 864x432 with 1 Axes>"
      ]
     },
     "metadata": {
      "needs_background": "light"
     },
     "output_type": "display_data"
    }
   ],
   "source": [
    "# Calculate the optimal value for minimum sample leafs\n",
    "\n",
    "min_samples_leafs = np.linspace(0.1, 0.5, 5, endpoint=True)\n",
    "train_results = []\n",
    "test_results = []\n",
    "\n",
    "for min_samples_leaf in min_samples_leafs:\n",
    "    dt = DecisionTreeClassifier(min_samples_leaf=min_samples_leaf, random_state=SEED)\n",
    "    dt.fit(X_train, y_train)\n",
    "    \n",
    "    train_preds = dt.predict(X_train)\n",
    "    p_score = precision_score(y_train, train_preds)\n",
    "    # Add precision score to previous train results\n",
    "    train_results.append(p_score)\n",
    "    \n",
    "    test_preds = dt.predict(X_test)\n",
    "    p_score = precision_score(y_test, test_preds)\n",
    "    # Add precision score to previous test results\n",
    "    test_results.append(p_score)\n",
    "    \n",
    "plt.figure(figsize=(12,6))    \n",
    "plt.plot(min_samples_leafs, train_results, 'b', label='Train Precision')\n",
    "plt.plot(min_samples_leafs, test_results, 'r', label='Test Precision')\n",
    "plt.ylabel('Precision score')\n",
    "plt.xlabel('Min. Sample Leafs')\n",
    "plt.legend()\n",
    "plt.show()"
   ]
  },
  {
   "cell_type": "code",
   "execution_count": 36,
   "metadata": {},
   "outputs": [],
   "source": [
    "# .2 is highest for train and test"
   ]
  },
  {
   "cell_type": "code",
   "execution_count": 37,
   "metadata": {},
   "outputs": [
    {
     "data": {
      "image/png": "[encoded data removed]",
      "text/plain": [
       "<Figure size 864x432 with 1 Axes>"
      ]
     },
     "metadata": {
      "needs_background": "light"
     },
     "output_type": "display_data"
    }
   ],
   "source": [
    "# Find the best value for optimal maximum feature size\n",
    "max_features = list(range(1, X_train.shape[1]))\n",
    "train_results = []\n",
    "test_results = []\n",
    "\n",
    "for max_feature in max_features:\n",
    "    dt = DecisionTreeClassifier(max_features=max_feature, random_state=SEED)\n",
    "    dt.fit(X_train, y_train)\n",
    "\n",
    "    train_preds = dt.predict(X_train)\n",
    "    p_score = precision_score(y_train, train_preds)\n",
    "    # Add precision score to previous train results\n",
    "    train_results.append(p_score)\n",
    "    \n",
    "    test_preds = dt.predict(X_test)\n",
    "    p_score = precision_score(y_test, test_preds)\n",
    "    # Add precision score to previous test results\n",
    "    test_results.append(p_score)\n",
    "    \n",
    "\n",
    "plt.figure(figsize=(12,6))\n",
    "plt.plot(max_features, train_results, 'b', label='Train Precision')\n",
    "plt.plot(max_features, test_results, 'r', label='Test Precision')\n",
    "plt.ylabel('Precision score')\n",
    "plt.xlabel('Max Features')\n",
    "plt.legend()\n",
    "plt.show()"
   ]
  },
  {
   "cell_type": "code",
   "execution_count": 38,
   "metadata": {},
   "outputs": [
    {
     "data": {
      "text/plain": [
       "[0.5937628714327744,\n",
       " 0.5973364900858242,\n",
       " 0.5983447790103892,\n",
       " 0.6020468180214092,\n",
       " 0.6045316514832983,\n",
       " 0.59930151338766,\n",
       " 0.6014363722697056,\n",
       " 0.604460922787194,\n",
       " 0.6071175218727831,\n",
       " 0.6069648789748457,\n",
       " 0.6059773072874021,\n",
       " 0.6050813722046599]"
      ]
     },
     "execution_count": 38,
     "metadata": {},
     "output_type": "execute_result"
    }
   ],
   "source": [
    "test_results"
   ]
  },
  {
   "cell_type": "code",
   "execution_count": 39,
   "metadata": {},
   "outputs": [],
   "source": [
    "# No clear effect on the training dataset - flat precision \n",
    "# Some slight fluctuations in test precision but not definitive enough to make a judgement\n",
    "# Leaving out of tuning"
   ]
  },
  {
   "cell_type": "code",
   "execution_count": 40,
   "metadata": {},
   "outputs": [
    {
     "data": {
      "image/png": "[encoded data removed]",
      "text/plain": [
       "<Figure size 432x288 with 2 Axes>"
      ]
     },
     "metadata": {
      "needs_background": "light"
     },
     "output_type": "display_data"
    },
    {
     "name": "stdout",
     "output_type": "stream",
     "text": [
      "          | Train  | Test   |\n",
      "          |-----------------|\n",
      "Precision | 68.44% | 68.55% |\n",
      "F1 Score  | 51.35% | 51.48% |\n",
      "ROC-AUC   | 72.96% | 72.96% |\n"
     ]
    },
    {
     "data": {
      "text/html": [
       "<div>\n",
       "<style scoped>\n",
       "    .dataframe tbody tr th:only-of-type {\n",
       "        vertical-align: middle;\n",
       "    }\n",
       "\n",
       "    .dataframe tbody tr th {\n",
       "        vertical-align: top;\n",
       "    }\n",
       "\n",
       "    .dataframe thead th {\n",
       "        text-align: right;\n",
       "    }\n",
       "</style>\n",
       "<table border=\"1\" class=\"dataframe\">\n",
       "  <thead>\n",
       "    <tr style=\"text-align: right;\">\n",
       "      <th></th>\n",
       "      <th>Model</th>\n",
       "      <th>Precision</th>\n",
       "      <th>F1 Score</th>\n",
       "      <th>ROC-AUC</th>\n",
       "    </tr>\n",
       "  </thead>\n",
       "  <tbody>\n",
       "    <tr>\n",
       "      <th>4</th>\n",
       "      <td>Tuned Decision Tree</td>\n",
       "      <td>68.55%</td>\n",
       "      <td>51.48%</td>\n",
       "      <td>64.45%</td>\n",
       "    </tr>\n",
       "    <tr>\n",
       "      <th>3</th>\n",
       "      <td>Vanilla Decision Tree</td>\n",
       "      <td>60.48%</td>\n",
       "      <td>60.14%</td>\n",
       "      <td>67.19%</td>\n",
       "    </tr>\n",
       "    <tr>\n",
       "      <th>2</th>\n",
       "      <td>GridSearch LogReg</td>\n",
       "      <td>65.88%</td>\n",
       "      <td>62.15%</td>\n",
       "      <td>69.50%</td>\n",
       "    </tr>\n",
       "    <tr>\n",
       "      <th>1</th>\n",
       "      <td>Balanced LogReg</td>\n",
       "      <td>60.61%</td>\n",
       "      <td>66.56%</td>\n",
       "      <td>71.30%</td>\n",
       "    </tr>\n",
       "    <tr>\n",
       "      <th>0</th>\n",
       "      <td>Baseline LogReg</td>\n",
       "      <td>65.87%</td>\n",
       "      <td>62.18%</td>\n",
       "      <td>69.51%</td>\n",
       "    </tr>\n",
       "  </tbody>\n",
       "</table>\n",
       "</div>"
      ],
      "text/plain": [
       "                   Model Precision F1 Score ROC-AUC\n",
       "4    Tuned Decision Tree    68.55%   51.48%  64.45%\n",
       "3  Vanilla Decision Tree    60.48%   60.14%  67.19%\n",
       "2      GridSearch LogReg    65.88%   62.15%  69.50%\n",
       "1        Balanced LogReg    60.61%   66.56%  71.30%\n",
       "0        Baseline LogReg    65.87%   62.18%  69.51%"
      ]
     },
     "metadata": {},
     "output_type": "display_data"
    }
   ],
   "source": [
    "# Train a classifier with optimal values identified above\n",
    "dt2 = DecisionTreeClassifier(max_depth=9, \n",
    "                             min_samples_split=.1, \n",
    "                             min_samples_leaf=.2, \n",
    "                             random_state=SEED\n",
    "                            )\n",
    "\n",
    "dt2.fit(X_train, y_train)\n",
    "sjs.evaluate('Tuned Decision Tree', dt2, X_train, X_test, y_train, y_test, use_decision_function='no')"
   ]
  },
  {
   "cell_type": "markdown",
   "metadata": {},
   "source": [
    "⮕ Run GridSearch with additional options above as well as\n",
    "- Criteron: Gini & Entropy\n",
    "- Class Weight: None & Balanced"
   ]
  },
  {
   "cell_type": "code",
   "execution_count": 41,
   "metadata": {
    "scrolled": true
   },
   "outputs": [
    {
     "name": "stdout",
     "output_type": "stream",
     "text": [
      "Fitting 3 folds for each of 36 candidates, totalling 108 fits\n",
      "[CV] class_weight=None, criterion=gini, max_depth=7, min_samples_split=0.1 \n"
     ]
    },
    {
     "name": "stderr",
     "output_type": "stream",
     "text": [
      "[Parallel(n_jobs=1)]: Using backend SequentialBackend with 1 concurrent workers.\n"
     ]
    },
    {
     "name": "stdout",
     "output_type": "stream",
     "text": [
      "[CV]  class_weight=None, criterion=gini, max_depth=7, min_samples_split=0.1, total=   0.3s\n",
      "[CV] class_weight=None, criterion=gini, max_depth=7, min_samples_split=0.1 \n"
     ]
    },
    {
     "name": "stderr",
     "output_type": "stream",
     "text": [
      "[Parallel(n_jobs=1)]: Done   1 out of   1 | elapsed:    0.3s remaining:    0.0s\n"
     ]
    },
    {
     "name": "stdout",
     "output_type": "stream",
     "text": [
      "[CV]  class_weight=None, criterion=gini, max_depth=7, min_samples_split=0.1, total=   0.2s\n",
      "[CV] class_weight=None, criterion=gini, max_depth=7, min_samples_split=0.1 \n",
      "[CV]  class_weight=None, criterion=gini, max_depth=7, min_samples_split=0.1, total=   0.2s\n",
      "[CV] class_weight=None, criterion=gini, max_depth=7, min_samples_split=0.2 \n",
      "[CV]  class_weight=None, criterion=gini, max_depth=7, min_samples_split=0.2, total=   0.2s\n",
      "[CV] class_weight=None, criterion=gini, max_depth=7, min_samples_split=0.2 \n",
      "[CV]  class_weight=None, criterion=gini, max_depth=7, min_samples_split=0.2, total=   0.2s\n",
      "[CV] class_weight=None, criterion=gini, max_depth=7, min_samples_split=0.2 \n",
      "[CV]  class_weight=None, criterion=gini, max_depth=7, min_samples_split=0.2, total=   0.2s\n",
      "[CV] class_weight=None, criterion=gini, max_depth=7, min_samples_split=0.3 \n",
      "[CV]  class_weight=None, criterion=gini, max_depth=7, min_samples_split=0.3, total=   0.2s\n",
      "[CV] class_weight=None, criterion=gini, max_depth=7, min_samples_split=0.3 \n",
      "[CV]  class_weight=None, criterion=gini, max_depth=7, min_samples_split=0.3, total=   0.2s\n",
      "[CV] class_weight=None, criterion=gini, max_depth=7, min_samples_split=0.3 \n",
      "[CV]  class_weight=None, criterion=gini, max_depth=7, min_samples_split=0.3, total=   0.2s\n",
      "[CV] class_weight=None, criterion=gini, max_depth=8, min_samples_split=0.1 \n",
      "[CV]  class_weight=None, criterion=gini, max_depth=8, min_samples_split=0.1, total=   0.2s\n",
      "[CV] class_weight=None, criterion=gini, max_depth=8, min_samples_split=0.1 \n",
      "[CV]  class_weight=None, criterion=gini, max_depth=8, min_samples_split=0.1, total=   0.2s\n",
      "[CV] class_weight=None, criterion=gini, max_depth=8, min_samples_split=0.1 \n",
      "[CV]  class_weight=None, criterion=gini, max_depth=8, min_samples_split=0.1, total=   0.2s\n",
      "[CV] class_weight=None, criterion=gini, max_depth=8, min_samples_split=0.2 \n",
      "[CV]  class_weight=None, criterion=gini, max_depth=8, min_samples_split=0.2, total=   0.2s\n",
      "[CV] class_weight=None, criterion=gini, max_depth=8, min_samples_split=0.2 \n",
      "[CV]  class_weight=None, criterion=gini, max_depth=8, min_samples_split=0.2, total=   0.2s\n",
      "[CV] class_weight=None, criterion=gini, max_depth=8, min_samples_split=0.2 \n",
      "[CV]  class_weight=None, criterion=gini, max_depth=8, min_samples_split=0.2, total=   0.2s\n",
      "[CV] class_weight=None, criterion=gini, max_depth=8, min_samples_split=0.3 \n",
      "[CV]  class_weight=None, criterion=gini, max_depth=8, min_samples_split=0.3, total=   0.2s\n",
      "[CV] class_weight=None, criterion=gini, max_depth=8, min_samples_split=0.3 \n",
      "[CV]  class_weight=None, criterion=gini, max_depth=8, min_samples_split=0.3, total=   0.2s\n",
      "[CV] class_weight=None, criterion=gini, max_depth=8, min_samples_split=0.3 \n",
      "[CV]  class_weight=None, criterion=gini, max_depth=8, min_samples_split=0.3, total=   0.2s\n",
      "[CV] class_weight=None, criterion=gini, max_depth=9, min_samples_split=0.1 \n",
      "[CV]  class_weight=None, criterion=gini, max_depth=9, min_samples_split=0.1, total=   0.2s\n",
      "[CV] class_weight=None, criterion=gini, max_depth=9, min_samples_split=0.1 \n",
      "[CV]  class_weight=None, criterion=gini, max_depth=9, min_samples_split=0.1, total=   0.2s\n",
      "[CV] class_weight=None, criterion=gini, max_depth=9, min_samples_split=0.1 \n",
      "[CV]  class_weight=None, criterion=gini, max_depth=9, min_samples_split=0.1, total=   0.2s\n",
      "[CV] class_weight=None, criterion=gini, max_depth=9, min_samples_split=0.2 \n",
      "[CV]  class_weight=None, criterion=gini, max_depth=9, min_samples_split=0.2, total=   0.2s\n",
      "[CV] class_weight=None, criterion=gini, max_depth=9, min_samples_split=0.2 \n",
      "[CV]  class_weight=None, criterion=gini, max_depth=9, min_samples_split=0.2, total=   0.2s\n",
      "[CV] class_weight=None, criterion=gini, max_depth=9, min_samples_split=0.2 \n",
      "[CV]  class_weight=None, criterion=gini, max_depth=9, min_samples_split=0.2, total=   0.2s\n",
      "[CV] class_weight=None, criterion=gini, max_depth=9, min_samples_split=0.3 \n",
      "[CV]  class_weight=None, criterion=gini, max_depth=9, min_samples_split=0.3, total=   0.2s\n",
      "[CV] class_weight=None, criterion=gini, max_depth=9, min_samples_split=0.3 \n",
      "[CV]  class_weight=None, criterion=gini, max_depth=9, min_samples_split=0.3, total=   0.2s\n",
      "[CV] class_weight=None, criterion=gini, max_depth=9, min_samples_split=0.3 \n",
      "[CV]  class_weight=None, criterion=gini, max_depth=9, min_samples_split=0.3, total=   0.2s\n",
      "[CV] class_weight=None, criterion=entropy, max_depth=7, min_samples_split=0.1 \n",
      "[CV]  class_weight=None, criterion=entropy, max_depth=7, min_samples_split=0.1, total=   0.2s\n",
      "[CV] class_weight=None, criterion=entropy, max_depth=7, min_samples_split=0.1 \n",
      "[CV]  class_weight=None, criterion=entropy, max_depth=7, min_samples_split=0.1, total=   0.2s\n",
      "[CV] class_weight=None, criterion=entropy, max_depth=7, min_samples_split=0.1 \n",
      "[CV]  class_weight=None, criterion=entropy, max_depth=7, min_samples_split=0.1, total=   0.2s\n",
      "[CV] class_weight=None, criterion=entropy, max_depth=7, min_samples_split=0.2 \n",
      "[CV]  class_weight=None, criterion=entropy, max_depth=7, min_samples_split=0.2, total=   0.2s\n",
      "[CV] class_weight=None, criterion=entropy, max_depth=7, min_samples_split=0.2 \n",
      "[CV]  class_weight=None, criterion=entropy, max_depth=7, min_samples_split=0.2, total=   0.2s\n",
      "[CV] class_weight=None, criterion=entropy, max_depth=7, min_samples_split=0.2 \n",
      "[CV]  class_weight=None, criterion=entropy, max_depth=7, min_samples_split=0.2, total=   0.2s\n",
      "[CV] class_weight=None, criterion=entropy, max_depth=7, min_samples_split=0.3 \n",
      "[CV]  class_weight=None, criterion=entropy, max_depth=7, min_samples_split=0.3, total=   0.2s\n",
      "[CV] class_weight=None, criterion=entropy, max_depth=7, min_samples_split=0.3 \n",
      "[CV]  class_weight=None, criterion=entropy, max_depth=7, min_samples_split=0.3, total=   0.2s\n",
      "[CV] class_weight=None, criterion=entropy, max_depth=7, min_samples_split=0.3 \n",
      "[CV]  class_weight=None, criterion=entropy, max_depth=7, min_samples_split=0.3, total=   0.2s\n",
      "[CV] class_weight=None, criterion=entropy, max_depth=8, min_samples_split=0.1 \n",
      "[CV]  class_weight=None, criterion=entropy, max_depth=8, min_samples_split=0.1, total=   0.2s\n",
      "[CV] class_weight=None, criterion=entropy, max_depth=8, min_samples_split=0.1 \n",
      "[CV]  class_weight=None, criterion=entropy, max_depth=8, min_samples_split=0.1, total=   0.3s\n",
      "[CV] class_weight=None, criterion=entropy, max_depth=8, min_samples_split=0.1 \n",
      "[CV]  class_weight=None, criterion=entropy, max_depth=8, min_samples_split=0.1, total=   0.2s\n",
      "[CV] class_weight=None, criterion=entropy, max_depth=8, min_samples_split=0.2 \n",
      "[CV]  class_weight=None, criterion=entropy, max_depth=8, min_samples_split=0.2, total=   0.2s\n",
      "[CV] class_weight=None, criterion=entropy, max_depth=8, min_samples_split=0.2 \n",
      "[CV]  class_weight=None, criterion=entropy, max_depth=8, min_samples_split=0.2, total=   0.3s\n",
      "[CV] class_weight=None, criterion=entropy, max_depth=8, min_samples_split=0.2 \n",
      "[CV]  class_weight=None, criterion=entropy, max_depth=8, min_samples_split=0.2, total=   0.2s\n",
      "[CV] class_weight=None, criterion=entropy, max_depth=8, min_samples_split=0.3 \n",
      "[CV]  class_weight=None, criterion=entropy, max_depth=8, min_samples_split=0.3, total=   0.2s\n",
      "[CV] class_weight=None, criterion=entropy, max_depth=8, min_samples_split=0.3 \n",
      "[CV]  class_weight=None, criterion=entropy, max_depth=8, min_samples_split=0.3, total=   0.2s\n",
      "[CV] class_weight=None, criterion=entropy, max_depth=8, min_samples_split=0.3 \n",
      "[CV]  class_weight=None, criterion=entropy, max_depth=8, min_samples_split=0.3, total=   0.2s\n",
      "[CV] class_weight=None, criterion=entropy, max_depth=9, min_samples_split=0.1 \n",
      "[CV]  class_weight=None, criterion=entropy, max_depth=9, min_samples_split=0.1, total=   0.2s\n",
      "[CV] class_weight=None, criterion=entropy, max_depth=9, min_samples_split=0.1 \n",
      "[CV]  class_weight=None, criterion=entropy, max_depth=9, min_samples_split=0.1, total=   0.3s\n",
      "[CV] class_weight=None, criterion=entropy, max_depth=9, min_samples_split=0.1 \n",
      "[CV]  class_weight=None, criterion=entropy, max_depth=9, min_samples_split=0.1, total=   0.2s\n",
      "[CV] class_weight=None, criterion=entropy, max_depth=9, min_samples_split=0.2 \n",
      "[CV]  class_weight=None, criterion=entropy, max_depth=9, min_samples_split=0.2, total=   0.2s\n",
      "[CV] class_weight=None, criterion=entropy, max_depth=9, min_samples_split=0.2 \n",
      "[CV]  class_weight=None, criterion=entropy, max_depth=9, min_samples_split=0.2, total=   0.4s\n",
      "[CV] class_weight=None, criterion=entropy, max_depth=9, min_samples_split=0.2 \n"
     ]
    },
    {
     "name": "stdout",
     "output_type": "stream",
     "text": [
      "[CV]  class_weight=None, criterion=entropy, max_depth=9, min_samples_split=0.2, total=   0.2s\n",
      "[CV] class_weight=None, criterion=entropy, max_depth=9, min_samples_split=0.3 \n",
      "[CV]  class_weight=None, criterion=entropy, max_depth=9, min_samples_split=0.3, total=   0.2s\n",
      "[CV] class_weight=None, criterion=entropy, max_depth=9, min_samples_split=0.3 \n",
      "[CV]  class_weight=None, criterion=entropy, max_depth=9, min_samples_split=0.3, total=   0.2s\n",
      "[CV] class_weight=None, criterion=entropy, max_depth=9, min_samples_split=0.3 \n",
      "[CV]  class_weight=None, criterion=entropy, max_depth=9, min_samples_split=0.3, total=   0.2s\n",
      "[CV] class_weight=balanced, criterion=gini, max_depth=7, min_samples_split=0.1 \n",
      "[CV]  class_weight=balanced, criterion=gini, max_depth=7, min_samples_split=0.1, total=   0.2s\n",
      "[CV] class_weight=balanced, criterion=gini, max_depth=7, min_samples_split=0.1 \n",
      "[CV]  class_weight=balanced, criterion=gini, max_depth=7, min_samples_split=0.1, total=   0.2s\n",
      "[CV] class_weight=balanced, criterion=gini, max_depth=7, min_samples_split=0.1 \n",
      "[CV]  class_weight=balanced, criterion=gini, max_depth=7, min_samples_split=0.1, total=   0.2s\n",
      "[CV] class_weight=balanced, criterion=gini, max_depth=7, min_samples_split=0.2 \n",
      "[CV]  class_weight=balanced, criterion=gini, max_depth=7, min_samples_split=0.2, total=   0.2s\n",
      "[CV] class_weight=balanced, criterion=gini, max_depth=7, min_samples_split=0.2 \n",
      "[CV]  class_weight=balanced, criterion=gini, max_depth=7, min_samples_split=0.2, total=   0.2s\n",
      "[CV] class_weight=balanced, criterion=gini, max_depth=7, min_samples_split=0.2 \n",
      "[CV]  class_weight=balanced, criterion=gini, max_depth=7, min_samples_split=0.2, total=   0.2s\n",
      "[CV] class_weight=balanced, criterion=gini, max_depth=7, min_samples_split=0.3 \n",
      "[CV]  class_weight=balanced, criterion=gini, max_depth=7, min_samples_split=0.3, total=   0.2s\n",
      "[CV] class_weight=balanced, criterion=gini, max_depth=7, min_samples_split=0.3 \n",
      "[CV]  class_weight=balanced, criterion=gini, max_depth=7, min_samples_split=0.3, total=   0.2s\n",
      "[CV] class_weight=balanced, criterion=gini, max_depth=7, min_samples_split=0.3 \n",
      "[CV]  class_weight=balanced, criterion=gini, max_depth=7, min_samples_split=0.3, total=   0.2s\n",
      "[CV] class_weight=balanced, criterion=gini, max_depth=8, min_samples_split=0.1 \n",
      "[CV]  class_weight=balanced, criterion=gini, max_depth=8, min_samples_split=0.1, total=   0.3s\n",
      "[CV] class_weight=balanced, criterion=gini, max_depth=8, min_samples_split=0.1 \n",
      "[CV]  class_weight=balanced, criterion=gini, max_depth=8, min_samples_split=0.1, total=   0.2s\n",
      "[CV] class_weight=balanced, criterion=gini, max_depth=8, min_samples_split=0.1 \n",
      "[CV]  class_weight=balanced, criterion=gini, max_depth=8, min_samples_split=0.1, total=   0.2s\n",
      "[CV] class_weight=balanced, criterion=gini, max_depth=8, min_samples_split=0.2 \n",
      "[CV]  class_weight=balanced, criterion=gini, max_depth=8, min_samples_split=0.2, total=   0.2s\n",
      "[CV] class_weight=balanced, criterion=gini, max_depth=8, min_samples_split=0.2 \n",
      "[CV]  class_weight=balanced, criterion=gini, max_depth=8, min_samples_split=0.2, total=   0.2s\n",
      "[CV] class_weight=balanced, criterion=gini, max_depth=8, min_samples_split=0.2 \n",
      "[CV]  class_weight=balanced, criterion=gini, max_depth=8, min_samples_split=0.2, total=   0.2s\n",
      "[CV] class_weight=balanced, criterion=gini, max_depth=8, min_samples_split=0.3 \n",
      "[CV]  class_weight=balanced, criterion=gini, max_depth=8, min_samples_split=0.3, total=   0.2s\n",
      "[CV] class_weight=balanced, criterion=gini, max_depth=8, min_samples_split=0.3 \n",
      "[CV]  class_weight=balanced, criterion=gini, max_depth=8, min_samples_split=0.3, total=   0.2s\n",
      "[CV] class_weight=balanced, criterion=gini, max_depth=8, min_samples_split=0.3 \n",
      "[CV]  class_weight=balanced, criterion=gini, max_depth=8, min_samples_split=0.3, total=   0.2s\n",
      "[CV] class_weight=balanced, criterion=gini, max_depth=9, min_samples_split=0.1 \n",
      "[CV]  class_weight=balanced, criterion=gini, max_depth=9, min_samples_split=0.1, total=   0.2s\n",
      "[CV] class_weight=balanced, criterion=gini, max_depth=9, min_samples_split=0.1 \n",
      "[CV]  class_weight=balanced, criterion=gini, max_depth=9, min_samples_split=0.1, total=   0.2s\n",
      "[CV] class_weight=balanced, criterion=gini, max_depth=9, min_samples_split=0.1 \n",
      "[CV]  class_weight=balanced, criterion=gini, max_depth=9, min_samples_split=0.1, total=   0.3s\n",
      "[CV] class_weight=balanced, criterion=gini, max_depth=9, min_samples_split=0.2 \n",
      "[CV]  class_weight=balanced, criterion=gini, max_depth=9, min_samples_split=0.2, total=   0.2s\n",
      "[CV] class_weight=balanced, criterion=gini, max_depth=9, min_samples_split=0.2 \n",
      "[CV]  class_weight=balanced, criterion=gini, max_depth=9, min_samples_split=0.2, total=   0.3s\n",
      "[CV] class_weight=balanced, criterion=gini, max_depth=9, min_samples_split=0.2 \n",
      "[CV]  class_weight=balanced, criterion=gini, max_depth=9, min_samples_split=0.2, total=   0.3s\n",
      "[CV] class_weight=balanced, criterion=gini, max_depth=9, min_samples_split=0.3 \n",
      "[CV]  class_weight=balanced, criterion=gini, max_depth=9, min_samples_split=0.3, total=   0.2s\n",
      "[CV] class_weight=balanced, criterion=gini, max_depth=9, min_samples_split=0.3 \n",
      "[CV]  class_weight=balanced, criterion=gini, max_depth=9, min_samples_split=0.3, total=   0.3s\n",
      "[CV] class_weight=balanced, criterion=gini, max_depth=9, min_samples_split=0.3 \n",
      "[CV]  class_weight=balanced, criterion=gini, max_depth=9, min_samples_split=0.3, total=   0.3s\n",
      "[CV] class_weight=balanced, criterion=entropy, max_depth=7, min_samples_split=0.1 \n",
      "[CV]  class_weight=balanced, criterion=entropy, max_depth=7, min_samples_split=0.1, total=   0.4s\n",
      "[CV] class_weight=balanced, criterion=entropy, max_depth=7, min_samples_split=0.1 \n",
      "[CV]  class_weight=balanced, criterion=entropy, max_depth=7, min_samples_split=0.1, total=   0.2s\n",
      "[CV] class_weight=balanced, criterion=entropy, max_depth=7, min_samples_split=0.1 \n",
      "[CV]  class_weight=balanced, criterion=entropy, max_depth=7, min_samples_split=0.1, total=   0.2s\n",
      "[CV] class_weight=balanced, criterion=entropy, max_depth=7, min_samples_split=0.2 \n",
      "[CV]  class_weight=balanced, criterion=entropy, max_depth=7, min_samples_split=0.2, total=   0.4s\n",
      "[CV] class_weight=balanced, criterion=entropy, max_depth=7, min_samples_split=0.2 \n",
      "[CV]  class_weight=balanced, criterion=entropy, max_depth=7, min_samples_split=0.2, total=   0.2s\n",
      "[CV] class_weight=balanced, criterion=entropy, max_depth=7, min_samples_split=0.2 \n",
      "[CV]  class_weight=balanced, criterion=entropy, max_depth=7, min_samples_split=0.2, total=   0.2s\n",
      "[CV] class_weight=balanced, criterion=entropy, max_depth=7, min_samples_split=0.3 \n",
      "[CV]  class_weight=balanced, criterion=entropy, max_depth=7, min_samples_split=0.3, total=   0.2s\n",
      "[CV] class_weight=balanced, criterion=entropy, max_depth=7, min_samples_split=0.3 \n",
      "[CV]  class_weight=balanced, criterion=entropy, max_depth=7, min_samples_split=0.3, total=   0.2s\n",
      "[CV] class_weight=balanced, criterion=entropy, max_depth=7, min_samples_split=0.3 \n",
      "[CV]  class_weight=balanced, criterion=entropy, max_depth=7, min_samples_split=0.3, total=   0.3s\n",
      "[CV] class_weight=balanced, criterion=entropy, max_depth=8, min_samples_split=0.1 \n",
      "[CV]  class_weight=balanced, criterion=entropy, max_depth=8, min_samples_split=0.1, total=   0.2s\n",
      "[CV] class_weight=balanced, criterion=entropy, max_depth=8, min_samples_split=0.1 \n",
      "[CV]  class_weight=balanced, criterion=entropy, max_depth=8, min_samples_split=0.1, total=   0.3s\n",
      "[CV] class_weight=balanced, criterion=entropy, max_depth=8, min_samples_split=0.1 \n",
      "[CV]  class_weight=balanced, criterion=entropy, max_depth=8, min_samples_split=0.1, total=   0.2s\n",
      "[CV] class_weight=balanced, criterion=entropy, max_depth=8, min_samples_split=0.2 \n",
      "[CV]  class_weight=balanced, criterion=entropy, max_depth=8, min_samples_split=0.2, total=   0.2s\n",
      "[CV] class_weight=balanced, criterion=entropy, max_depth=8, min_samples_split=0.2 \n",
      "[CV]  class_weight=balanced, criterion=entropy, max_depth=8, min_samples_split=0.2, total=   0.2s\n",
      "[CV] class_weight=balanced, criterion=entropy, max_depth=8, min_samples_split=0.2 \n",
      "[CV]  class_weight=balanced, criterion=entropy, max_depth=8, min_samples_split=0.2, total=   0.3s\n",
      "[CV] class_weight=balanced, criterion=entropy, max_depth=8, min_samples_split=0.3 \n",
      "[CV]  class_weight=balanced, criterion=entropy, max_depth=8, min_samples_split=0.3, total=   0.2s\n",
      "[CV] class_weight=balanced, criterion=entropy, max_depth=8, min_samples_split=0.3 \n"
     ]
    },
    {
     "name": "stdout",
     "output_type": "stream",
     "text": [
      "[CV]  class_weight=balanced, criterion=entropy, max_depth=8, min_samples_split=0.3, total=   0.2s\n",
      "[CV] class_weight=balanced, criterion=entropy, max_depth=8, min_samples_split=0.3 \n",
      "[CV]  class_weight=balanced, criterion=entropy, max_depth=8, min_samples_split=0.3, total=   0.2s\n",
      "[CV] class_weight=balanced, criterion=entropy, max_depth=9, min_samples_split=0.1 \n",
      "[CV]  class_weight=balanced, criterion=entropy, max_depth=9, min_samples_split=0.1, total=   0.2s\n",
      "[CV] class_weight=balanced, criterion=entropy, max_depth=9, min_samples_split=0.1 \n",
      "[CV]  class_weight=balanced, criterion=entropy, max_depth=9, min_samples_split=0.1, total=   0.2s\n",
      "[CV] class_weight=balanced, criterion=entropy, max_depth=9, min_samples_split=0.1 \n",
      "[CV]  class_weight=balanced, criterion=entropy, max_depth=9, min_samples_split=0.1, total=   0.2s\n",
      "[CV] class_weight=balanced, criterion=entropy, max_depth=9, min_samples_split=0.2 \n",
      "[CV]  class_weight=balanced, criterion=entropy, max_depth=9, min_samples_split=0.2, total=   0.2s\n",
      "[CV] class_weight=balanced, criterion=entropy, max_depth=9, min_samples_split=0.2 \n",
      "[CV]  class_weight=balanced, criterion=entropy, max_depth=9, min_samples_split=0.2, total=   0.3s\n",
      "[CV] class_weight=balanced, criterion=entropy, max_depth=9, min_samples_split=0.2 \n",
      "[CV]  class_weight=balanced, criterion=entropy, max_depth=9, min_samples_split=0.2, total=   0.2s\n",
      "[CV] class_weight=balanced, criterion=entropy, max_depth=9, min_samples_split=0.3 \n",
      "[CV]  class_weight=balanced, criterion=entropy, max_depth=9, min_samples_split=0.3, total=   0.2s\n",
      "[CV] class_weight=balanced, criterion=entropy, max_depth=9, min_samples_split=0.3 \n",
      "[CV]  class_weight=balanced, criterion=entropy, max_depth=9, min_samples_split=0.3, total=   0.2s\n",
      "[CV] class_weight=balanced, criterion=entropy, max_depth=9, min_samples_split=0.3 \n",
      "[CV]  class_weight=balanced, criterion=entropy, max_depth=9, min_samples_split=0.3, total=   0.3s\n"
     ]
    },
    {
     "name": "stderr",
     "output_type": "stream",
     "text": [
      "[Parallel(n_jobs=1)]: Done 108 out of 108 | elapsed:   25.3s finished\n"
     ]
    },
    {
     "data": {
      "text/plain": [
       "GridSearchCV(cv=3, error_score=nan,\n",
       "             estimator=DecisionTreeClassifier(ccp_alpha=0.0, class_weight=None,\n",
       "                                              criterion='gini', max_depth=None,\n",
       "                                              max_features=None,\n",
       "                                              max_leaf_nodes=None,\n",
       "                                              min_impurity_decrease=0.0,\n",
       "                                              min_impurity_split=None,\n",
       "                                              min_samples_leaf=0.2,\n",
       "                                              min_samples_split=2,\n",
       "                                              min_weight_fraction_leaf=0.0,\n",
       "                                              presort='deprecated',\n",
       "                                              random_state=42,\n",
       "                                              splitter='best'),\n",
       "             iid='deprecated', n_jobs=None,\n",
       "             param_grid={'class_weight': [None, 'balanced'],\n",
       "                         'criterion': ['gini', 'entropy'],\n",
       "                         'max_depth': [7, 8, 9],\n",
       "                         'min_samples_split': [0.1, 0.2, 0.3]},\n",
       "             pre_dispatch='2*n_jobs', refit=True, return_train_score=False,\n",
       "             scoring='precision', verbose=2)"
      ]
     },
     "execution_count": 41,
     "metadata": {},
     "output_type": "execute_result"
    }
   ],
   "source": [
    "dt3 = DecisionTreeClassifier(min_samples_leaf=.2, random_state=SEED)\n",
    "\n",
    "param_grid = {'criterion': ['gini', 'entropy'],\n",
    "              'class_weight': [None, 'balanced'],\n",
    "              'max_depth': [7, 8, 9],\n",
    "              'min_samples_split': [.1, .2, .3]}\n",
    "\n",
    "dt3_gs = GridSearchCV(dt3, param_grid, scoring='precision', cv=3, verbose=2)\n",
    "dt3_gs.fit(X_train, y_train)"
   ]
  },
  {
   "cell_type": "code",
   "execution_count": 42,
   "metadata": {},
   "outputs": [
    {
     "name": "stdout",
     "output_type": "stream",
     "text": [
      "0.6874123263142127\n",
      "{'ccp_alpha': 0.0,\n",
      " 'class_weight': None,\n",
      " 'criterion': 'gini',\n",
      " 'max_depth': 7,\n",
      " 'max_features': None,\n",
      " 'max_leaf_nodes': None,\n",
      " 'min_impurity_decrease': 0.0,\n",
      " 'min_impurity_split': None,\n",
      " 'min_samples_leaf': 0.2,\n",
      " 'min_samples_split': 0.1,\n",
      " 'min_weight_fraction_leaf': 0.0,\n",
      " 'presort': 'deprecated',\n",
      " 'random_state': 42,\n",
      " 'splitter': 'best'}\n"
     ]
    }
   ],
   "source": [
    "print(dt3_gs.best_score_)\n",
    "pprint(dt3_gs.best_estimator_.get_params())"
   ]
  },
  {
   "cell_type": "code",
   "execution_count": 43,
   "metadata": {
    "scrolled": true
   },
   "outputs": [
    {
     "data": {
      "image/png": "[encoded data removed]",
      "text/plain": [
       "<Figure size 432x288 with 2 Axes>"
      ]
     },
     "metadata": {
      "needs_background": "light"
     },
     "output_type": "display_data"
    },
    {
     "name": "stdout",
     "output_type": "stream",
     "text": [
      "          | Train  | Test   |\n",
      "          |-----------------|\n",
      "Precision | 68.44% | 68.55% |\n",
      "F1 Score  | 51.35% | 51.48% |\n",
      "ROC-AUC   | 72.96% | 72.96% |\n"
     ]
    },
    {
     "data": {
      "text/html": [
       "<div>\n",
       "<style scoped>\n",
       "    .dataframe tbody tr th:only-of-type {\n",
       "        vertical-align: middle;\n",
       "    }\n",
       "\n",
       "    .dataframe tbody tr th {\n",
       "        vertical-align: top;\n",
       "    }\n",
       "\n",
       "    .dataframe thead th {\n",
       "        text-align: right;\n",
       "    }\n",
       "</style>\n",
       "<table border=\"1\" class=\"dataframe\">\n",
       "  <thead>\n",
       "    <tr style=\"text-align: right;\">\n",
       "      <th></th>\n",
       "      <th>Model</th>\n",
       "      <th>Precision</th>\n",
       "      <th>F1 Score</th>\n",
       "      <th>ROC-AUC</th>\n",
       "    </tr>\n",
       "  </thead>\n",
       "  <tbody>\n",
       "    <tr>\n",
       "      <th>5</th>\n",
       "      <td>GridSearch Decision Tree</td>\n",
       "      <td>68.55%</td>\n",
       "      <td>51.48%</td>\n",
       "      <td>64.45%</td>\n",
       "    </tr>\n",
       "    <tr>\n",
       "      <th>4</th>\n",
       "      <td>Tuned Decision Tree</td>\n",
       "      <td>68.55%</td>\n",
       "      <td>51.48%</td>\n",
       "      <td>64.45%</td>\n",
       "    </tr>\n",
       "    <tr>\n",
       "      <th>3</th>\n",
       "      <td>Vanilla Decision Tree</td>\n",
       "      <td>60.48%</td>\n",
       "      <td>60.14%</td>\n",
       "      <td>67.19%</td>\n",
       "    </tr>\n",
       "    <tr>\n",
       "      <th>2</th>\n",
       "      <td>GridSearch LogReg</td>\n",
       "      <td>65.88%</td>\n",
       "      <td>62.15%</td>\n",
       "      <td>69.50%</td>\n",
       "    </tr>\n",
       "    <tr>\n",
       "      <th>1</th>\n",
       "      <td>Balanced LogReg</td>\n",
       "      <td>60.61%</td>\n",
       "      <td>66.56%</td>\n",
       "      <td>71.30%</td>\n",
       "    </tr>\n",
       "    <tr>\n",
       "      <th>0</th>\n",
       "      <td>Baseline LogReg</td>\n",
       "      <td>65.87%</td>\n",
       "      <td>62.18%</td>\n",
       "      <td>69.51%</td>\n",
       "    </tr>\n",
       "  </tbody>\n",
       "</table>\n",
       "</div>"
      ],
      "text/plain": [
       "                      Model Precision F1 Score ROC-AUC\n",
       "5  GridSearch Decision Tree    68.55%   51.48%  64.45%\n",
       "4       Tuned Decision Tree    68.55%   51.48%  64.45%\n",
       "3     Vanilla Decision Tree    60.48%   60.14%  67.19%\n",
       "2         GridSearch LogReg    65.88%   62.15%  69.50%\n",
       "1           Balanced LogReg    60.61%   66.56%  71.30%\n",
       "0           Baseline LogReg    65.87%   62.18%  69.51%"
      ]
     },
     "metadata": {},
     "output_type": "display_data"
    }
   ],
   "source": [
    "sjs.evaluate('GridSearch Decision Tree', dt3_gs.best_estimator_, X_train, X_test, y_train, y_test, use_decision_function='no')"
   ]
  },
  {
   "cell_type": "code",
   "execution_count": 44,
   "metadata": {},
   "outputs": [
    {
     "data": {
      "image/png": "[encoded data removed]",
      "text/plain": [
       "<Figure size 576x360 with 1 Axes>"
      ]
     },
     "metadata": {
      "needs_background": "light"
     },
     "output_type": "display_data"
    }
   ],
   "source": [
    "sjs.plot_feature_imp(dt3_gs.best_estimator_, X)"
   ]
  },
  {
   "cell_type": "markdown",
   "metadata": {},
   "source": [
    "#### Model 3: Random Forest"
   ]
  },
  {
   "cell_type": "markdown",
   "metadata": {},
   "source": [
    "⮕ Run Random Forest with the ideal decision tree parameters from above"
   ]
  },
  {
   "cell_type": "code",
   "execution_count": 45,
   "metadata": {
    "scrolled": false
   },
   "outputs": [
    {
     "data": {
      "image/png": "[encoded data removed]",
      "text/plain": [
       "<Figure size 432x288 with 2 Axes>"
      ]
     },
     "metadata": {
      "needs_background": "light"
     },
     "output_type": "display_data"
    },
    {
     "name": "stdout",
     "output_type": "stream",
     "text": [
      "          | Train  | Test   |\n",
      "          |-----------------|\n",
      "Precision | 72.09% | 72.09% |\n",
      "F1 Score  | 45.14% | 45.19% |\n",
      "ROC-AUC   | 75.26% | 75.28% |\n"
     ]
    },
    {
     "data": {
      "text/html": [
       "<div>\n",
       "<style scoped>\n",
       "    .dataframe tbody tr th:only-of-type {\n",
       "        vertical-align: middle;\n",
       "    }\n",
       "\n",
       "    .dataframe tbody tr th {\n",
       "        vertical-align: top;\n",
       "    }\n",
       "\n",
       "    .dataframe thead th {\n",
       "        text-align: right;\n",
       "    }\n",
       "</style>\n",
       "<table border=\"1\" class=\"dataframe\">\n",
       "  <thead>\n",
       "    <tr style=\"text-align: right;\">\n",
       "      <th></th>\n",
       "      <th>Model</th>\n",
       "      <th>Precision</th>\n",
       "      <th>F1 Score</th>\n",
       "      <th>ROC-AUC</th>\n",
       "    </tr>\n",
       "  </thead>\n",
       "  <tbody>\n",
       "    <tr>\n",
       "      <th>6</th>\n",
       "      <td>Random Forest</td>\n",
       "      <td>72.09%</td>\n",
       "      <td>45.19%</td>\n",
       "      <td>62.31%</td>\n",
       "    </tr>\n",
       "    <tr>\n",
       "      <th>5</th>\n",
       "      <td>GridSearch Decision Tree</td>\n",
       "      <td>68.55%</td>\n",
       "      <td>51.48%</td>\n",
       "      <td>64.45%</td>\n",
       "    </tr>\n",
       "    <tr>\n",
       "      <th>4</th>\n",
       "      <td>Tuned Decision Tree</td>\n",
       "      <td>68.55%</td>\n",
       "      <td>51.48%</td>\n",
       "      <td>64.45%</td>\n",
       "    </tr>\n",
       "    <tr>\n",
       "      <th>3</th>\n",
       "      <td>Vanilla Decision Tree</td>\n",
       "      <td>60.48%</td>\n",
       "      <td>60.14%</td>\n",
       "      <td>67.19%</td>\n",
       "    </tr>\n",
       "    <tr>\n",
       "      <th>2</th>\n",
       "      <td>GridSearch LogReg</td>\n",
       "      <td>65.88%</td>\n",
       "      <td>62.15%</td>\n",
       "      <td>69.50%</td>\n",
       "    </tr>\n",
       "    <tr>\n",
       "      <th>1</th>\n",
       "      <td>Balanced LogReg</td>\n",
       "      <td>60.61%</td>\n",
       "      <td>66.56%</td>\n",
       "      <td>71.30%</td>\n",
       "    </tr>\n",
       "    <tr>\n",
       "      <th>0</th>\n",
       "      <td>Baseline LogReg</td>\n",
       "      <td>65.87%</td>\n",
       "      <td>62.18%</td>\n",
       "      <td>69.51%</td>\n",
       "    </tr>\n",
       "  </tbody>\n",
       "</table>\n",
       "</div>"
      ],
      "text/plain": [
       "                      Model Precision F1 Score ROC-AUC\n",
       "6             Random Forest    72.09%   45.19%  62.31%\n",
       "5  GridSearch Decision Tree    68.55%   51.48%  64.45%\n",
       "4       Tuned Decision Tree    68.55%   51.48%  64.45%\n",
       "3     Vanilla Decision Tree    60.48%   60.14%  67.19%\n",
       "2         GridSearch LogReg    65.88%   62.15%  69.50%\n",
       "1           Balanced LogReg    60.61%   66.56%  71.30%\n",
       "0           Baseline LogReg    65.87%   62.18%  69.51%"
      ]
     },
     "metadata": {},
     "output_type": "display_data"
    }
   ],
   "source": [
    "rf = RandomForestClassifier(max_depth=7,\n",
    "                            min_samples_leaf= 0.2,\n",
    "                            min_samples_split=.1, \n",
    "                            n_estimators=100, \n",
    "                            random_state=SEED)\n",
    "rf.fit(X_train, y_train)\n",
    "sjs.evaluate('Random Forest', rf, X_train, X_test, y_train, y_test, use_decision_function='no')"
   ]
  },
  {
   "cell_type": "code",
   "execution_count": 46,
   "metadata": {
    "scrolled": true
   },
   "outputs": [
    {
     "name": "stdout",
     "output_type": "stream",
     "text": [
      "Fitting 3 folds for each of 9 candidates, totalling 27 fits\n",
      "[CV] max_features=None, n_estimators=10 ..............................\n"
     ]
    },
    {
     "name": "stderr",
     "output_type": "stream",
     "text": [
      "[Parallel(n_jobs=1)]: Using backend SequentialBackend with 1 concurrent workers.\n"
     ]
    },
    {
     "name": "stdout",
     "output_type": "stream",
     "text": [
      "[CV] ............... max_features=None, n_estimators=10, total=   0.8s\n",
      "[CV] max_features=None, n_estimators=10 ..............................\n"
     ]
    },
    {
     "name": "stderr",
     "output_type": "stream",
     "text": [
      "[Parallel(n_jobs=1)]: Done   1 out of   1 | elapsed:    0.8s remaining:    0.0s\n"
     ]
    },
    {
     "name": "stdout",
     "output_type": "stream",
     "text": [
      "[CV] ............... max_features=None, n_estimators=10, total=   0.8s\n",
      "[CV] max_features=None, n_estimators=10 ..............................\n",
      "[CV] ............... max_features=None, n_estimators=10, total=   0.9s\n",
      "[CV] max_features=None, n_estimators=100 .............................\n",
      "[CV] .............. max_features=None, n_estimators=100, total=   7.9s\n",
      "[CV] max_features=None, n_estimators=100 .............................\n",
      "[CV] .............. max_features=None, n_estimators=100, total=   7.0s\n",
      "[CV] max_features=None, n_estimators=100 .............................\n",
      "[CV] .............. max_features=None, n_estimators=100, total=   9.2s\n",
      "[CV] max_features=None, n_estimators=1000 ............................\n",
      "[CV] ............. max_features=None, n_estimators=1000, total= 1.2min\n",
      "[CV] max_features=None, n_estimators=1000 ............................\n",
      "[CV] ............. max_features=None, n_estimators=1000, total= 1.5min\n",
      "[CV] max_features=None, n_estimators=1000 ............................\n",
      "[CV] ............. max_features=None, n_estimators=1000, total= 1.8min\n",
      "[CV] max_features=sqrt, n_estimators=10 ..............................\n",
      "[CV] ............... max_features=sqrt, n_estimators=10, total=   0.3s\n",
      "[CV] max_features=sqrt, n_estimators=10 ..............................\n",
      "[CV] ............... max_features=sqrt, n_estimators=10, total=   0.4s\n",
      "[CV] max_features=sqrt, n_estimators=10 ..............................\n",
      "[CV] ............... max_features=sqrt, n_estimators=10, total=   0.5s\n",
      "[CV] max_features=sqrt, n_estimators=100 .............................\n",
      "[CV] .............. max_features=sqrt, n_estimators=100, total=   2.8s\n",
      "[CV] max_features=sqrt, n_estimators=100 .............................\n",
      "[CV] .............. max_features=sqrt, n_estimators=100, total=   2.8s\n",
      "[CV] max_features=sqrt, n_estimators=100 .............................\n",
      "[CV] .............. max_features=sqrt, n_estimators=100, total=   3.0s\n",
      "[CV] max_features=sqrt, n_estimators=1000 ............................\n",
      "[CV] ............. max_features=sqrt, n_estimators=1000, total=  28.5s\n",
      "[CV] max_features=sqrt, n_estimators=1000 ............................\n",
      "[CV] ............. max_features=sqrt, n_estimators=1000, total=  28.8s\n",
      "[CV] max_features=sqrt, n_estimators=1000 ............................\n",
      "[CV] ............. max_features=sqrt, n_estimators=1000, total=  32.0s\n",
      "[CV] max_features=log2, n_estimators=10 ..............................\n",
      "[CV] ............... max_features=log2, n_estimators=10, total=   0.4s\n",
      "[CV] max_features=log2, n_estimators=10 ..............................\n",
      "[CV] ............... max_features=log2, n_estimators=10, total=   0.6s\n",
      "[CV] max_features=log2, n_estimators=10 ..............................\n",
      "[CV] ............... max_features=log2, n_estimators=10, total=   0.4s\n",
      "[CV] max_features=log2, n_estimators=100 .............................\n",
      "[CV] .............. max_features=log2, n_estimators=100, total=   2.9s\n",
      "[CV] max_features=log2, n_estimators=100 .............................\n",
      "[CV] .............. max_features=log2, n_estimators=100, total=   2.7s\n",
      "[CV] max_features=log2, n_estimators=100 .............................\n",
      "[CV] .............. max_features=log2, n_estimators=100, total=   2.9s\n",
      "[CV] max_features=log2, n_estimators=1000 ............................\n",
      "[CV] ............. max_features=log2, n_estimators=1000, total=  28.6s\n",
      "[CV] max_features=log2, n_estimators=1000 ............................\n",
      "[CV] ............. max_features=log2, n_estimators=1000, total=  28.2s\n",
      "[CV] max_features=log2, n_estimators=1000 ............................\n",
      "[CV] ............. max_features=log2, n_estimators=1000, total=  30.6s\n"
     ]
    },
    {
     "name": "stderr",
     "output_type": "stream",
     "text": [
      "[Parallel(n_jobs=1)]: Done  27 out of  27 | elapsed:  8.2min finished\n"
     ]
    },
    {
     "data": {
      "text/plain": [
       "GridSearchCV(cv=3, error_score=nan,\n",
       "             estimator=RandomForestClassifier(bootstrap=True, ccp_alpha=0.0,\n",
       "                                              class_weight=None,\n",
       "                                              criterion='gini', max_depth=7,\n",
       "                                              max_features='auto',\n",
       "                                              max_leaf_nodes=None,\n",
       "                                              max_samples=None,\n",
       "                                              min_impurity_decrease=0.0,\n",
       "                                              min_impurity_split=None,\n",
       "                                              min_samples_leaf=0.2,\n",
       "                                              min_samples_split=0.1,\n",
       "                                              min_weight_fraction_leaf=0.0,\n",
       "                                              n_estimators=100, n_jobs=None,\n",
       "                                              oob_score=False, random_state=42,\n",
       "                                              verbose=0, warm_start=False),\n",
       "             iid='deprecated', n_jobs=None,\n",
       "             param_grid={'max_features': [None, 'sqrt', 'log2'],\n",
       "                         'n_estimators': [10, 100, 1000]},\n",
       "             pre_dispatch='2*n_jobs', refit=True, return_train_score=False,\n",
       "             scoring='precision', verbose=2)"
      ]
     },
     "execution_count": 46,
     "metadata": {},
     "output_type": "execute_result"
    }
   ],
   "source": [
    "rf2 = RandomForestClassifier(max_depth=7,\n",
    "                             min_samples_split=.1,\n",
    "                             min_samples_leaf= 0.2,\n",
    "                             random_state=SEED)\n",
    "\n",
    "\n",
    "param_grid = {'n_estimators' : [10, 100, 1000],\n",
    "              'max_features' : [None, 'sqrt', 'log2']\n",
    "             }\n",
    "\n",
    "rf2_gs = GridSearchCV(rf2, param_grid, scoring='precision', cv=3, verbose=2)\n",
    "rf2_gs.fit(X_train, y_train)"
   ]
  },
  {
   "cell_type": "code",
   "execution_count": 47,
   "metadata": {},
   "outputs": [
    {
     "name": "stdout",
     "output_type": "stream",
     "text": [
      "0.7268408203831173\n",
      "{'bootstrap': True,\n",
      " 'ccp_alpha': 0.0,\n",
      " 'class_weight': None,\n",
      " 'criterion': 'gini',\n",
      " 'max_depth': 7,\n",
      " 'max_features': 'sqrt',\n",
      " 'max_leaf_nodes': None,\n",
      " 'max_samples': None,\n",
      " 'min_impurity_decrease': 0.0,\n",
      " 'min_impurity_split': None,\n",
      " 'min_samples_leaf': 0.2,\n",
      " 'min_samples_split': 0.1,\n",
      " 'min_weight_fraction_leaf': 0.0,\n",
      " 'n_estimators': 10,\n",
      " 'n_jobs': None,\n",
      " 'oob_score': False,\n",
      " 'random_state': 42,\n",
      " 'verbose': 0,\n",
      " 'warm_start': False}\n"
     ]
    }
   ],
   "source": [
    "print(rf2_gs.best_score_)\n",
    "pprint(rf2_gs.best_estimator_.get_params())"
   ]
  },
  {
   "cell_type": "code",
   "execution_count": 48,
   "metadata": {},
   "outputs": [
    {
     "data": {
      "image/png": "[encoded data removed]",
      "text/plain": [
       "<Figure size 432x288 with 2 Axes>"
      ]
     },
     "metadata": {
      "needs_background": "light"
     },
     "output_type": "display_data"
    },
    {
     "name": "stdout",
     "output_type": "stream",
     "text": [
      "          | Train  | Test   |\n",
      "          |-----------------|\n",
      "Precision | 72.57% | 73.02% |\n",
      "F1 Score  | 32.63% | 32.25% |\n",
      "ROC-AUC   | 73.83% | 74.06% |\n"
     ]
    },
    {
     "data": {
      "text/html": [
       "<div>\n",
       "<style scoped>\n",
       "    .dataframe tbody tr th:only-of-type {\n",
       "        vertical-align: middle;\n",
       "    }\n",
       "\n",
       "    .dataframe tbody tr th {\n",
       "        vertical-align: top;\n",
       "    }\n",
       "\n",
       "    .dataframe thead th {\n",
       "        text-align: right;\n",
       "    }\n",
       "</style>\n",
       "<table border=\"1\" class=\"dataframe\">\n",
       "  <thead>\n",
       "    <tr style=\"text-align: right;\">\n",
       "      <th></th>\n",
       "      <th>Model</th>\n",
       "      <th>Precision</th>\n",
       "      <th>F1 Score</th>\n",
       "      <th>ROC-AUC</th>\n",
       "    </tr>\n",
       "  </thead>\n",
       "  <tbody>\n",
       "    <tr>\n",
       "      <th>7</th>\n",
       "      <td>GridSearch Random Forest</td>\n",
       "      <td>73.02%</td>\n",
       "      <td>32.25%</td>\n",
       "      <td>57.86%</td>\n",
       "    </tr>\n",
       "    <tr>\n",
       "      <th>6</th>\n",
       "      <td>Random Forest</td>\n",
       "      <td>72.09%</td>\n",
       "      <td>45.19%</td>\n",
       "      <td>62.31%</td>\n",
       "    </tr>\n",
       "    <tr>\n",
       "      <th>5</th>\n",
       "      <td>GridSearch Decision Tree</td>\n",
       "      <td>68.55%</td>\n",
       "      <td>51.48%</td>\n",
       "      <td>64.45%</td>\n",
       "    </tr>\n",
       "    <tr>\n",
       "      <th>4</th>\n",
       "      <td>Tuned Decision Tree</td>\n",
       "      <td>68.55%</td>\n",
       "      <td>51.48%</td>\n",
       "      <td>64.45%</td>\n",
       "    </tr>\n",
       "    <tr>\n",
       "      <th>3</th>\n",
       "      <td>Vanilla Decision Tree</td>\n",
       "      <td>60.48%</td>\n",
       "      <td>60.14%</td>\n",
       "      <td>67.19%</td>\n",
       "    </tr>\n",
       "    <tr>\n",
       "      <th>2</th>\n",
       "      <td>GridSearch LogReg</td>\n",
       "      <td>65.88%</td>\n",
       "      <td>62.15%</td>\n",
       "      <td>69.50%</td>\n",
       "    </tr>\n",
       "    <tr>\n",
       "      <th>1</th>\n",
       "      <td>Balanced LogReg</td>\n",
       "      <td>60.61%</td>\n",
       "      <td>66.56%</td>\n",
       "      <td>71.30%</td>\n",
       "    </tr>\n",
       "    <tr>\n",
       "      <th>0</th>\n",
       "      <td>Baseline LogReg</td>\n",
       "      <td>65.87%</td>\n",
       "      <td>62.18%</td>\n",
       "      <td>69.51%</td>\n",
       "    </tr>\n",
       "  </tbody>\n",
       "</table>\n",
       "</div>"
      ],
      "text/plain": [
       "                      Model Precision F1 Score ROC-AUC\n",
       "7  GridSearch Random Forest    73.02%   32.25%  57.86%\n",
       "6             Random Forest    72.09%   45.19%  62.31%\n",
       "5  GridSearch Decision Tree    68.55%   51.48%  64.45%\n",
       "4       Tuned Decision Tree    68.55%   51.48%  64.45%\n",
       "3     Vanilla Decision Tree    60.48%   60.14%  67.19%\n",
       "2         GridSearch LogReg    65.88%   62.15%  69.50%\n",
       "1           Balanced LogReg    60.61%   66.56%  71.30%\n",
       "0           Baseline LogReg    65.87%   62.18%  69.51%"
      ]
     },
     "metadata": {},
     "output_type": "display_data"
    }
   ],
   "source": [
    "sjs.evaluate('GridSearch Random Forest', rf2_gs.best_estimator_, X_train, X_test, y_train, y_test, use_decision_function='no')"
   ]
  },
  {
   "cell_type": "code",
   "execution_count": 49,
   "metadata": {},
   "outputs": [
    {
     "data": {
      "image/png": "[encoded data removed]",
      "text/plain": [
       "<Figure size 576x360 with 1 Axes>"
      ]
     },
     "metadata": {
      "needs_background": "light"
     },
     "output_type": "display_data"
    }
   ],
   "source": [
    "sjs.plot_feature_imp(rf2_gs.best_estimator_, X)"
   ]
  },
  {
   "cell_type": "code",
   "execution_count": 50,
   "metadata": {
    "scrolled": true
   },
   "outputs": [
    {
     "name": "stdout",
     "output_type": "stream",
     "text": [
      "Avg Precision Score of 0.6812 with Std Dev of 0.0050\n",
      "\n",
      "The scores were: ['0.6803', '0.6898', '0.6830', '0.6763', '0.6767']\n"
     ]
    }
   ],
   "source": [
    "# Let's try Gradient Booster\n",
    "\n",
    "GB = GradientBoostingClassifier()\n",
    "GB.fit(X_train, y_train)\n",
    "sjs.crossval(GB, X_train, y_train)"
   ]
  },
  {
   "cell_type": "code",
   "execution_count": 51,
   "metadata": {},
   "outputs": [
    {
     "data": {
      "image/png": "[encoded data removed]",
      "text/plain": [
       "<Figure size 432x288 with 2 Axes>"
      ]
     },
     "metadata": {
      "needs_background": "light"
     },
     "output_type": "display_data"
    },
    {
     "name": "stdout",
     "output_type": "stream",
     "text": [
      "          | Train  | Test   |\n",
      "          |-----------------|\n",
      "Precision | 68.58% | 68.66% |\n",
      "F1 Score  | 67.09% | 67.31% |\n",
      "ROC-AUC   | 82.24% | 82.35% |\n"
     ]
    },
    {
     "data": {
      "text/html": [
       "<div>\n",
       "<style scoped>\n",
       "    .dataframe tbody tr th:only-of-type {\n",
       "        vertical-align: middle;\n",
       "    }\n",
       "\n",
       "    .dataframe tbody tr th {\n",
       "        vertical-align: top;\n",
       "    }\n",
       "\n",
       "    .dataframe thead th {\n",
       "        text-align: right;\n",
       "    }\n",
       "</style>\n",
       "<table border=\"1\" class=\"dataframe\">\n",
       "  <thead>\n",
       "    <tr style=\"text-align: right;\">\n",
       "      <th></th>\n",
       "      <th>Model</th>\n",
       "      <th>Precision</th>\n",
       "      <th>F1 Score</th>\n",
       "      <th>ROC-AUC</th>\n",
       "    </tr>\n",
       "  </thead>\n",
       "  <tbody>\n",
       "    <tr>\n",
       "      <th>8</th>\n",
       "      <td>Gradient Boosting</td>\n",
       "      <td>68.66%</td>\n",
       "      <td>67.31%</td>\n",
       "      <td>73.21%</td>\n",
       "    </tr>\n",
       "    <tr>\n",
       "      <th>7</th>\n",
       "      <td>GridSearch Random Forest</td>\n",
       "      <td>73.02%</td>\n",
       "      <td>32.25%</td>\n",
       "      <td>57.86%</td>\n",
       "    </tr>\n",
       "    <tr>\n",
       "      <th>6</th>\n",
       "      <td>Random Forest</td>\n",
       "      <td>72.09%</td>\n",
       "      <td>45.19%</td>\n",
       "      <td>62.31%</td>\n",
       "    </tr>\n",
       "    <tr>\n",
       "      <th>5</th>\n",
       "      <td>GridSearch Decision Tree</td>\n",
       "      <td>68.55%</td>\n",
       "      <td>51.48%</td>\n",
       "      <td>64.45%</td>\n",
       "    </tr>\n",
       "    <tr>\n",
       "      <th>4</th>\n",
       "      <td>Tuned Decision Tree</td>\n",
       "      <td>68.55%</td>\n",
       "      <td>51.48%</td>\n",
       "      <td>64.45%</td>\n",
       "    </tr>\n",
       "    <tr>\n",
       "      <th>3</th>\n",
       "      <td>Vanilla Decision Tree</td>\n",
       "      <td>60.48%</td>\n",
       "      <td>60.14%</td>\n",
       "      <td>67.19%</td>\n",
       "    </tr>\n",
       "    <tr>\n",
       "      <th>2</th>\n",
       "      <td>GridSearch LogReg</td>\n",
       "      <td>65.88%</td>\n",
       "      <td>62.15%</td>\n",
       "      <td>69.50%</td>\n",
       "    </tr>\n",
       "    <tr>\n",
       "      <th>1</th>\n",
       "      <td>Balanced LogReg</td>\n",
       "      <td>60.61%</td>\n",
       "      <td>66.56%</td>\n",
       "      <td>71.30%</td>\n",
       "    </tr>\n",
       "    <tr>\n",
       "      <th>0</th>\n",
       "      <td>Baseline LogReg</td>\n",
       "      <td>65.87%</td>\n",
       "      <td>62.18%</td>\n",
       "      <td>69.51%</td>\n",
       "    </tr>\n",
       "  </tbody>\n",
       "</table>\n",
       "</div>"
      ],
      "text/plain": [
       "                      Model Precision F1 Score ROC-AUC\n",
       "8         Gradient Boosting    68.66%   67.31%  73.21%\n",
       "7  GridSearch Random Forest    73.02%   32.25%  57.86%\n",
       "6             Random Forest    72.09%   45.19%  62.31%\n",
       "5  GridSearch Decision Tree    68.55%   51.48%  64.45%\n",
       "4       Tuned Decision Tree    68.55%   51.48%  64.45%\n",
       "3     Vanilla Decision Tree    60.48%   60.14%  67.19%\n",
       "2         GridSearch LogReg    65.88%   62.15%  69.50%\n",
       "1           Balanced LogReg    60.61%   66.56%  71.30%\n",
       "0           Baseline LogReg    65.87%   62.18%  69.51%"
      ]
     },
     "metadata": {},
     "output_type": "display_data"
    }
   ],
   "source": [
    "sjs.evaluate('Gradient Boosting', GB, X_train, X_test, y_train, y_test, use_decision_function='no')"
   ]
  },
  {
   "cell_type": "code",
   "execution_count": 52,
   "metadata": {},
   "outputs": [
    {
     "data": {
      "image/png": "[encoded data removed]",
      "text/plain": [
       "<Figure size 576x360 with 1 Axes>"
      ]
     },
     "metadata": {
      "needs_background": "light"
     },
     "output_type": "display_data"
    }
   ],
   "source": [
    "sjs.plot_feature_imp(GB, X)"
   ]
  },
  {
   "cell_type": "code",
   "execution_count": 53,
   "metadata": {},
   "outputs": [
    {
     "name": "stdout",
     "output_type": "stream",
     "text": [
      "Avg Precision Score of 0.6798 with Std Dev of 0.0045\n",
      "\n",
      "The scores were: ['0.6787', '0.6876', '0.6813', '0.6745', '0.6768']\n"
     ]
    }
   ],
   "source": [
    "# Let's try XGBoost Classifier\n",
    "\n",
    "XGB = XGBClassifier()\n",
    "XGB.fit(X_train, y_train)\n",
    "\n",
    "sjs.crossval(XGB, X_train, y_train)"
   ]
  },
  {
   "cell_type": "code",
   "execution_count": 54,
   "metadata": {},
   "outputs": [
    {
     "data": {
      "image/png": "[encoded data removed]",
      "text/plain": [
       "<Figure size 432x288 with 2 Axes>"
      ]
     },
     "metadata": {
      "needs_background": "light"
     },
     "output_type": "display_data"
    },
    {
     "name": "stdout",
     "output_type": "stream",
     "text": [
      "          | Train  | Test   |\n",
      "          |-----------------|\n",
      "Precision | 68.45% | 68.48% |\n",
      "F1 Score  | 67.01% | 67.20% |\n",
      "ROC-AUC   | 82.15% | 82.28% |\n"
     ]
    },
    {
     "data": {
      "text/html": [
       "<div>\n",
       "<style scoped>\n",
       "    .dataframe tbody tr th:only-of-type {\n",
       "        vertical-align: middle;\n",
       "    }\n",
       "\n",
       "    .dataframe tbody tr th {\n",
       "        vertical-align: top;\n",
       "    }\n",
       "\n",
       "    .dataframe thead th {\n",
       "        text-align: right;\n",
       "    }\n",
       "</style>\n",
       "<table border=\"1\" class=\"dataframe\">\n",
       "  <thead>\n",
       "    <tr style=\"text-align: right;\">\n",
       "      <th></th>\n",
       "      <th>Model</th>\n",
       "      <th>Precision</th>\n",
       "      <th>F1 Score</th>\n",
       "      <th>ROC-AUC</th>\n",
       "    </tr>\n",
       "  </thead>\n",
       "  <tbody>\n",
       "    <tr>\n",
       "      <th>9</th>\n",
       "      <td>XGBoost</td>\n",
       "      <td>68.48%</td>\n",
       "      <td>67.20%</td>\n",
       "      <td>73.11%</td>\n",
       "    </tr>\n",
       "    <tr>\n",
       "      <th>8</th>\n",
       "      <td>Gradient Boosting</td>\n",
       "      <td>68.66%</td>\n",
       "      <td>67.31%</td>\n",
       "      <td>73.21%</td>\n",
       "    </tr>\n",
       "    <tr>\n",
       "      <th>7</th>\n",
       "      <td>GridSearch Random Forest</td>\n",
       "      <td>73.02%</td>\n",
       "      <td>32.25%</td>\n",
       "      <td>57.86%</td>\n",
       "    </tr>\n",
       "    <tr>\n",
       "      <th>6</th>\n",
       "      <td>Random Forest</td>\n",
       "      <td>72.09%</td>\n",
       "      <td>45.19%</td>\n",
       "      <td>62.31%</td>\n",
       "    </tr>\n",
       "    <tr>\n",
       "      <th>5</th>\n",
       "      <td>GridSearch Decision Tree</td>\n",
       "      <td>68.55%</td>\n",
       "      <td>51.48%</td>\n",
       "      <td>64.45%</td>\n",
       "    </tr>\n",
       "    <tr>\n",
       "      <th>4</th>\n",
       "      <td>Tuned Decision Tree</td>\n",
       "      <td>68.55%</td>\n",
       "      <td>51.48%</td>\n",
       "      <td>64.45%</td>\n",
       "    </tr>\n",
       "    <tr>\n",
       "      <th>3</th>\n",
       "      <td>Vanilla Decision Tree</td>\n",
       "      <td>60.48%</td>\n",
       "      <td>60.14%</td>\n",
       "      <td>67.19%</td>\n",
       "    </tr>\n",
       "    <tr>\n",
       "      <th>2</th>\n",
       "      <td>GridSearch LogReg</td>\n",
       "      <td>65.88%</td>\n",
       "      <td>62.15%</td>\n",
       "      <td>69.50%</td>\n",
       "    </tr>\n",
       "    <tr>\n",
       "      <th>1</th>\n",
       "      <td>Balanced LogReg</td>\n",
       "      <td>60.61%</td>\n",
       "      <td>66.56%</td>\n",
       "      <td>71.30%</td>\n",
       "    </tr>\n",
       "    <tr>\n",
       "      <th>0</th>\n",
       "      <td>Baseline LogReg</td>\n",
       "      <td>65.87%</td>\n",
       "      <td>62.18%</td>\n",
       "      <td>69.51%</td>\n",
       "    </tr>\n",
       "  </tbody>\n",
       "</table>\n",
       "</div>"
      ],
      "text/plain": [
       "                      Model Precision F1 Score ROC-AUC\n",
       "9                   XGBoost    68.48%   67.20%  73.11%\n",
       "8         Gradient Boosting    68.66%   67.31%  73.21%\n",
       "7  GridSearch Random Forest    73.02%   32.25%  57.86%\n",
       "6             Random Forest    72.09%   45.19%  62.31%\n",
       "5  GridSearch Decision Tree    68.55%   51.48%  64.45%\n",
       "4       Tuned Decision Tree    68.55%   51.48%  64.45%\n",
       "3     Vanilla Decision Tree    60.48%   60.14%  67.19%\n",
       "2         GridSearch LogReg    65.88%   62.15%  69.50%\n",
       "1           Balanced LogReg    60.61%   66.56%  71.30%\n",
       "0           Baseline LogReg    65.87%   62.18%  69.51%"
      ]
     },
     "metadata": {},
     "output_type": "display_data"
    }
   ],
   "source": [
    "sjs.evaluate('XGBoost', XGB, X_train, X_test, y_train, y_test, use_decision_function='no')"
   ]
  },
  {
   "cell_type": "code",
   "execution_count": 55,
   "metadata": {},
   "outputs": [
    {
     "name": "stdout",
     "output_type": "stream",
     "text": [
      "Fitting 3 folds for each of 72 candidates, totalling 216 fits\n",
      "[CV] colsample_bytree=0.5, learning_rate=0.05, max_depth=3, n_estimators=10 \n"
     ]
    },
    {
     "name": "stderr",
     "output_type": "stream",
     "text": [
      "[Parallel(n_jobs=1)]: Using backend SequentialBackend with 1 concurrent workers.\n"
     ]
    },
    {
     "name": "stdout",
     "output_type": "stream",
     "text": [
      "[CV]  colsample_bytree=0.5, learning_rate=0.05, max_depth=3, n_estimators=10, total=   1.3s\n",
      "[CV] colsample_bytree=0.5, learning_rate=0.05, max_depth=3, n_estimators=10 \n"
     ]
    },
    {
     "name": "stderr",
     "output_type": "stream",
     "text": [
      "[Parallel(n_jobs=1)]: Done   1 out of   1 | elapsed:    1.3s remaining:    0.0s\n"
     ]
    },
    {
     "name": "stdout",
     "output_type": "stream",
     "text": [
      "[CV]  colsample_bytree=0.5, learning_rate=0.05, max_depth=3, n_estimators=10, total=   1.2s\n",
      "[CV] colsample_bytree=0.5, learning_rate=0.05, max_depth=3, n_estimators=10 \n",
      "[CV]  colsample_bytree=0.5, learning_rate=0.05, max_depth=3, n_estimators=10, total=   1.0s\n",
      "[CV] colsample_bytree=0.5, learning_rate=0.05, max_depth=3, n_estimators=100 \n",
      "[CV]  colsample_bytree=0.5, learning_rate=0.05, max_depth=3, n_estimators=100, total=   9.7s\n",
      "[CV] colsample_bytree=0.5, learning_rate=0.05, max_depth=3, n_estimators=100 \n",
      "[CV]  colsample_bytree=0.5, learning_rate=0.05, max_depth=3, n_estimators=100, total=   8.2s\n",
      "[CV] colsample_bytree=0.5, learning_rate=0.05, max_depth=3, n_estimators=100 \n",
      "[CV]  colsample_bytree=0.5, learning_rate=0.05, max_depth=3, n_estimators=100, total=   7.7s\n",
      "[CV] colsample_bytree=0.5, learning_rate=0.05, max_depth=3, n_estimators=1000 \n",
      "[CV]  colsample_bytree=0.5, learning_rate=0.05, max_depth=3, n_estimators=1000, total= 1.4min\n",
      "[CV] colsample_bytree=0.5, learning_rate=0.05, max_depth=3, n_estimators=1000 \n",
      "[CV]  colsample_bytree=0.5, learning_rate=0.05, max_depth=3, n_estimators=1000, total= 1.4min\n",
      "[CV] colsample_bytree=0.5, learning_rate=0.05, max_depth=3, n_estimators=1000 \n",
      "[CV]  colsample_bytree=0.5, learning_rate=0.05, max_depth=3, n_estimators=1000, total= 1.3min\n",
      "[CV] colsample_bytree=0.5, learning_rate=0.05, max_depth=5, n_estimators=10 \n",
      "[CV]  colsample_bytree=0.5, learning_rate=0.05, max_depth=5, n_estimators=10, total=   1.6s\n",
      "[CV] colsample_bytree=0.5, learning_rate=0.05, max_depth=5, n_estimators=10 \n",
      "[CV]  colsample_bytree=0.5, learning_rate=0.05, max_depth=5, n_estimators=10, total=   1.6s\n",
      "[CV] colsample_bytree=0.5, learning_rate=0.05, max_depth=5, n_estimators=10 \n",
      "[CV]  colsample_bytree=0.5, learning_rate=0.05, max_depth=5, n_estimators=10, total=   1.6s\n",
      "[CV] colsample_bytree=0.5, learning_rate=0.05, max_depth=5, n_estimators=100 \n",
      "[CV]  colsample_bytree=0.5, learning_rate=0.05, max_depth=5, n_estimators=100, total=  12.6s\n",
      "[CV] colsample_bytree=0.5, learning_rate=0.05, max_depth=5, n_estimators=100 \n",
      "[CV]  colsample_bytree=0.5, learning_rate=0.05, max_depth=5, n_estimators=100, total=  10.7s\n",
      "[CV] colsample_bytree=0.5, learning_rate=0.05, max_depth=5, n_estimators=100 \n",
      "[CV]  colsample_bytree=0.5, learning_rate=0.05, max_depth=5, n_estimators=100, total=  11.1s\n",
      "[CV] colsample_bytree=0.5, learning_rate=0.05, max_depth=5, n_estimators=1000 \n",
      "[CV]  colsample_bytree=0.5, learning_rate=0.05, max_depth=5, n_estimators=1000, total= 1.6min\n",
      "[CV] colsample_bytree=0.5, learning_rate=0.05, max_depth=5, n_estimators=1000 \n",
      "[CV]  colsample_bytree=0.5, learning_rate=0.05, max_depth=5, n_estimators=1000, total= 1.6min\n",
      "[CV] colsample_bytree=0.5, learning_rate=0.05, max_depth=5, n_estimators=1000 \n",
      "[CV]  colsample_bytree=0.5, learning_rate=0.05, max_depth=5, n_estimators=1000, total= 1.6min\n",
      "[CV] colsample_bytree=0.5, learning_rate=0.05, max_depth=7, n_estimators=10 \n",
      "[CV]  colsample_bytree=0.5, learning_rate=0.05, max_depth=7, n_estimators=10, total=   1.6s\n",
      "[CV] colsample_bytree=0.5, learning_rate=0.05, max_depth=7, n_estimators=10 \n",
      "[CV]  colsample_bytree=0.5, learning_rate=0.05, max_depth=7, n_estimators=10, total=   1.6s\n",
      "[CV] colsample_bytree=0.5, learning_rate=0.05, max_depth=7, n_estimators=10 \n",
      "[CV]  colsample_bytree=0.5, learning_rate=0.05, max_depth=7, n_estimators=10, total=   1.7s\n",
      "[CV] colsample_bytree=0.5, learning_rate=0.05, max_depth=7, n_estimators=100 \n",
      "[CV]  colsample_bytree=0.5, learning_rate=0.05, max_depth=7, n_estimators=100, total=  14.0s\n",
      "[CV] colsample_bytree=0.5, learning_rate=0.05, max_depth=7, n_estimators=100 \n",
      "[CV]  colsample_bytree=0.5, learning_rate=0.05, max_depth=7, n_estimators=100, total=  15.0s\n",
      "[CV] colsample_bytree=0.5, learning_rate=0.05, max_depth=7, n_estimators=100 \n",
      "[CV]  colsample_bytree=0.5, learning_rate=0.05, max_depth=7, n_estimators=100, total=  14.2s\n",
      "[CV] colsample_bytree=0.5, learning_rate=0.05, max_depth=7, n_estimators=1000 \n",
      "[CV]  colsample_bytree=0.5, learning_rate=0.05, max_depth=7, n_estimators=1000, total= 2.1min\n",
      "[CV] colsample_bytree=0.5, learning_rate=0.05, max_depth=7, n_estimators=1000 \n",
      "[CV]  colsample_bytree=0.5, learning_rate=0.05, max_depth=7, n_estimators=1000, total= 2.1min\n",
      "[CV] colsample_bytree=0.5, learning_rate=0.05, max_depth=7, n_estimators=1000 \n",
      "[CV]  colsample_bytree=0.5, learning_rate=0.05, max_depth=7, n_estimators=1000, total= 2.1min\n",
      "[CV] colsample_bytree=0.5, learning_rate=0.05, max_depth=10, n_estimators=10 \n",
      "[CV]  colsample_bytree=0.5, learning_rate=0.05, max_depth=10, n_estimators=10, total=   2.2s\n",
      "[CV] colsample_bytree=0.5, learning_rate=0.05, max_depth=10, n_estimators=10 \n",
      "[CV]  colsample_bytree=0.5, learning_rate=0.05, max_depth=10, n_estimators=10, total=   2.3s\n",
      "[CV] colsample_bytree=0.5, learning_rate=0.05, max_depth=10, n_estimators=10 \n",
      "[CV]  colsample_bytree=0.5, learning_rate=0.05, max_depth=10, n_estimators=10, total=   2.2s\n",
      "[CV] colsample_bytree=0.5, learning_rate=0.05, max_depth=10, n_estimators=100 \n",
      "[CV]  colsample_bytree=0.5, learning_rate=0.05, max_depth=10, n_estimators=100, total=  20.0s\n",
      "[CV] colsample_bytree=0.5, learning_rate=0.05, max_depth=10, n_estimators=100 \n",
      "[CV]  colsample_bytree=0.5, learning_rate=0.05, max_depth=10, n_estimators=100, total=  21.1s\n",
      "[CV] colsample_bytree=0.5, learning_rate=0.05, max_depth=10, n_estimators=100 \n",
      "[CV]  colsample_bytree=0.5, learning_rate=0.05, max_depth=10, n_estimators=100, total=  22.6s\n",
      "[CV] colsample_bytree=0.5, learning_rate=0.05, max_depth=10, n_estimators=1000 \n",
      "[CV]  colsample_bytree=0.5, learning_rate=0.05, max_depth=10, n_estimators=1000, total= 3.0min\n",
      "[CV] colsample_bytree=0.5, learning_rate=0.05, max_depth=10, n_estimators=1000 \n",
      "[CV]  colsample_bytree=0.5, learning_rate=0.05, max_depth=10, n_estimators=1000, total= 3.0min\n",
      "[CV] colsample_bytree=0.5, learning_rate=0.05, max_depth=10, n_estimators=1000 \n",
      "[CV]  colsample_bytree=0.5, learning_rate=0.05, max_depth=10, n_estimators=1000, total= 3.0min\n",
      "[CV] colsample_bytree=0.5, learning_rate=0.1, max_depth=3, n_estimators=10 \n",
      "[CV]  colsample_bytree=0.5, learning_rate=0.1, max_depth=3, n_estimators=10, total=   0.9s\n",
      "[CV] colsample_bytree=0.5, learning_rate=0.1, max_depth=3, n_estimators=10 \n",
      "[CV]  colsample_bytree=0.5, learning_rate=0.1, max_depth=3, n_estimators=10, total=   0.9s\n",
      "[CV] colsample_bytree=0.5, learning_rate=0.1, max_depth=3, n_estimators=10 \n",
      "[CV]  colsample_bytree=0.5, learning_rate=0.1, max_depth=3, n_estimators=10, total=   0.9s\n",
      "[CV] colsample_bytree=0.5, learning_rate=0.1, max_depth=3, n_estimators=100 \n",
      "[CV]  colsample_bytree=0.5, learning_rate=0.1, max_depth=3, n_estimators=100, total=   7.0s\n",
      "[CV] colsample_bytree=0.5, learning_rate=0.1, max_depth=3, n_estimators=100 \n",
      "[CV]  colsample_bytree=0.5, learning_rate=0.1, max_depth=3, n_estimators=100, total=   7.0s\n",
      "[CV] colsample_bytree=0.5, learning_rate=0.1, max_depth=3, n_estimators=100 \n",
      "[CV]  colsample_bytree=0.5, learning_rate=0.1, max_depth=3, n_estimators=100, total=   6.9s\n",
      "[CV] colsample_bytree=0.5, learning_rate=0.1, max_depth=3, n_estimators=1000 \n",
      "[CV]  colsample_bytree=0.5, learning_rate=0.1, max_depth=3, n_estimators=1000, total= 1.1min\n",
      "[CV] colsample_bytree=0.5, learning_rate=0.1, max_depth=3, n_estimators=1000 \n",
      "[CV]  colsample_bytree=0.5, learning_rate=0.1, max_depth=3, n_estimators=1000, total= 1.1min\n",
      "[CV] colsample_bytree=0.5, learning_rate=0.1, max_depth=3, n_estimators=1000 \n",
      "[CV]  colsample_bytree=0.5, learning_rate=0.1, max_depth=3, n_estimators=1000, total= 1.1min\n",
      "[CV] colsample_bytree=0.5, learning_rate=0.1, max_depth=5, n_estimators=10 \n",
      "[CV]  colsample_bytree=0.5, learning_rate=0.1, max_depth=5, n_estimators=10, total=   1.2s\n",
      "[CV] colsample_bytree=0.5, learning_rate=0.1, max_depth=5, n_estimators=10 \n",
      "[CV]  colsample_bytree=0.5, learning_rate=0.1, max_depth=5, n_estimators=10, total=   1.3s\n",
      "[CV] colsample_bytree=0.5, learning_rate=0.1, max_depth=5, n_estimators=10 \n",
      "[CV]  colsample_bytree=0.5, learning_rate=0.1, max_depth=5, n_estimators=10, total=   1.2s\n",
      "[CV] colsample_bytree=0.5, learning_rate=0.1, max_depth=5, n_estimators=100 \n",
      "[CV]  colsample_bytree=0.5, learning_rate=0.1, max_depth=5, n_estimators=100, total=   9.8s\n",
      "[CV] colsample_bytree=0.5, learning_rate=0.1, max_depth=5, n_estimators=100 \n"
     ]
    },
    {
     "name": "stdout",
     "output_type": "stream",
     "text": [
      "[CV]  colsample_bytree=0.5, learning_rate=0.1, max_depth=5, n_estimators=100, total=   9.8s\n",
      "[CV] colsample_bytree=0.5, learning_rate=0.1, max_depth=5, n_estimators=100 \n",
      "[CV]  colsample_bytree=0.5, learning_rate=0.1, max_depth=5, n_estimators=100, total=   9.7s\n",
      "[CV] colsample_bytree=0.5, learning_rate=0.1, max_depth=5, n_estimators=1000 \n",
      "[CV]  colsample_bytree=0.5, learning_rate=0.1, max_depth=5, n_estimators=1000, total= 1.6min\n",
      "[CV] colsample_bytree=0.5, learning_rate=0.1, max_depth=5, n_estimators=1000 \n",
      "[CV]  colsample_bytree=0.5, learning_rate=0.1, max_depth=5, n_estimators=1000, total= 1.6min\n",
      "[CV] colsample_bytree=0.5, learning_rate=0.1, max_depth=5, n_estimators=1000 \n",
      "[CV]  colsample_bytree=0.5, learning_rate=0.1, max_depth=5, n_estimators=1000, total= 1.6min\n",
      "[CV] colsample_bytree=0.5, learning_rate=0.1, max_depth=7, n_estimators=10 \n",
      "[CV]  colsample_bytree=0.5, learning_rate=0.1, max_depth=7, n_estimators=10, total=   1.7s\n",
      "[CV] colsample_bytree=0.5, learning_rate=0.1, max_depth=7, n_estimators=10 \n",
      "[CV]  colsample_bytree=0.5, learning_rate=0.1, max_depth=7, n_estimators=10, total=   1.6s\n",
      "[CV] colsample_bytree=0.5, learning_rate=0.1, max_depth=7, n_estimators=10 \n",
      "[CV]  colsample_bytree=0.5, learning_rate=0.1, max_depth=7, n_estimators=10, total=   1.5s\n",
      "[CV] colsample_bytree=0.5, learning_rate=0.1, max_depth=7, n_estimators=100 \n",
      "[CV]  colsample_bytree=0.5, learning_rate=0.1, max_depth=7, n_estimators=100, total=  13.9s\n",
      "[CV] colsample_bytree=0.5, learning_rate=0.1, max_depth=7, n_estimators=100 \n",
      "[CV]  colsample_bytree=0.5, learning_rate=0.1, max_depth=7, n_estimators=100, total=  13.7s\n",
      "[CV] colsample_bytree=0.5, learning_rate=0.1, max_depth=7, n_estimators=100 \n",
      "[CV]  colsample_bytree=0.5, learning_rate=0.1, max_depth=7, n_estimators=100, total=  14.0s\n",
      "[CV] colsample_bytree=0.5, learning_rate=0.1, max_depth=7, n_estimators=1000 \n",
      "[CV]  colsample_bytree=0.5, learning_rate=0.1, max_depth=7, n_estimators=1000, total= 2.1min\n",
      "[CV] colsample_bytree=0.5, learning_rate=0.1, max_depth=7, n_estimators=1000 \n",
      "[CV]  colsample_bytree=0.5, learning_rate=0.1, max_depth=7, n_estimators=1000, total= 2.1min\n",
      "[CV] colsample_bytree=0.5, learning_rate=0.1, max_depth=7, n_estimators=1000 \n",
      "[CV]  colsample_bytree=0.5, learning_rate=0.1, max_depth=7, n_estimators=1000, total= 2.1min\n",
      "[CV] colsample_bytree=0.5, learning_rate=0.1, max_depth=10, n_estimators=10 \n",
      "[CV]  colsample_bytree=0.5, learning_rate=0.1, max_depth=10, n_estimators=10, total=   2.3s\n",
      "[CV] colsample_bytree=0.5, learning_rate=0.1, max_depth=10, n_estimators=10 \n",
      "[CV]  colsample_bytree=0.5, learning_rate=0.1, max_depth=10, n_estimators=10, total=   2.3s\n",
      "[CV] colsample_bytree=0.5, learning_rate=0.1, max_depth=10, n_estimators=10 \n",
      "[CV]  colsample_bytree=0.5, learning_rate=0.1, max_depth=10, n_estimators=10, total=   2.3s\n",
      "[CV] colsample_bytree=0.5, learning_rate=0.1, max_depth=10, n_estimators=100 \n",
      "[CV]  colsample_bytree=0.5, learning_rate=0.1, max_depth=10, n_estimators=100, total=  20.3s\n",
      "[CV] colsample_bytree=0.5, learning_rate=0.1, max_depth=10, n_estimators=100 \n",
      "[CV]  colsample_bytree=0.5, learning_rate=0.1, max_depth=10, n_estimators=100, total=  19.2s\n",
      "[CV] colsample_bytree=0.5, learning_rate=0.1, max_depth=10, n_estimators=100 \n",
      "[CV]  colsample_bytree=0.5, learning_rate=0.1, max_depth=10, n_estimators=100, total=  19.0s\n",
      "[CV] colsample_bytree=0.5, learning_rate=0.1, max_depth=10, n_estimators=1000 \n",
      "[CV]  colsample_bytree=0.5, learning_rate=0.1, max_depth=10, n_estimators=1000, total= 3.0min\n",
      "[CV] colsample_bytree=0.5, learning_rate=0.1, max_depth=10, n_estimators=1000 \n",
      "[CV]  colsample_bytree=0.5, learning_rate=0.1, max_depth=10, n_estimators=1000, total= 3.1min\n",
      "[CV] colsample_bytree=0.5, learning_rate=0.1, max_depth=10, n_estimators=1000 \n",
      "[CV]  colsample_bytree=0.5, learning_rate=0.1, max_depth=10, n_estimators=1000, total= 3.0min\n",
      "[CV] colsample_bytree=0.5, learning_rate=0.2, max_depth=3, n_estimators=10 \n",
      "[CV]  colsample_bytree=0.5, learning_rate=0.2, max_depth=3, n_estimators=10, total=   0.9s\n",
      "[CV] colsample_bytree=0.5, learning_rate=0.2, max_depth=3, n_estimators=10 \n",
      "[CV]  colsample_bytree=0.5, learning_rate=0.2, max_depth=3, n_estimators=10, total=   0.9s\n",
      "[CV] colsample_bytree=0.5, learning_rate=0.2, max_depth=3, n_estimators=10 \n",
      "[CV]  colsample_bytree=0.5, learning_rate=0.2, max_depth=3, n_estimators=10, total=   0.9s\n",
      "[CV] colsample_bytree=0.5, learning_rate=0.2, max_depth=3, n_estimators=100 \n",
      "[CV]  colsample_bytree=0.5, learning_rate=0.2, max_depth=3, n_estimators=100, total=   7.1s\n",
      "[CV] colsample_bytree=0.5, learning_rate=0.2, max_depth=3, n_estimators=100 \n",
      "[CV]  colsample_bytree=0.5, learning_rate=0.2, max_depth=3, n_estimators=100, total=   7.5s\n",
      "[CV] colsample_bytree=0.5, learning_rate=0.2, max_depth=3, n_estimators=100 \n",
      "[CV]  colsample_bytree=0.5, learning_rate=0.2, max_depth=3, n_estimators=100, total=   7.4s\n",
      "[CV] colsample_bytree=0.5, learning_rate=0.2, max_depth=3, n_estimators=1000 \n",
      "[CV]  colsample_bytree=0.5, learning_rate=0.2, max_depth=3, n_estimators=1000, total= 1.1min\n",
      "[CV] colsample_bytree=0.5, learning_rate=0.2, max_depth=3, n_estimators=1000 \n",
      "[CV]  colsample_bytree=0.5, learning_rate=0.2, max_depth=3, n_estimators=1000, total= 1.1min\n",
      "[CV] colsample_bytree=0.5, learning_rate=0.2, max_depth=3, n_estimators=1000 \n",
      "[CV]  colsample_bytree=0.5, learning_rate=0.2, max_depth=3, n_estimators=1000, total= 1.1min\n",
      "[CV] colsample_bytree=0.5, learning_rate=0.2, max_depth=5, n_estimators=10 \n",
      "[CV]  colsample_bytree=0.5, learning_rate=0.2, max_depth=5, n_estimators=10, total=   1.3s\n",
      "[CV] colsample_bytree=0.5, learning_rate=0.2, max_depth=5, n_estimators=10 \n",
      "[CV]  colsample_bytree=0.5, learning_rate=0.2, max_depth=5, n_estimators=10, total=   1.3s\n",
      "[CV] colsample_bytree=0.5, learning_rate=0.2, max_depth=5, n_estimators=10 \n",
      "[CV]  colsample_bytree=0.5, learning_rate=0.2, max_depth=5, n_estimators=10, total=   1.3s\n",
      "[CV] colsample_bytree=0.5, learning_rate=0.2, max_depth=5, n_estimators=100 \n",
      "[CV]  colsample_bytree=0.5, learning_rate=0.2, max_depth=5, n_estimators=100, total=  10.0s\n",
      "[CV] colsample_bytree=0.5, learning_rate=0.2, max_depth=5, n_estimators=100 \n",
      "[CV]  colsample_bytree=0.5, learning_rate=0.2, max_depth=5, n_estimators=100, total=  10.5s\n",
      "[CV] colsample_bytree=0.5, learning_rate=0.2, max_depth=5, n_estimators=100 \n",
      "[CV]  colsample_bytree=0.5, learning_rate=0.2, max_depth=5, n_estimators=100, total=   9.9s\n",
      "[CV] colsample_bytree=0.5, learning_rate=0.2, max_depth=5, n_estimators=1000 \n",
      "[CV]  colsample_bytree=0.5, learning_rate=0.2, max_depth=5, n_estimators=1000, total= 1.6min\n",
      "[CV] colsample_bytree=0.5, learning_rate=0.2, max_depth=5, n_estimators=1000 \n",
      "[CV]  colsample_bytree=0.5, learning_rate=0.2, max_depth=5, n_estimators=1000, total= 1.6min\n",
      "[CV] colsample_bytree=0.5, learning_rate=0.2, max_depth=5, n_estimators=1000 \n",
      "[CV]  colsample_bytree=0.5, learning_rate=0.2, max_depth=5, n_estimators=1000, total= 1.5min\n",
      "[CV] colsample_bytree=0.5, learning_rate=0.2, max_depth=7, n_estimators=10 \n",
      "[CV]  colsample_bytree=0.5, learning_rate=0.2, max_depth=7, n_estimators=10, total=   1.6s\n",
      "[CV] colsample_bytree=0.5, learning_rate=0.2, max_depth=7, n_estimators=10 \n",
      "[CV]  colsample_bytree=0.5, learning_rate=0.2, max_depth=7, n_estimators=10, total=   1.5s\n",
      "[CV] colsample_bytree=0.5, learning_rate=0.2, max_depth=7, n_estimators=10 \n",
      "[CV]  colsample_bytree=0.5, learning_rate=0.2, max_depth=7, n_estimators=10, total=   1.7s\n",
      "[CV] colsample_bytree=0.5, learning_rate=0.2, max_depth=7, n_estimators=100 \n",
      "[CV]  colsample_bytree=0.5, learning_rate=0.2, max_depth=7, n_estimators=100, total=  13.9s\n",
      "[CV] colsample_bytree=0.5, learning_rate=0.2, max_depth=7, n_estimators=100 \n",
      "[CV]  colsample_bytree=0.5, learning_rate=0.2, max_depth=7, n_estimators=100, total=  12.9s\n",
      "[CV] colsample_bytree=0.5, learning_rate=0.2, max_depth=7, n_estimators=100 \n",
      "[CV]  colsample_bytree=0.5, learning_rate=0.2, max_depth=7, n_estimators=100, total=  13.0s\n",
      "[CV] colsample_bytree=0.5, learning_rate=0.2, max_depth=7, n_estimators=1000 \n",
      "[CV]  colsample_bytree=0.5, learning_rate=0.2, max_depth=7, n_estimators=1000, total= 2.2min\n",
      "[CV] colsample_bytree=0.5, learning_rate=0.2, max_depth=7, n_estimators=1000 \n",
      "[CV]  colsample_bytree=0.5, learning_rate=0.2, max_depth=7, n_estimators=1000, total= 2.3min\n",
      "[CV] colsample_bytree=0.5, learning_rate=0.2, max_depth=7, n_estimators=1000 \n"
     ]
    },
    {
     "name": "stdout",
     "output_type": "stream",
     "text": [
      "[CV]  colsample_bytree=0.5, learning_rate=0.2, max_depth=7, n_estimators=1000, total= 2.1min\n",
      "[CV] colsample_bytree=0.5, learning_rate=0.2, max_depth=10, n_estimators=10 \n",
      "[CV]  colsample_bytree=0.5, learning_rate=0.2, max_depth=10, n_estimators=10, total=   2.2s\n",
      "[CV] colsample_bytree=0.5, learning_rate=0.2, max_depth=10, n_estimators=10 \n",
      "[CV]  colsample_bytree=0.5, learning_rate=0.2, max_depth=10, n_estimators=10, total=   2.2s\n",
      "[CV] colsample_bytree=0.5, learning_rate=0.2, max_depth=10, n_estimators=10 \n",
      "[CV]  colsample_bytree=0.5, learning_rate=0.2, max_depth=10, n_estimators=10, total=   2.2s\n",
      "[CV] colsample_bytree=0.5, learning_rate=0.2, max_depth=10, n_estimators=100 \n",
      "[CV]  colsample_bytree=0.5, learning_rate=0.2, max_depth=10, n_estimators=100, total=  18.2s\n",
      "[CV] colsample_bytree=0.5, learning_rate=0.2, max_depth=10, n_estimators=100 \n",
      "[CV]  colsample_bytree=0.5, learning_rate=0.2, max_depth=10, n_estimators=100, total=  18.6s\n",
      "[CV] colsample_bytree=0.5, learning_rate=0.2, max_depth=10, n_estimators=100 \n",
      "[CV]  colsample_bytree=0.5, learning_rate=0.2, max_depth=10, n_estimators=100, total=  18.6s\n",
      "[CV] colsample_bytree=0.5, learning_rate=0.2, max_depth=10, n_estimators=1000 \n",
      "[CV]  colsample_bytree=0.5, learning_rate=0.2, max_depth=10, n_estimators=1000, total= 3.0min\n",
      "[CV] colsample_bytree=0.5, learning_rate=0.2, max_depth=10, n_estimators=1000 \n",
      "[CV]  colsample_bytree=0.5, learning_rate=0.2, max_depth=10, n_estimators=1000, total= 3.0min\n",
      "[CV] colsample_bytree=0.5, learning_rate=0.2, max_depth=10, n_estimators=1000 \n",
      "[CV]  colsample_bytree=0.5, learning_rate=0.2, max_depth=10, n_estimators=1000, total= 3.0min\n",
      "[CV] colsample_bytree=1, learning_rate=0.05, max_depth=3, n_estimators=10 \n",
      "[CV]  colsample_bytree=1, learning_rate=0.05, max_depth=3, n_estimators=10, total=   1.3s\n",
      "[CV] colsample_bytree=1, learning_rate=0.05, max_depth=3, n_estimators=10 \n",
      "[CV]  colsample_bytree=1, learning_rate=0.05, max_depth=3, n_estimators=10, total=   1.0s\n",
      "[CV] colsample_bytree=1, learning_rate=0.05, max_depth=3, n_estimators=10 \n",
      "[CV]  colsample_bytree=1, learning_rate=0.05, max_depth=3, n_estimators=10, total=   1.1s\n",
      "[CV] colsample_bytree=1, learning_rate=0.05, max_depth=3, n_estimators=100 \n",
      "[CV]  colsample_bytree=1, learning_rate=0.05, max_depth=3, n_estimators=100, total=   9.6s\n",
      "[CV] colsample_bytree=1, learning_rate=0.05, max_depth=3, n_estimators=100 \n",
      "[CV]  colsample_bytree=1, learning_rate=0.05, max_depth=3, n_estimators=100, total=   9.8s\n",
      "[CV] colsample_bytree=1, learning_rate=0.05, max_depth=3, n_estimators=100 \n",
      "[CV]  colsample_bytree=1, learning_rate=0.05, max_depth=3, n_estimators=100, total=  10.0s\n",
      "[CV] colsample_bytree=1, learning_rate=0.05, max_depth=3, n_estimators=1000 \n",
      "[CV]  colsample_bytree=1, learning_rate=0.05, max_depth=3, n_estimators=1000, total= 1.5min\n",
      "[CV] colsample_bytree=1, learning_rate=0.05, max_depth=3, n_estimators=1000 \n",
      "[CV]  colsample_bytree=1, learning_rate=0.05, max_depth=3, n_estimators=1000, total= 1.6min\n",
      "[CV] colsample_bytree=1, learning_rate=0.05, max_depth=3, n_estimators=1000 \n",
      "[CV]  colsample_bytree=1, learning_rate=0.05, max_depth=3, n_estimators=1000, total= 1.5min\n",
      "[CV] colsample_bytree=1, learning_rate=0.05, max_depth=5, n_estimators=10 \n",
      "[CV]  colsample_bytree=1, learning_rate=0.05, max_depth=5, n_estimators=10, total=   1.8s\n",
      "[CV] colsample_bytree=1, learning_rate=0.05, max_depth=5, n_estimators=10 \n",
      "[CV]  colsample_bytree=1, learning_rate=0.05, max_depth=5, n_estimators=10, total=   1.9s\n",
      "[CV] colsample_bytree=1, learning_rate=0.05, max_depth=5, n_estimators=10 \n",
      "[CV]  colsample_bytree=1, learning_rate=0.05, max_depth=5, n_estimators=10, total=   1.9s\n",
      "[CV] colsample_bytree=1, learning_rate=0.05, max_depth=5, n_estimators=100 \n",
      "[CV]  colsample_bytree=1, learning_rate=0.05, max_depth=5, n_estimators=100, total=  16.2s\n",
      "[CV] colsample_bytree=1, learning_rate=0.05, max_depth=5, n_estimators=100 \n",
      "[CV]  colsample_bytree=1, learning_rate=0.05, max_depth=5, n_estimators=100, total=  14.9s\n",
      "[CV] colsample_bytree=1, learning_rate=0.05, max_depth=5, n_estimators=100 \n",
      "[CV]  colsample_bytree=1, learning_rate=0.05, max_depth=5, n_estimators=100, total=  15.3s\n",
      "[CV] colsample_bytree=1, learning_rate=0.05, max_depth=5, n_estimators=1000 \n",
      "[CV]  colsample_bytree=1, learning_rate=0.05, max_depth=5, n_estimators=1000, total= 2.3min\n",
      "[CV] colsample_bytree=1, learning_rate=0.05, max_depth=5, n_estimators=1000 \n",
      "[CV]  colsample_bytree=1, learning_rate=0.05, max_depth=5, n_estimators=1000, total= 2.4min\n",
      "[CV] colsample_bytree=1, learning_rate=0.05, max_depth=5, n_estimators=1000 \n",
      "[CV]  colsample_bytree=1, learning_rate=0.05, max_depth=5, n_estimators=1000, total= 2.3min\n",
      "[CV] colsample_bytree=1, learning_rate=0.05, max_depth=7, n_estimators=10 \n",
      "[CV]  colsample_bytree=1, learning_rate=0.05, max_depth=7, n_estimators=10, total=   2.4s\n",
      "[CV] colsample_bytree=1, learning_rate=0.05, max_depth=7, n_estimators=10 \n",
      "[CV]  colsample_bytree=1, learning_rate=0.05, max_depth=7, n_estimators=10, total=   2.3s\n",
      "[CV] colsample_bytree=1, learning_rate=0.05, max_depth=7, n_estimators=10 \n",
      "[CV]  colsample_bytree=1, learning_rate=0.05, max_depth=7, n_estimators=10, total=   2.6s\n",
      "[CV] colsample_bytree=1, learning_rate=0.05, max_depth=7, n_estimators=100 \n",
      "[CV]  colsample_bytree=1, learning_rate=0.05, max_depth=7, n_estimators=100, total=  21.3s\n",
      "[CV] colsample_bytree=1, learning_rate=0.05, max_depth=7, n_estimators=100 \n",
      "[CV]  colsample_bytree=1, learning_rate=0.05, max_depth=7, n_estimators=100, total=  22.3s\n",
      "[CV] colsample_bytree=1, learning_rate=0.05, max_depth=7, n_estimators=100 \n",
      "[CV]  colsample_bytree=1, learning_rate=0.05, max_depth=7, n_estimators=100, total=  21.7s\n",
      "[CV] colsample_bytree=1, learning_rate=0.05, max_depth=7, n_estimators=1000 \n",
      "[CV]  colsample_bytree=1, learning_rate=0.05, max_depth=7, n_estimators=1000, total= 3.3min\n",
      "[CV] colsample_bytree=1, learning_rate=0.05, max_depth=7, n_estimators=1000 \n",
      "[CV]  colsample_bytree=1, learning_rate=0.05, max_depth=7, n_estimators=1000, total= 3.3min\n",
      "[CV] colsample_bytree=1, learning_rate=0.05, max_depth=7, n_estimators=1000 \n",
      "[CV]  colsample_bytree=1, learning_rate=0.05, max_depth=7, n_estimators=1000, total= 3.3min\n",
      "[CV] colsample_bytree=1, learning_rate=0.05, max_depth=10, n_estimators=10 \n",
      "[CV]  colsample_bytree=1, learning_rate=0.05, max_depth=10, n_estimators=10, total=   3.9s\n",
      "[CV] colsample_bytree=1, learning_rate=0.05, max_depth=10, n_estimators=10 \n",
      "[CV]  colsample_bytree=1, learning_rate=0.05, max_depth=10, n_estimators=10, total=   4.0s\n",
      "[CV] colsample_bytree=1, learning_rate=0.05, max_depth=10, n_estimators=10 \n",
      "[CV]  colsample_bytree=1, learning_rate=0.05, max_depth=10, n_estimators=10, total=   3.8s\n",
      "[CV] colsample_bytree=1, learning_rate=0.05, max_depth=10, n_estimators=100 \n",
      "[CV]  colsample_bytree=1, learning_rate=0.05, max_depth=10, n_estimators=100, total=  33.8s\n",
      "[CV] colsample_bytree=1, learning_rate=0.05, max_depth=10, n_estimators=100 \n",
      "[CV]  colsample_bytree=1, learning_rate=0.05, max_depth=10, n_estimators=100, total=  32.9s\n",
      "[CV] colsample_bytree=1, learning_rate=0.05, max_depth=10, n_estimators=100 \n",
      "[CV]  colsample_bytree=1, learning_rate=0.05, max_depth=10, n_estimators=100, total=  33.4s\n",
      "[CV] colsample_bytree=1, learning_rate=0.05, max_depth=10, n_estimators=1000 \n",
      "[CV]  colsample_bytree=1, learning_rate=0.05, max_depth=10, n_estimators=1000, total= 4.8min\n",
      "[CV] colsample_bytree=1, learning_rate=0.05, max_depth=10, n_estimators=1000 \n",
      "[CV]  colsample_bytree=1, learning_rate=0.05, max_depth=10, n_estimators=1000, total= 4.9min\n",
      "[CV] colsample_bytree=1, learning_rate=0.05, max_depth=10, n_estimators=1000 \n",
      "[CV]  colsample_bytree=1, learning_rate=0.05, max_depth=10, n_estimators=1000, total= 4.9min\n",
      "[CV] colsample_bytree=1, learning_rate=0.1, max_depth=3, n_estimators=10 \n",
      "[CV]  colsample_bytree=1, learning_rate=0.1, max_depth=3, n_estimators=10, total=   1.6s\n",
      "[CV] colsample_bytree=1, learning_rate=0.1, max_depth=3, n_estimators=10 \n",
      "[CV]  colsample_bytree=1, learning_rate=0.1, max_depth=3, n_estimators=10, total=   1.4s\n",
      "[CV] colsample_bytree=1, learning_rate=0.1, max_depth=3, n_estimators=10 \n",
      "[CV]  colsample_bytree=1, learning_rate=0.1, max_depth=3, n_estimators=10, total=   1.4s\n",
      "[CV] colsample_bytree=1, learning_rate=0.1, max_depth=3, n_estimators=100 \n"
     ]
    },
    {
     "name": "stdout",
     "output_type": "stream",
     "text": [
      "[CV]  colsample_bytree=1, learning_rate=0.1, max_depth=3, n_estimators=100, total=   9.5s\n",
      "[CV] colsample_bytree=1, learning_rate=0.1, max_depth=3, n_estimators=100 \n",
      "[CV]  colsample_bytree=1, learning_rate=0.1, max_depth=3, n_estimators=100, total=  10.1s\n",
      "[CV] colsample_bytree=1, learning_rate=0.1, max_depth=3, n_estimators=100 \n",
      "[CV]  colsample_bytree=1, learning_rate=0.1, max_depth=3, n_estimators=100, total=   9.5s\n",
      "[CV] colsample_bytree=1, learning_rate=0.1, max_depth=3, n_estimators=1000 \n",
      "[CV]  colsample_bytree=1, learning_rate=0.1, max_depth=3, n_estimators=1000, total= 1.5min\n",
      "[CV] colsample_bytree=1, learning_rate=0.1, max_depth=3, n_estimators=1000 \n",
      "[CV]  colsample_bytree=1, learning_rate=0.1, max_depth=3, n_estimators=1000, total= 1.5min\n",
      "[CV] colsample_bytree=1, learning_rate=0.1, max_depth=3, n_estimators=1000 \n",
      "[CV]  colsample_bytree=1, learning_rate=0.1, max_depth=3, n_estimators=1000, total= 1.5min\n",
      "[CV] colsample_bytree=1, learning_rate=0.1, max_depth=5, n_estimators=10 \n",
      "[CV]  colsample_bytree=1, learning_rate=0.1, max_depth=5, n_estimators=10, total=   1.7s\n",
      "[CV] colsample_bytree=1, learning_rate=0.1, max_depth=5, n_estimators=10 \n",
      "[CV]  colsample_bytree=1, learning_rate=0.1, max_depth=5, n_estimators=10, total=   2.2s\n",
      "[CV] colsample_bytree=1, learning_rate=0.1, max_depth=5, n_estimators=10 \n",
      "[CV]  colsample_bytree=1, learning_rate=0.1, max_depth=5, n_estimators=10, total=   2.1s\n",
      "[CV] colsample_bytree=1, learning_rate=0.1, max_depth=5, n_estimators=100 \n",
      "[CV]  colsample_bytree=1, learning_rate=0.1, max_depth=5, n_estimators=100, total=  14.8s\n",
      "[CV] colsample_bytree=1, learning_rate=0.1, max_depth=5, n_estimators=100 \n",
      "[CV]  colsample_bytree=1, learning_rate=0.1, max_depth=5, n_estimators=100, total=  14.7s\n",
      "[CV] colsample_bytree=1, learning_rate=0.1, max_depth=5, n_estimators=100 \n",
      "[CV]  colsample_bytree=1, learning_rate=0.1, max_depth=5, n_estimators=100, total=  14.5s\n",
      "[CV] colsample_bytree=1, learning_rate=0.1, max_depth=5, n_estimators=1000 \n",
      "[CV]  colsample_bytree=1, learning_rate=0.1, max_depth=5, n_estimators=1000, total= 2.8min\n",
      "[CV] colsample_bytree=1, learning_rate=0.1, max_depth=5, n_estimators=1000 \n",
      "[CV]  colsample_bytree=1, learning_rate=0.1, max_depth=5, n_estimators=1000, total= 2.8min\n",
      "[CV] colsample_bytree=1, learning_rate=0.1, max_depth=5, n_estimators=1000 \n",
      "[CV]  colsample_bytree=1, learning_rate=0.1, max_depth=5, n_estimators=1000, total= 2.9min\n",
      "[CV] colsample_bytree=1, learning_rate=0.1, max_depth=7, n_estimators=10 \n",
      "[CV]  colsample_bytree=1, learning_rate=0.1, max_depth=7, n_estimators=10, total=   2.6s\n",
      "[CV] colsample_bytree=1, learning_rate=0.1, max_depth=7, n_estimators=10 \n",
      "[CV]  colsample_bytree=1, learning_rate=0.1, max_depth=7, n_estimators=10, total=   2.5s\n",
      "[CV] colsample_bytree=1, learning_rate=0.1, max_depth=7, n_estimators=10 \n",
      "[CV]  colsample_bytree=1, learning_rate=0.1, max_depth=7, n_estimators=10, total=   2.8s\n",
      "[CV] colsample_bytree=1, learning_rate=0.1, max_depth=7, n_estimators=100 \n",
      "[CV]  colsample_bytree=1, learning_rate=0.1, max_depth=7, n_estimators=100, total=  27.8s\n",
      "[CV] colsample_bytree=1, learning_rate=0.1, max_depth=7, n_estimators=100 \n",
      "[CV]  colsample_bytree=1, learning_rate=0.1, max_depth=7, n_estimators=100, total=  31.1s\n",
      "[CV] colsample_bytree=1, learning_rate=0.1, max_depth=7, n_estimators=100 \n",
      "[CV]  colsample_bytree=1, learning_rate=0.1, max_depth=7, n_estimators=100, total=  23.6s\n",
      "[CV] colsample_bytree=1, learning_rate=0.1, max_depth=7, n_estimators=1000 \n",
      "[CV]  colsample_bytree=1, learning_rate=0.1, max_depth=7, n_estimators=1000, total= 4.0min\n",
      "[CV] colsample_bytree=1, learning_rate=0.1, max_depth=7, n_estimators=1000 \n",
      "[CV]  colsample_bytree=1, learning_rate=0.1, max_depth=7, n_estimators=1000, total= 3.9min\n",
      "[CV] colsample_bytree=1, learning_rate=0.1, max_depth=7, n_estimators=1000 \n",
      "[CV]  colsample_bytree=1, learning_rate=0.1, max_depth=7, n_estimators=1000, total= 3.9min\n",
      "[CV] colsample_bytree=1, learning_rate=0.1, max_depth=10, n_estimators=10 \n",
      "[CV]  colsample_bytree=1, learning_rate=0.1, max_depth=10, n_estimators=10, total=   4.0s\n",
      "[CV] colsample_bytree=1, learning_rate=0.1, max_depth=10, n_estimators=10 \n",
      "[CV]  colsample_bytree=1, learning_rate=0.1, max_depth=10, n_estimators=10, total=   3.8s\n",
      "[CV] colsample_bytree=1, learning_rate=0.1, max_depth=10, n_estimators=10 \n",
      "[CV]  colsample_bytree=1, learning_rate=0.1, max_depth=10, n_estimators=10, total=   4.4s\n",
      "[CV] colsample_bytree=1, learning_rate=0.1, max_depth=10, n_estimators=100 \n",
      "[CV]  colsample_bytree=1, learning_rate=0.1, max_depth=10, n_estimators=100, total=  34.5s\n",
      "[CV] colsample_bytree=1, learning_rate=0.1, max_depth=10, n_estimators=100 \n",
      "[CV]  colsample_bytree=1, learning_rate=0.1, max_depth=10, n_estimators=100, total=  31.0s\n",
      "[CV] colsample_bytree=1, learning_rate=0.1, max_depth=10, n_estimators=100 \n",
      "[CV]  colsample_bytree=1, learning_rate=0.1, max_depth=10, n_estimators=100, total=  30.2s\n",
      "[CV] colsample_bytree=1, learning_rate=0.1, max_depth=10, n_estimators=1000 \n",
      "[CV]  colsample_bytree=1, learning_rate=0.1, max_depth=10, n_estimators=1000, total= 4.9min\n",
      "[CV] colsample_bytree=1, learning_rate=0.1, max_depth=10, n_estimators=1000 \n",
      "[CV]  colsample_bytree=1, learning_rate=0.1, max_depth=10, n_estimators=1000, total= 4.9min\n",
      "[CV] colsample_bytree=1, learning_rate=0.1, max_depth=10, n_estimators=1000 \n",
      "[CV]  colsample_bytree=1, learning_rate=0.1, max_depth=10, n_estimators=1000, total= 4.8min\n",
      "[CV] colsample_bytree=1, learning_rate=0.2, max_depth=3, n_estimators=10 \n",
      "[CV]  colsample_bytree=1, learning_rate=0.2, max_depth=3, n_estimators=10, total=   1.2s\n",
      "[CV] colsample_bytree=1, learning_rate=0.2, max_depth=3, n_estimators=10 \n",
      "[CV]  colsample_bytree=1, learning_rate=0.2, max_depth=3, n_estimators=10, total=   1.3s\n",
      "[CV] colsample_bytree=1, learning_rate=0.2, max_depth=3, n_estimators=10 \n",
      "[CV]  colsample_bytree=1, learning_rate=0.2, max_depth=3, n_estimators=10, total=   1.2s\n",
      "[CV] colsample_bytree=1, learning_rate=0.2, max_depth=3, n_estimators=100 \n",
      "[CV]  colsample_bytree=1, learning_rate=0.2, max_depth=3, n_estimators=100, total=   9.9s\n",
      "[CV] colsample_bytree=1, learning_rate=0.2, max_depth=3, n_estimators=100 \n",
      "[CV]  colsample_bytree=1, learning_rate=0.2, max_depth=3, n_estimators=100, total=   8.9s\n",
      "[CV] colsample_bytree=1, learning_rate=0.2, max_depth=3, n_estimators=100 \n",
      "[CV]  colsample_bytree=1, learning_rate=0.2, max_depth=3, n_estimators=100, total=  10.2s\n",
      "[CV] colsample_bytree=1, learning_rate=0.2, max_depth=3, n_estimators=1000 \n",
      "[CV]  colsample_bytree=1, learning_rate=0.2, max_depth=3, n_estimators=1000, total= 1.5min\n",
      "[CV] colsample_bytree=1, learning_rate=0.2, max_depth=3, n_estimators=1000 \n",
      "[CV]  colsample_bytree=1, learning_rate=0.2, max_depth=3, n_estimators=1000, total= 1.5min\n",
      "[CV] colsample_bytree=1, learning_rate=0.2, max_depth=3, n_estimators=1000 \n",
      "[CV]  colsample_bytree=1, learning_rate=0.2, max_depth=3, n_estimators=1000, total= 1.5min\n",
      "[CV] colsample_bytree=1, learning_rate=0.2, max_depth=5, n_estimators=10 \n",
      "[CV]  colsample_bytree=1, learning_rate=0.2, max_depth=5, n_estimators=10, total=   1.9s\n",
      "[CV] colsample_bytree=1, learning_rate=0.2, max_depth=5, n_estimators=10 \n",
      "[CV]  colsample_bytree=1, learning_rate=0.2, max_depth=5, n_estimators=10, total=   1.8s\n",
      "[CV] colsample_bytree=1, learning_rate=0.2, max_depth=5, n_estimators=10 \n",
      "[CV]  colsample_bytree=1, learning_rate=0.2, max_depth=5, n_estimators=10, total=   1.6s\n",
      "[CV] colsample_bytree=1, learning_rate=0.2, max_depth=5, n_estimators=100 \n",
      "[CV]  colsample_bytree=1, learning_rate=0.2, max_depth=5, n_estimators=100, total=  13.9s\n",
      "[CV] colsample_bytree=1, learning_rate=0.2, max_depth=5, n_estimators=100 \n",
      "[CV]  colsample_bytree=1, learning_rate=0.2, max_depth=5, n_estimators=100, total=  14.8s\n",
      "[CV] colsample_bytree=1, learning_rate=0.2, max_depth=5, n_estimators=100 \n",
      "[CV]  colsample_bytree=1, learning_rate=0.2, max_depth=5, n_estimators=100, total=  14.4s\n",
      "[CV] colsample_bytree=1, learning_rate=0.2, max_depth=5, n_estimators=1000 \n",
      "[CV]  colsample_bytree=1, learning_rate=0.2, max_depth=5, n_estimators=1000, total= 2.3min\n",
      "[CV] colsample_bytree=1, learning_rate=0.2, max_depth=5, n_estimators=1000 \n",
      "[CV]  colsample_bytree=1, learning_rate=0.2, max_depth=5, n_estimators=1000, total= 2.4min\n",
      "[CV] colsample_bytree=1, learning_rate=0.2, max_depth=5, n_estimators=1000 \n"
     ]
    },
    {
     "name": "stdout",
     "output_type": "stream",
     "text": [
      "[CV]  colsample_bytree=1, learning_rate=0.2, max_depth=5, n_estimators=1000, total= 2.3min\n",
      "[CV] colsample_bytree=1, learning_rate=0.2, max_depth=7, n_estimators=10 \n",
      "[CV]  colsample_bytree=1, learning_rate=0.2, max_depth=7, n_estimators=10, total=   2.5s\n",
      "[CV] colsample_bytree=1, learning_rate=0.2, max_depth=7, n_estimators=10 \n",
      "[CV]  colsample_bytree=1, learning_rate=0.2, max_depth=7, n_estimators=10, total=   2.3s\n",
      "[CV] colsample_bytree=1, learning_rate=0.2, max_depth=7, n_estimators=10 \n",
      "[CV]  colsample_bytree=1, learning_rate=0.2, max_depth=7, n_estimators=10, total=   2.6s\n",
      "[CV] colsample_bytree=1, learning_rate=0.2, max_depth=7, n_estimators=100 \n",
      "[CV]  colsample_bytree=1, learning_rate=0.2, max_depth=7, n_estimators=100, total=  20.8s\n",
      "[CV] colsample_bytree=1, learning_rate=0.2, max_depth=7, n_estimators=100 \n",
      "[CV]  colsample_bytree=1, learning_rate=0.2, max_depth=7, n_estimators=100, total=  19.9s\n",
      "[CV] colsample_bytree=1, learning_rate=0.2, max_depth=7, n_estimators=100 \n",
      "[CV]  colsample_bytree=1, learning_rate=0.2, max_depth=7, n_estimators=100, total=  19.7s\n",
      "[CV] colsample_bytree=1, learning_rate=0.2, max_depth=7, n_estimators=1000 \n",
      "[CV]  colsample_bytree=1, learning_rate=0.2, max_depth=7, n_estimators=1000, total= 3.3min\n",
      "[CV] colsample_bytree=1, learning_rate=0.2, max_depth=7, n_estimators=1000 \n",
      "[CV]  colsample_bytree=1, learning_rate=0.2, max_depth=7, n_estimators=1000, total= 3.2min\n",
      "[CV] colsample_bytree=1, learning_rate=0.2, max_depth=7, n_estimators=1000 \n",
      "[CV]  colsample_bytree=1, learning_rate=0.2, max_depth=7, n_estimators=1000, total= 3.3min\n",
      "[CV] colsample_bytree=1, learning_rate=0.2, max_depth=10, n_estimators=10 \n",
      "[CV]  colsample_bytree=1, learning_rate=0.2, max_depth=10, n_estimators=10, total=   3.9s\n",
      "[CV] colsample_bytree=1, learning_rate=0.2, max_depth=10, n_estimators=10 \n",
      "[CV]  colsample_bytree=1, learning_rate=0.2, max_depth=10, n_estimators=10, total=   3.6s\n",
      "[CV] colsample_bytree=1, learning_rate=0.2, max_depth=10, n_estimators=10 \n",
      "[CV]  colsample_bytree=1, learning_rate=0.2, max_depth=10, n_estimators=10, total=   3.8s\n",
      "[CV] colsample_bytree=1, learning_rate=0.2, max_depth=10, n_estimators=100 \n",
      "[CV]  colsample_bytree=1, learning_rate=0.2, max_depth=10, n_estimators=100, total=  30.8s\n",
      "[CV] colsample_bytree=1, learning_rate=0.2, max_depth=10, n_estimators=100 \n",
      "[CV]  colsample_bytree=1, learning_rate=0.2, max_depth=10, n_estimators=100, total=  30.1s\n",
      "[CV] colsample_bytree=1, learning_rate=0.2, max_depth=10, n_estimators=100 \n",
      "[CV]  colsample_bytree=1, learning_rate=0.2, max_depth=10, n_estimators=100, total=  29.9s\n",
      "[CV] colsample_bytree=1, learning_rate=0.2, max_depth=10, n_estimators=1000 \n",
      "[CV]  colsample_bytree=1, learning_rate=0.2, max_depth=10, n_estimators=1000, total= 4.9min\n",
      "[CV] colsample_bytree=1, learning_rate=0.2, max_depth=10, n_estimators=1000 \n",
      "[CV]  colsample_bytree=1, learning_rate=0.2, max_depth=10, n_estimators=1000, total= 4.9min\n",
      "[CV] colsample_bytree=1, learning_rate=0.2, max_depth=10, n_estimators=1000 \n",
      "[CV]  colsample_bytree=1, learning_rate=0.2, max_depth=10, n_estimators=1000, total= 4.9min\n"
     ]
    },
    {
     "name": "stderr",
     "output_type": "stream",
     "text": [
      "[Parallel(n_jobs=1)]: Done 216 out of 216 | elapsed: 204.8min finished\n"
     ]
    },
    {
     "data": {
      "text/plain": [
       "GridSearchCV(cv=3, error_score=nan,\n",
       "             estimator=XGBClassifier(base_score=0.5, booster='gbtree',\n",
       "                                     colsample_bylevel=1, colsample_bynode=1,\n",
       "                                     colsample_bytree=1, gamma=0,\n",
       "                                     learning_rate=0.1, max_delta_step=0,\n",
       "                                     max_depth=3, min_child_weight=1,\n",
       "                                     missing=None, n_estimators=100, n_jobs=1,\n",
       "                                     nthread=None, objective='binary:logistic',\n",
       "                                     random_state=42, reg_alpha=0, reg_lambda=1,\n",
       "                                     scale_pos_weight=1, seed=None, silent=None,\n",
       "                                     subsample=1, verbosity=1),\n",
       "             iid='deprecated', n_jobs=None,\n",
       "             param_grid={'colsample_bytree': [0.5, 1],\n",
       "                         'learning_rate': [0.05, 0.1, 0.2],\n",
       "                         'max_depth': [3, 5, 7, 10],\n",
       "                         'n_estimators': [10, 100, 1000]},\n",
       "             pre_dispatch='2*n_jobs', refit=True, return_train_score=False,\n",
       "             scoring='precision', verbose=2)"
      ]
     },
     "execution_count": 55,
     "metadata": {},
     "output_type": "execute_result"
    }
   ],
   "source": [
    "XGB2 = XGBClassifier(random_state=SEED)\n",
    "\n",
    "param_grid = {'max_depth': [3, 5, 7, 10],\n",
    "              'learning_rate': [.05, .1, .2],  \n",
    "              'n_estimators' : [10, 100, 1000],\n",
    "              'colsample_bytree': [.5, 1]\n",
    "             }\n",
    "\n",
    "XGB2_GS = GridSearchCV(XGB2, param_grid, scoring='precision', cv=3, verbose=2)\n",
    "XGB2_GS.fit(X_train, y_train)"
   ]
  },
  {
   "cell_type": "code",
   "execution_count": 58,
   "metadata": {},
   "outputs": [
    {
     "name": "stdout",
     "output_type": "stream",
     "text": [
      "0.7007049824502195\n",
      "{'base_score': 0.5,\n",
      " 'booster': 'gbtree',\n",
      " 'colsample_bylevel': 1,\n",
      " 'colsample_bynode': 1,\n",
      " 'colsample_bytree': 0.5,\n",
      " 'gamma': 0,\n",
      " 'learning_rate': 0.05,\n",
      " 'max_delta_step': 0,\n",
      " 'max_depth': 10,\n",
      " 'min_child_weight': 1,\n",
      " 'missing': None,\n",
      " 'n_estimators': 1000,\n",
      " 'n_jobs': 1,\n",
      " 'nthread': None,\n",
      " 'objective': 'binary:logistic',\n",
      " 'random_state': 42,\n",
      " 'reg_alpha': 0,\n",
      " 'reg_lambda': 1,\n",
      " 'scale_pos_weight': 1,\n",
      " 'seed': None,\n",
      " 'silent': None,\n",
      " 'subsample': 1,\n",
      " 'verbosity': 1}\n"
     ]
    }
   ],
   "source": [
    "print(XGB2_GS.best_score_)\n",
    "pprint(XGB2_GS.best_estimator_.get_params())"
   ]
  },
  {
   "cell_type": "code",
   "execution_count": 56,
   "metadata": {
    "scrolled": false
   },
   "outputs": [
    {
     "data": {
      "image/png": "[encoded data removed]",
      "text/plain": [
       "<Figure size 432x288 with 2 Axes>"
      ]
     },
     "metadata": {
      "needs_background": "light"
     },
     "output_type": "display_data"
    },
    {
     "name": "stdout",
     "output_type": "stream",
     "text": [
      "          | Train  | Test   |\n",
      "          |-----------------|\n",
      "Precision | 89.20% | 71.15% |\n",
      "F1 Score  | 89.06% | 69.01% |\n",
      "ROC-AUC   | 97.68% | 84.25% |\n"
     ]
    },
    {
     "data": {
      "text/html": [
       "<div>\n",
       "<style scoped>\n",
       "    .dataframe tbody tr th:only-of-type {\n",
       "        vertical-align: middle;\n",
       "    }\n",
       "\n",
       "    .dataframe tbody tr th {\n",
       "        vertical-align: top;\n",
       "    }\n",
       "\n",
       "    .dataframe thead th {\n",
       "        text-align: right;\n",
       "    }\n",
       "</style>\n",
       "<table border=\"1\" class=\"dataframe\">\n",
       "  <thead>\n",
       "    <tr style=\"text-align: right;\">\n",
       "      <th></th>\n",
       "      <th>Model</th>\n",
       "      <th>Precision</th>\n",
       "      <th>F1 Score</th>\n",
       "      <th>ROC-AUC</th>\n",
       "    </tr>\n",
       "  </thead>\n",
       "  <tbody>\n",
       "    <tr>\n",
       "      <th>10</th>\n",
       "      <td>GridSearch XGBoost</td>\n",
       "      <td>71.15%</td>\n",
       "      <td>69.01%</td>\n",
       "      <td>74.66%</td>\n",
       "    </tr>\n",
       "    <tr>\n",
       "      <th>9</th>\n",
       "      <td>XGBoost</td>\n",
       "      <td>68.48%</td>\n",
       "      <td>67.20%</td>\n",
       "      <td>73.11%</td>\n",
       "    </tr>\n",
       "    <tr>\n",
       "      <th>8</th>\n",
       "      <td>Gradient Boosting</td>\n",
       "      <td>68.66%</td>\n",
       "      <td>67.31%</td>\n",
       "      <td>73.21%</td>\n",
       "    </tr>\n",
       "    <tr>\n",
       "      <th>7</th>\n",
       "      <td>GridSearch Random Forest</td>\n",
       "      <td>73.02%</td>\n",
       "      <td>32.25%</td>\n",
       "      <td>57.86%</td>\n",
       "    </tr>\n",
       "    <tr>\n",
       "      <th>6</th>\n",
       "      <td>Random Forest</td>\n",
       "      <td>72.09%</td>\n",
       "      <td>45.19%</td>\n",
       "      <td>62.31%</td>\n",
       "    </tr>\n",
       "    <tr>\n",
       "      <th>5</th>\n",
       "      <td>GridSearch Decision Tree</td>\n",
       "      <td>68.55%</td>\n",
       "      <td>51.48%</td>\n",
       "      <td>64.45%</td>\n",
       "    </tr>\n",
       "    <tr>\n",
       "      <th>4</th>\n",
       "      <td>Tuned Decision Tree</td>\n",
       "      <td>68.55%</td>\n",
       "      <td>51.48%</td>\n",
       "      <td>64.45%</td>\n",
       "    </tr>\n",
       "    <tr>\n",
       "      <th>3</th>\n",
       "      <td>Vanilla Decision Tree</td>\n",
       "      <td>60.48%</td>\n",
       "      <td>60.14%</td>\n",
       "      <td>67.19%</td>\n",
       "    </tr>\n",
       "    <tr>\n",
       "      <th>2</th>\n",
       "      <td>GridSearch LogReg</td>\n",
       "      <td>65.88%</td>\n",
       "      <td>62.15%</td>\n",
       "      <td>69.50%</td>\n",
       "    </tr>\n",
       "    <tr>\n",
       "      <th>1</th>\n",
       "      <td>Balanced LogReg</td>\n",
       "      <td>60.61%</td>\n",
       "      <td>66.56%</td>\n",
       "      <td>71.30%</td>\n",
       "    </tr>\n",
       "    <tr>\n",
       "      <th>0</th>\n",
       "      <td>Baseline LogReg</td>\n",
       "      <td>65.87%</td>\n",
       "      <td>62.18%</td>\n",
       "      <td>69.51%</td>\n",
       "    </tr>\n",
       "  </tbody>\n",
       "</table>\n",
       "</div>"
      ],
      "text/plain": [
       "                       Model Precision F1 Score ROC-AUC\n",
       "10        GridSearch XGBoost    71.15%   69.01%  74.66%\n",
       "9                    XGBoost    68.48%   67.20%  73.11%\n",
       "8          Gradient Boosting    68.66%   67.31%  73.21%\n",
       "7   GridSearch Random Forest    73.02%   32.25%  57.86%\n",
       "6              Random Forest    72.09%   45.19%  62.31%\n",
       "5   GridSearch Decision Tree    68.55%   51.48%  64.45%\n",
       "4        Tuned Decision Tree    68.55%   51.48%  64.45%\n",
       "3      Vanilla Decision Tree    60.48%   60.14%  67.19%\n",
       "2          GridSearch LogReg    65.88%   62.15%  69.50%\n",
       "1            Balanced LogReg    60.61%   66.56%  71.30%\n",
       "0            Baseline LogReg    65.87%   62.18%  69.51%"
      ]
     },
     "metadata": {},
     "output_type": "display_data"
    }
   ],
   "source": [
    "sjs.evaluate('GridSearch XGBoost', XGB2_GS.best_estimator_, X_train, X_test, y_train, y_test, use_decision_function='no')"
   ]
  },
  {
   "cell_type": "code",
   "execution_count": 57,
   "metadata": {},
   "outputs": [
    {
     "data": {
      "image/png": "[encoded data removed]",
      "text/plain": [
       "<Figure size 576x360 with 1 Axes>"
      ]
     },
     "metadata": {
      "needs_background": "light"
     },
     "output_type": "display_data"
    }
   ],
   "source": [
    "sjs.plot_feature_imp(XGB2_GS.best_estimator_, X)"
   ]
  },
  {
   "cell_type": "code",
   "execution_count": 59,
   "metadata": {},
   "outputs": [],
   "source": [
    "import pickle\n",
    "pickle.dump(XGB2_GS.best_estimator_, open(\"'spotify.pickle.dat'\", \"wb\"))"
   ]
  },
  {
   "cell_type": "code",
   "execution_count": 63,
   "metadata": {
    "scrolled": true
   },
   "outputs": [
    {
     "name": "stdout",
     "output_type": "stream",
     "text": [
      "Fitting 3 folds for each of 18 candidates, totalling 54 fits\n",
      "[CV] colsample_bytree=0.5, learning_rate=0.05, max_depth=10, n_estimators=1000 \n"
     ]
    },
    {
     "name": "stderr",
     "output_type": "stream",
     "text": [
      "[Parallel(n_jobs=1)]: Using backend SequentialBackend with 1 concurrent workers.\n"
     ]
    },
    {
     "name": "stdout",
     "output_type": "stream",
     "text": [
      "[CV]  colsample_bytree=0.5, learning_rate=0.05, max_depth=10, n_estimators=1000, total= 3.3min\n",
      "[CV] colsample_bytree=0.5, learning_rate=0.05, max_depth=10, n_estimators=1000 \n"
     ]
    },
    {
     "name": "stderr",
     "output_type": "stream",
     "text": [
      "[Parallel(n_jobs=1)]: Done   1 out of   1 | elapsed:  3.3min remaining:    0.0s\n"
     ]
    },
    {
     "name": "stdout",
     "output_type": "stream",
     "text": [
      "[CV]  colsample_bytree=0.5, learning_rate=0.05, max_depth=10, n_estimators=1000, total= 3.1min\n",
      "[CV] colsample_bytree=0.5, learning_rate=0.05, max_depth=10, n_estimators=1000 \n",
      "[CV]  colsample_bytree=0.5, learning_rate=0.05, max_depth=10, n_estimators=1000, total= 3.1min\n",
      "[CV] colsample_bytree=0.5, learning_rate=0.05, max_depth=10, n_estimators=2000 \n",
      "[CV]  colsample_bytree=0.5, learning_rate=0.05, max_depth=10, n_estimators=2000, total= 6.3min\n",
      "[CV] colsample_bytree=0.5, learning_rate=0.05, max_depth=10, n_estimators=2000 \n",
      "[CV]  colsample_bytree=0.5, learning_rate=0.05, max_depth=10, n_estimators=2000, total= 7.1min\n",
      "[CV] colsample_bytree=0.5, learning_rate=0.05, max_depth=10, n_estimators=2000 \n",
      "[CV]  colsample_bytree=0.5, learning_rate=0.05, max_depth=10, n_estimators=2000, total= 8.7min\n",
      "[CV] colsample_bytree=0.5, learning_rate=0.07, max_depth=10, n_estimators=1000 \n",
      "[CV]  colsample_bytree=0.5, learning_rate=0.07, max_depth=10, n_estimators=1000, total= 3.3min\n",
      "[CV] colsample_bytree=0.5, learning_rate=0.07, max_depth=10, n_estimators=1000 \n",
      "[CV]  colsample_bytree=0.5, learning_rate=0.07, max_depth=10, n_estimators=1000, total= 3.7min\n",
      "[CV] colsample_bytree=0.5, learning_rate=0.07, max_depth=10, n_estimators=1000 \n",
      "[CV]  colsample_bytree=0.5, learning_rate=0.07, max_depth=10, n_estimators=1000, total= 3.3min\n",
      "[CV] colsample_bytree=0.5, learning_rate=0.07, max_depth=10, n_estimators=2000 \n",
      "[CV]  colsample_bytree=0.5, learning_rate=0.07, max_depth=10, n_estimators=2000, total= 8.7min\n",
      "[CV] colsample_bytree=0.5, learning_rate=0.07, max_depth=10, n_estimators=2000 \n",
      "[CV]  colsample_bytree=0.5, learning_rate=0.07, max_depth=10, n_estimators=2000, total= 9.3min\n",
      "[CV] colsample_bytree=0.5, learning_rate=0.07, max_depth=10, n_estimators=2000 \n",
      "[CV]  colsample_bytree=0.5, learning_rate=0.07, max_depth=10, n_estimators=2000, total=11.9min\n",
      "[CV] colsample_bytree=0.5, learning_rate=0.09, max_depth=10, n_estimators=1000 \n",
      "[CV]  colsample_bytree=0.5, learning_rate=0.09, max_depth=10, n_estimators=1000, total= 3.9min\n",
      "[CV] colsample_bytree=0.5, learning_rate=0.09, max_depth=10, n_estimators=1000 \n",
      "[CV]  colsample_bytree=0.5, learning_rate=0.09, max_depth=10, n_estimators=1000, total= 4.4min\n",
      "[CV] colsample_bytree=0.5, learning_rate=0.09, max_depth=10, n_estimators=1000 \n",
      "[CV]  colsample_bytree=0.5, learning_rate=0.09, max_depth=10, n_estimators=1000, total= 3.6min\n",
      "[CV] colsample_bytree=0.5, learning_rate=0.09, max_depth=10, n_estimators=2000 \n",
      "[CV]  colsample_bytree=0.5, learning_rate=0.09, max_depth=10, n_estimators=2000, total=10.0min\n",
      "[CV] colsample_bytree=0.5, learning_rate=0.09, max_depth=10, n_estimators=2000 \n",
      "[CV]  colsample_bytree=0.5, learning_rate=0.09, max_depth=10, n_estimators=2000, total= 8.0min\n",
      "[CV] colsample_bytree=0.5, learning_rate=0.09, max_depth=10, n_estimators=2000 \n",
      "[CV]  colsample_bytree=0.5, learning_rate=0.09, max_depth=10, n_estimators=2000, total= 6.9min\n",
      "[CV] colsample_bytree=0.7, learning_rate=0.05, max_depth=10, n_estimators=1000 \n",
      "[CV]  colsample_bytree=0.7, learning_rate=0.05, max_depth=10, n_estimators=1000, total= 5.7min\n",
      "[CV] colsample_bytree=0.7, learning_rate=0.05, max_depth=10, n_estimators=1000 \n",
      "[CV]  colsample_bytree=0.7, learning_rate=0.05, max_depth=10, n_estimators=1000, total= 5.7min\n",
      "[CV] colsample_bytree=0.7, learning_rate=0.05, max_depth=10, n_estimators=1000 \n",
      "[CV]  colsample_bytree=0.7, learning_rate=0.05, max_depth=10, n_estimators=1000, total= 7.1min\n",
      "[CV] colsample_bytree=0.7, learning_rate=0.05, max_depth=10, n_estimators=2000 \n",
      "[CV]  colsample_bytree=0.7, learning_rate=0.05, max_depth=10, n_estimators=2000, total= 9.4min\n",
      "[CV] colsample_bytree=0.7, learning_rate=0.05, max_depth=10, n_estimators=2000 \n",
      "[CV]  colsample_bytree=0.7, learning_rate=0.05, max_depth=10, n_estimators=2000, total= 8.4min\n",
      "[CV] colsample_bytree=0.7, learning_rate=0.05, max_depth=10, n_estimators=2000 \n",
      "[CV]  colsample_bytree=0.7, learning_rate=0.05, max_depth=10, n_estimators=2000, total= 8.1min\n",
      "[CV] colsample_bytree=0.7, learning_rate=0.07, max_depth=10, n_estimators=1000 \n",
      "[CV]  colsample_bytree=0.7, learning_rate=0.07, max_depth=10, n_estimators=1000, total= 3.9min\n",
      "[CV] colsample_bytree=0.7, learning_rate=0.07, max_depth=10, n_estimators=1000 \n",
      "[CV]  colsample_bytree=0.7, learning_rate=0.07, max_depth=10, n_estimators=1000, total= 4.0min\n",
      "[CV] colsample_bytree=0.7, learning_rate=0.07, max_depth=10, n_estimators=1000 \n",
      "[CV]  colsample_bytree=0.7, learning_rate=0.07, max_depth=10, n_estimators=1000, total= 3.8min\n",
      "[CV] colsample_bytree=0.7, learning_rate=0.07, max_depth=10, n_estimators=2000 \n",
      "[CV]  colsample_bytree=0.7, learning_rate=0.07, max_depth=10, n_estimators=2000, total= 8.1min\n",
      "[CV] colsample_bytree=0.7, learning_rate=0.07, max_depth=10, n_estimators=2000 \n",
      "[CV]  colsample_bytree=0.7, learning_rate=0.07, max_depth=10, n_estimators=2000, total= 8.3min\n",
      "[CV] colsample_bytree=0.7, learning_rate=0.07, max_depth=10, n_estimators=2000 \n",
      "[CV]  colsample_bytree=0.7, learning_rate=0.07, max_depth=10, n_estimators=2000, total= 8.9min\n",
      "[CV] colsample_bytree=0.7, learning_rate=0.09, max_depth=10, n_estimators=1000 \n",
      "[CV]  colsample_bytree=0.7, learning_rate=0.09, max_depth=10, n_estimators=1000, total= 4.0min\n",
      "[CV] colsample_bytree=0.7, learning_rate=0.09, max_depth=10, n_estimators=1000 \n",
      "[CV]  colsample_bytree=0.7, learning_rate=0.09, max_depth=10, n_estimators=1000, total= 5.1min\n",
      "[CV] colsample_bytree=0.7, learning_rate=0.09, max_depth=10, n_estimators=1000 \n",
      "[CV]  colsample_bytree=0.7, learning_rate=0.09, max_depth=10, n_estimators=1000, total= 4.4min\n",
      "[CV] colsample_bytree=0.7, learning_rate=0.09, max_depth=10, n_estimators=2000 \n",
      "[CV]  colsample_bytree=0.7, learning_rate=0.09, max_depth=10, n_estimators=2000, total=12.2min\n",
      "[CV] colsample_bytree=0.7, learning_rate=0.09, max_depth=10, n_estimators=2000 \n",
      "[CV]  colsample_bytree=0.7, learning_rate=0.09, max_depth=10, n_estimators=2000, total=14.7min\n",
      "[CV] colsample_bytree=0.7, learning_rate=0.09, max_depth=10, n_estimators=2000 \n",
      "[CV]  colsample_bytree=0.7, learning_rate=0.09, max_depth=10, n_estimators=2000, total=11.9min\n",
      "[CV] colsample_bytree=0.9, learning_rate=0.05, max_depth=10, n_estimators=1000 \n",
      "[CV]  colsample_bytree=0.9, learning_rate=0.05, max_depth=10, n_estimators=1000, total= 5.3min\n",
      "[CV] colsample_bytree=0.9, learning_rate=0.05, max_depth=10, n_estimators=1000 \n",
      "[CV]  colsample_bytree=0.9, learning_rate=0.05, max_depth=10, n_estimators=1000, total= 4.8min\n",
      "[CV] colsample_bytree=0.9, learning_rate=0.05, max_depth=10, n_estimators=1000 \n",
      "[CV]  colsample_bytree=0.9, learning_rate=0.05, max_depth=10, n_estimators=1000, total= 4.8min\n",
      "[CV] colsample_bytree=0.9, learning_rate=0.05, max_depth=10, n_estimators=2000 \n",
      "[CV]  colsample_bytree=0.9, learning_rate=0.05, max_depth=10, n_estimators=2000, total=10.2min\n",
      "[CV] colsample_bytree=0.9, learning_rate=0.05, max_depth=10, n_estimators=2000 \n",
      "[CV]  colsample_bytree=0.9, learning_rate=0.05, max_depth=10, n_estimators=2000, total= 9.4min\n",
      "[CV] colsample_bytree=0.9, learning_rate=0.05, max_depth=10, n_estimators=2000 \n",
      "[CV]  colsample_bytree=0.9, learning_rate=0.05, max_depth=10, n_estimators=2000, total=10.2min\n",
      "[CV] colsample_bytree=0.9, learning_rate=0.07, max_depth=10, n_estimators=1000 \n",
      "[CV]  colsample_bytree=0.9, learning_rate=0.07, max_depth=10, n_estimators=1000, total= 6.4min\n",
      "[CV] colsample_bytree=0.9, learning_rate=0.07, max_depth=10, n_estimators=1000 \n",
      "[CV]  colsample_bytree=0.9, learning_rate=0.07, max_depth=10, n_estimators=1000, total= 4.8min\n",
      "[CV] colsample_bytree=0.9, learning_rate=0.07, max_depth=10, n_estimators=1000 \n",
      "[CV]  colsample_bytree=0.9, learning_rate=0.07, max_depth=10, n_estimators=1000, total= 7.4min\n",
      "[CV] colsample_bytree=0.9, learning_rate=0.07, max_depth=10, n_estimators=2000 \n",
      "[CV]  colsample_bytree=0.9, learning_rate=0.07, max_depth=10, n_estimators=2000, total=11.4min\n",
      "[CV] colsample_bytree=0.9, learning_rate=0.07, max_depth=10, n_estimators=2000 \n",
      "[CV]  colsample_bytree=0.9, learning_rate=0.07, max_depth=10, n_estimators=2000, total= 9.4min\n",
      "[CV] colsample_bytree=0.9, learning_rate=0.07, max_depth=10, n_estimators=2000 \n",
      "[CV]  colsample_bytree=0.9, learning_rate=0.07, max_depth=10, n_estimators=2000, total= 9.7min\n",
      "[CV] colsample_bytree=0.9, learning_rate=0.09, max_depth=10, n_estimators=1000 \n"
     ]
    },
    {
     "name": "stdout",
     "output_type": "stream",
     "text": [
      "[CV]  colsample_bytree=0.9, learning_rate=0.09, max_depth=10, n_estimators=1000, total= 4.6min\n",
      "[CV] colsample_bytree=0.9, learning_rate=0.09, max_depth=10, n_estimators=1000 \n",
      "[CV]  colsample_bytree=0.9, learning_rate=0.09, max_depth=10, n_estimators=1000, total= 4.7min\n",
      "[CV] colsample_bytree=0.9, learning_rate=0.09, max_depth=10, n_estimators=1000 \n",
      "[CV]  colsample_bytree=0.9, learning_rate=0.09, max_depth=10, n_estimators=1000, total= 5.7min\n",
      "[CV] colsample_bytree=0.9, learning_rate=0.09, max_depth=10, n_estimators=2000 \n",
      "[CV]  colsample_bytree=0.9, learning_rate=0.09, max_depth=10, n_estimators=2000, total=13.9min\n",
      "[CV] colsample_bytree=0.9, learning_rate=0.09, max_depth=10, n_estimators=2000 \n",
      "[CV]  colsample_bytree=0.9, learning_rate=0.09, max_depth=10, n_estimators=2000, total=11.9min\n",
      "[CV] colsample_bytree=0.9, learning_rate=0.09, max_depth=10, n_estimators=2000 \n",
      "[CV]  colsample_bytree=0.9, learning_rate=0.09, max_depth=10, n_estimators=2000, total=11.9min\n"
     ]
    },
    {
     "name": "stderr",
     "output_type": "stream",
     "text": [
      "[Parallel(n_jobs=1)]: Done  54 out of  54 | elapsed: 389.1min finished\n"
     ]
    },
    {
     "data": {
      "text/plain": [
       "GridSearchCV(cv=3, error_score=nan,\n",
       "             estimator=XGBClassifier(base_score=0.5, booster='gbtree',\n",
       "                                     colsample_bylevel=1, colsample_bynode=1,\n",
       "                                     colsample_bytree=1, gamma=0,\n",
       "                                     learning_rate=0.1, max_delta_step=0,\n",
       "                                     max_depth=3, min_child_weight=1,\n",
       "                                     missing=None, n_estimators=100, n_jobs=1,\n",
       "                                     nthread=None, objective='binary:logistic',\n",
       "                                     random_state=42, reg_alpha=0, reg_lambda=1,\n",
       "                                     scale_pos_weight=1, seed=None, silent=None,\n",
       "                                     subsample=1, verbosity=1),\n",
       "             iid='deprecated', n_jobs=None,\n",
       "             param_grid={'colsample_bytree': [0.5, 0.7, 0.9],\n",
       "                         'learning_rate': [0.05, 0.07, 0.09], 'max_depth': [10],\n",
       "                         'n_estimators': [1000, 2000]},\n",
       "             pre_dispatch='2*n_jobs', refit=True, return_train_score=False,\n",
       "             scoring='precision', verbose=2)"
      ]
     },
     "execution_count": 63,
     "metadata": {},
     "output_type": "execute_result"
    }
   ],
   "source": [
    "XGB3 = XGBClassifier(random_state=SEED)\n",
    "\n",
    "param_grid = {'max_depth': [10],\n",
    "              'learning_rate': [.05, .07, .09],  \n",
    "              'n_estimators' : [1000, 2000],\n",
    "              'colsample_bytree': [.5, .7, .9]\n",
    "             }\n",
    "\n",
    "XGB3_gs = GridSearchCV(XGB3, param_grid, scoring='precision', cv=3, verbose=2)\n",
    "XGB3_gs.fit(X_train, y_train)"
   ]
  },
  {
   "cell_type": "code",
   "execution_count": 65,
   "metadata": {
    "scrolled": false
   },
   "outputs": [
    {
     "name": "stdout",
     "output_type": "stream",
     "text": [
      "0.7007049824502195\n",
      "{'base_score': 0.5,\n",
      " 'booster': 'gbtree',\n",
      " 'colsample_bylevel': 1,\n",
      " 'colsample_bynode': 1,\n",
      " 'colsample_bytree': 0.5,\n",
      " 'gamma': 0,\n",
      " 'learning_rate': 0.05,\n",
      " 'max_delta_step': 0,\n",
      " 'max_depth': 10,\n",
      " 'min_child_weight': 1,\n",
      " 'missing': None,\n",
      " 'n_estimators': 1000,\n",
      " 'n_jobs': 1,\n",
      " 'nthread': None,\n",
      " 'objective': 'binary:logistic',\n",
      " 'random_state': 42,\n",
      " 'reg_alpha': 0,\n",
      " 'reg_lambda': 1,\n",
      " 'scale_pos_weight': 1,\n",
      " 'seed': None,\n",
      " 'silent': None,\n",
      " 'subsample': 1,\n",
      " 'verbosity': 1}\n"
     ]
    }
   ],
   "source": [
    "print(XGB3_gs.best_score_)\n",
    "pprint(XGB3_gs.best_estimator_.get_params())"
   ]
  },
  {
   "cell_type": "markdown",
   "metadata": {},
   "source": [
    "Same results as earlier GridSearch"
   ]
  },
  {
   "cell_type": "markdown",
   "metadata": {},
   "source": [
    "---\n",
    "\n",
    "## Recommendations\n",
    "\n",
    "Write recommendations here"
   ]
  },
  {
   "cell_type": "markdown",
   "metadata": {},
   "source": [
    "---\n",
    "\n",
    "## Future Work\n",
    "\n",
    "Write future work here:\n",
    "\n",
    "1) what is the mean median and mode popularity of the the songs predicted to be popular  \n",
    "2) effect of date   \n",
    "3) effect of artist name or combination of artist"
   ]
  },
  {
   "cell_type": "markdown",
   "metadata": {},
   "source": [
    "---\n",
    "## Edited Visualizations for Non-Technical Presentation"
   ]
  }
 ],
 "metadata": {
  "kernelspec": {
   "display_name": "learn-env",
   "language": "python",
   "name": "learn-env"
  },
  "language_info": {
   "codemirror_mode": {
    "name": "ipython",
    "version": 3
   },
   "file_extension": ".py",
   "mimetype": "text/x-python",
   "name": "python",
   "nbconvert_exporter": "python",
   "pygments_lexer": "ipython3",
   "version": "3.6.9"
  }
 },
 "nbformat": 4,
 "nbformat_minor": 4
}
